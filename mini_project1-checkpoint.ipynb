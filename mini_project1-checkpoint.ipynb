{
 "cells": [
  {
   "cell_type": "code",
   "execution_count": 1,
   "id": "dc671647",
   "metadata": {},
   "outputs": [],
   "source": [
    "import selenium"
   ]
  },
  {
   "cell_type": "code",
   "execution_count": 2,
   "id": "c0fabef7",
   "metadata": {},
   "outputs": [],
   "source": [
    "from selenium import webdriver"
   ]
  },
  {
   "cell_type": "code",
   "execution_count": 3,
   "id": "10897462",
   "metadata": {},
   "outputs": [],
   "source": [
    "import time"
   ]
  },
  {
   "cell_type": "code",
   "execution_count": 4,
   "id": "1c597e08",
   "metadata": {},
   "outputs": [],
   "source": [
    "from bs4 import BeautifulSoup"
   ]
  },
  {
   "cell_type": "code",
   "execution_count": 5,
   "id": "b0855a7d",
   "metadata": {},
   "outputs": [],
   "source": [
    "import pymysql"
   ]
  },
  {
   "cell_type": "markdown",
   "id": "f3078bfe",
   "metadata": {},
   "source": [
    "# 많이 선물한 선물 1만원 미만 top20"
   ]
  },
  {
   "cell_type": "code",
   "execution_count": 6,
   "id": "96bd96e3",
   "metadata": {},
   "outputs": [],
   "source": [
    "driver = webdriver.Chrome()"
   ]
  },
  {
   "cell_type": "code",
   "execution_count": 7,
   "id": "022161de",
   "metadata": {},
   "outputs": [],
   "source": [
    "driver.get('https://gift.kakao.com/home?targetType=ALL&rankType=MANY_RECEIVE&priceRange={%22min%22:0,%22max%22:9999}')"
   ]
  },
  {
   "cell_type": "code",
   "execution_count": 8,
   "id": "3ece0d72",
   "metadata": {},
   "outputs": [
    {
     "name": "stdout",
     "output_type": "stream",
     "text": [
      "Sroll done!!\n"
     ]
    }
   ],
   "source": [
    "prev_height = driver.execute_script('return document.body.scrollHeight')\n",
    "\n",
    "while True:\n",
    "    driver.execute_script('window.scrollTo(0, document.body.scrollHeight)')\n",
    "    time.sleep(1)\n",
    "    cur_height = driver.execute_script('return document.body.scrollHeight')\n",
    "    \n",
    "    if cur_height == prev_height:\n",
    "        break\n",
    "        \n",
    "    prev_height = cur_height\n",
    "print(\"Sroll done!!\")"
   ]
  },
  {
   "cell_type": "code",
   "execution_count": 9,
   "id": "15422a77",
   "metadata": {},
   "outputs": [],
   "source": [
    "driver.execute_script(\"window.scrollTo(0, 2500)\")"
   ]
  },
  {
   "cell_type": "code",
   "execution_count": 10,
   "id": "552bf072",
   "metadata": {},
   "outputs": [],
   "source": [
    "button1 = driver.find_element_by_xpath('//*[@id=\"mArticle\"]/div[5]/app-products-ranking/div[2]/div[2]/button')\n",
    "button1.click()"
   ]
  },
  {
   "cell_type": "code",
   "execution_count": 11,
   "id": "d1440277",
   "metadata": {},
   "outputs": [
    {
     "data": {
      "text/plain": [
       "['팔도)왕뚜껑(대컵)',\n",
       " '롯데)핫식스250ML',\n",
       " '오리온)꼬북칩초코츄러스',\n",
       " '롯데)레쓰비마일드200ML',\n",
       " '맥크리스피 디럭스 버거 세트',\n",
       " '롯데)아몬드빼빼로',\n",
       " '삼경)하리보골드바렌2000',\n",
       " '아이스 카페 아메리카노 T',\n",
       " '동아오츠카)포카리스웨트620ml',\n",
       " '쿠앤크 리터치노 Mini',\n",
       " '오뚜기)진라면매운맛(대컵)',\n",
       " '완전망고주스',\n",
       " '\"피로회복 따블\" 광동)비타500병180ml + 동아)오로나민C병120ml',\n",
       " '디지털 상품권 5천원권',\n",
       " '크라운)새콤달콤포도29g',\n",
       " '파인트 아이스크림',\n",
       " '글씨각인 소주잔 2개 세트, 마음술잔',\n",
       " '박카스에프120ml',\n",
       " \"'쿼여워~' 행복한 동물 플러피 쿼카 가방고리 키링 브라운 크림\",\n",
       " '아이스 아메리카노(시그니처)']"
      ]
     },
     "execution_count": 11,
     "metadata": {},
     "output_type": "execute_result"
    }
   ],
   "source": [
    "give_presents1 = []\n",
    "for i in range(1,21):\n",
    "    give_present = driver.find_element_by_xpath('//*[@id=\"mArticle\"]/div[5]/app-products-ranking/div[2]/ol/li[{}]/gl-link/a/span[2]/em'.format(i))\n",
    "    give_presents1.append(give_present.text)\n",
    "give_presents1"
   ]
  },
  {
   "cell_type": "markdown",
   "id": "2246023f",
   "metadata": {},
   "source": [
    "# 많이 선물한 선물 1~2만원 top20"
   ]
  },
  {
   "cell_type": "code",
   "execution_count": 12,
   "id": "1b6d42ad",
   "metadata": {},
   "outputs": [],
   "source": [
    "driver.get('https://gift.kakao.com/home?targetType=ALL&rankType=MANY_RECEIVE&priceRange={%22min%22:10000,%22max%22:29999}')"
   ]
  },
  {
   "cell_type": "code",
   "execution_count": 13,
   "id": "9d0511dd",
   "metadata": {},
   "outputs": [
    {
     "name": "stdout",
     "output_type": "stream",
     "text": [
      "Sroll done!!\n"
     ]
    }
   ],
   "source": [
    "prev_height = driver.execute_script('return document.body.scrollHeight')\n",
    "\n",
    "while True:\n",
    "    driver.execute_script('window.scrollTo(0, document.body.scrollHeight)')\n",
    "    time.sleep(1)\n",
    "    cur_height = driver.execute_script('return document.body.scrollHeight')\n",
    "    \n",
    "    if cur_height == prev_height:\n",
    "        break\n",
    "        \n",
    "    prev_height = cur_height\n",
    "print(\"Sroll done!!\")"
   ]
  },
  {
   "cell_type": "code",
   "execution_count": 14,
   "id": "3a200534",
   "metadata": {},
   "outputs": [],
   "source": [
    "driver.execute_script(\"window.scrollTo(0, 2500)\")"
   ]
  },
  {
   "cell_type": "code",
   "execution_count": 15,
   "id": "994df02d",
   "metadata": {},
   "outputs": [],
   "source": [
    "button1 = driver.find_element_by_xpath('//*[@id=\"mArticle\"]/div[5]/app-products-ranking/div[2]/div[2]/button')\n",
    "button1.click()"
   ]
  },
  {
   "cell_type": "code",
   "execution_count": 16,
   "id": "15d3bcf1",
   "metadata": {},
   "outputs": [
    {
     "data": {
      "text/plain": [
       "['\"쓸모없는선물\" 소두곰인형 (47cm) 동물 캐릭터 곰돌이인형 쓸데없는선물',\n",
       " '1만원권',\n",
       " '\"쓸모없는 선물\" 외계인 가면 왹져 할로윈 생일선물 쓸데없는 신박한 선물',\n",
       " '\"식빵 굽는 냥이\" 모어모어 고양이 토끼 미니러그 2종택1',\n",
       " '볼빵빵말랑쿠션_죠르디',\n",
       " '\"간건강최강조합\" 메이준뉴트리 숙취해소제 술이술이 깨술이 + 밀크씨슬 선물세트',\n",
       " '카카오프렌즈 워치톡 애플워치 보조배터리(라이언/어피치/춘식이)',\n",
       " '\"항상 너의 곁에 있을게\" 노블레빗 토끼 애착인형 30cm',\n",
       " '꿀잠베이비필로우',\n",
       " '포켓몬스터 메타몽 인형 M(퍼플)',\n",
       " '[누적판매 9만개] 오아 슬리머지길 바래 온열 허리 배 종아리 전신 마사지기 안마기 (톡별) (OA-MA900)',\n",
       " '차량용 인형 안전벨트 커버_리틀어피치',\n",
       " '\"안고만 있어도 좋아\" 룸앤홈 대형 모찌 쿠션 바디필로우 3종택1',\n",
       " '\"나를 위한 힐링 타임이 필요할때\" 불타는 무드등 A형 불멍 생일선물 [스트레스완화]',\n",
       " '\"베리베리 달고나\" 떠먹는 스트로베리 초콜릿 생크림 + 달고나 카페 라떼 (R)',\n",
       " '\"꽃길만 걷자 세트\" 레드벨벳 피스 + 아메리카노 (R) + 마카롱',\n",
       " '\"오늘부터 꿀잠\" 토끼 아로마오일버너 선물세트(에센셜오일포함)',\n",
       " \"'촉촉한 바디' 2종 세트 (샤워젤리+바디로션)\",\n",
       " '\"톡별\" [숙면/힐링선물] 라운드어라운드 슬립베러 필로우미스트&포레스트 센티드 바디미스트 톡별세트',\n",
       " '\"리필내지 추가증정\" A5 6공 바인더 접착식 앨범 네컷 초음파 사진 포카 포토북 인생 선물 커플']"
      ]
     },
     "execution_count": 16,
     "metadata": {},
     "output_type": "execute_result"
    }
   ],
   "source": [
    "give_presents2 = []\n",
    "for i in range(1,21):\n",
    "    give_present = driver.find_element_by_xpath('//*[@id=\"mArticle\"]/div[5]/app-products-ranking/div[2]/ol/li[{}]/gl-link/a/span[2]/em'.format(i))\n",
    "    give_presents2.append(give_present.text)\n",
    "give_presents2"
   ]
  },
  {
   "cell_type": "markdown",
   "id": "135cf356",
   "metadata": {},
   "source": [
    "# 많이 선물한 선물 3~4만원 top20"
   ]
  },
  {
   "cell_type": "code",
   "execution_count": 17,
   "id": "e4dec34b",
   "metadata": {},
   "outputs": [],
   "source": [
    "driver.get('https://gift.kakao.com/home?targetType=ALL&rankType=MANY_RECEIVE&priceRange={%22min%22:30000,%22max%22:49999}')"
   ]
  },
  {
   "cell_type": "code",
   "execution_count": 18,
   "id": "c88986bf",
   "metadata": {},
   "outputs": [
    {
     "name": "stdout",
     "output_type": "stream",
     "text": [
      "Sroll done!!\n"
     ]
    }
   ],
   "source": [
    "prev_height = driver.execute_script('return document.body.scrollHeight')\n",
    "\n",
    "while True:\n",
    "    driver.execute_script('window.scrollTo(0, document.body.scrollHeight)')\n",
    "    time.sleep(1)\n",
    "    cur_height = driver.execute_script('return document.body.scrollHeight')\n",
    "    \n",
    "    if cur_height == prev_height:\n",
    "        break\n",
    "        \n",
    "    prev_height = cur_height\n",
    "print(\"Sroll done!!\")"
   ]
  },
  {
   "cell_type": "code",
   "execution_count": 19,
   "id": "616b8a9a",
   "metadata": {},
   "outputs": [],
   "source": [
    "driver.execute_script(\"window.scrollTo(0, 2500)\")"
   ]
  },
  {
   "cell_type": "code",
   "execution_count": 20,
   "id": "395ecf53",
   "metadata": {},
   "outputs": [],
   "source": [
    "button1 = driver.find_element_by_xpath('//*[@id=\"mArticle\"]/div[5]/app-products-ranking/div[2]/div[2]/button')\n",
    "button1.click()"
   ]
  },
  {
   "cell_type": "code",
   "execution_count": 21,
   "id": "d1ed0342",
   "metadata": {},
   "outputs": [
    {
     "data": {
      "text/plain": [
       "['\"달콤한 시간\" 스트로베리 초콜릿 생크림 + 아메리카노 (R) 3잔',\n",
       " '\"진로 한잠 어때?\" 진로 소주병 바디필로우 100cm (톡별)',\n",
       " '\"집들이/생일선물\" 감성 초승달 무드등 [고정문구각인]',\n",
       " '[선물하기 단독] 달바 비건 워터풀 선크림 2종 기프트 세트(에센스선+톤업선+글로우파우치)',\n",
       " '[24시피부케어/선물포장]멀티밤&아이밤',\n",
       " '디지털 상품권 3만원권',\n",
       " '\"건강한 하루 한포\" 당신을 위한 건강레시피 멀티팩 30포 1개월분 틴케이스+쇼핑백 증정',\n",
       " '\"취업/이직/생일선물\" [빈지노 PICK] 그라펜 타투 퍼퓸 원우드 50ml (+파우치 증정)',\n",
       " '[감성/집들이선물] \"불멍 풀세트\" 수퍼블릭 실내용 애타는램프SET (램프+에탄올+점화기)',\n",
       " '[본사직영] 볼빅 골드에디션 솔리체 프리미엄 5알+골드볼마커',\n",
       " '오메가3골드업(180캡슐_6개월분) 선물세트',\n",
       " '*지비츠증정8/12-8/21* 크록스 바야밴드 크록밴드 클로그K 샌들 슬리퍼 12종',\n",
       " '\"생일선물\" \"해피데이돼소\" 소 갈비살 부채살 이베리코 돼지 목살 선물',\n",
       " '[선물포장] NEW 디올 어딕트 립 틴트',\n",
       " \"달바 '비건' 화이트 트러플 미스트 세럼 세트(100ml+50ml+파우치)(톡별)\",\n",
       " \"러쉬 '제비꽃 그 향 ' 대디오 250g - 리퀴드 샴푸\",\n",
       " '[인기판매] 최고의 부드러움 밀크 크레이프 케이크',\n",
       " \"'촉촉한 샤워 젤' 러쉬 샤워 젤 3종 중 택1\",\n",
       " '트리플 베리 생크림',\n",
       " '\"선물 패키지\" 홈 카페 글라스 세트 (글라스2P+코스터2P)']"
      ]
     },
     "execution_count": 21,
     "metadata": {},
     "output_type": "execute_result"
    }
   ],
   "source": [
    "give_presents3 = []\n",
    "for i in range(1,21):\n",
    "    give_present = driver.find_element_by_xpath('//*[@id=\"mArticle\"]/div[5]/app-products-ranking/div[2]/ol/li[{}]/gl-link/a/span[2]/em'.format(i))\n",
    "    give_presents3.append(give_present.text)\n",
    "give_presents3"
   ]
  },
  {
   "cell_type": "markdown",
   "id": "998ca58d",
   "metadata": {},
   "source": [
    "# 많이 선물한 선물 5만원 이상 top20"
   ]
  },
  {
   "cell_type": "code",
   "execution_count": 22,
   "id": "170f9765",
   "metadata": {},
   "outputs": [],
   "source": [
    "driver.get('https://gift.kakao.com/home?targetType=ALL&rankType=MANY_RECEIVE&priceRange={%22min%22:50000,%22max%22:5000000}')"
   ]
  },
  {
   "cell_type": "code",
   "execution_count": 23,
   "id": "fbf8fb4c",
   "metadata": {},
   "outputs": [
    {
     "name": "stdout",
     "output_type": "stream",
     "text": [
      "Sroll done!!\n"
     ]
    }
   ],
   "source": [
    "prev_height = driver.execute_script('return document.body.scrollHeight')\n",
    "\n",
    "while True:\n",
    "    driver.execute_script('window.scrollTo(0, document.body.scrollHeight)')\n",
    "    time.sleep(1)\n",
    "    cur_height = driver.execute_script('return document.body.scrollHeight')\n",
    "    \n",
    "    if cur_height == prev_height:\n",
    "        break\n",
    "        \n",
    "    prev_height = cur_height\n",
    "print(\"Sroll done!!\")"
   ]
  },
  {
   "cell_type": "code",
   "execution_count": 24,
   "id": "d342ef4c",
   "metadata": {},
   "outputs": [],
   "source": [
    "driver.execute_script(\"window.scrollTo(0, 2500)\")"
   ]
  },
  {
   "cell_type": "code",
   "execution_count": 25,
   "id": "9755b4d2",
   "metadata": {},
   "outputs": [],
   "source": [
    "button1 = driver.find_element_by_xpath('//*[@id=\"mArticle\"]/div[5]/app-products-ranking/div[2]/div[2]/button')\n",
    "button1.click()"
   ]
  },
  {
   "cell_type": "code",
   "execution_count": 26,
   "id": "19f9852a",
   "metadata": {},
   "outputs": [
    {
     "data": {
      "text/plain": [
       "['카카오프렌즈 블루투스 마이크 스피커 (미러볼,전용파우치 포함)',\n",
       " '[석교정품]22년 브리지스톤 TOUR B XS 타이거우즈 골프공_3피스',\n",
       " '정관장 굿베이스 홍삼담은 석류 50ml 30포',\n",
       " '[선물포장] \"여름선물\" 모로칸오일 라이트 100ml (샴푸+컨디+오일 증정)',\n",
       " '모바일금액권 5만원권',\n",
       " '[각인/선물포장] 루즈 디올',\n",
       " '[단독/선물포장] NEW 바뇨쉬우마 바디워시 (8종 택1)',\n",
       " '[각인/선물포장] 오 드 퍼퓸 포터블 30ML (6종 중 택1)',\n",
       " '[선물포장] 리브르 오 드 뚜왈렛 30ml',\n",
       " '[선물포장] 프로퓨모 뻬르 앰비엔테 디퓨저 (5종 택1)',\n",
       " '시그니처 모노그램 소프트 코튼 CK 3종 볼캡',\n",
       " '\"건강을 위한 선물\" 오엘라 공기압 발 마사지기 온열 안마기 후기 이벤트 증정',\n",
       " '[선물세트] 핸드워시 & 핸드크림 세트 (6종 중 택1)',\n",
       " '[선물포장] 오드퍼퓸 75ml (11종 택1)',\n",
       " '애슐리 외식통합 기프트카드 5만원권',\n",
       " '디지털 상품권 5만원권',\n",
       " '신세계상품권 모바일교환권 100,000원',\n",
       " '\"룸 스프레이\" [엽서] 멀티프래그런스 100ml (5종 택1)',\n",
       " 'New 춘식이 롱 바디필로우 (톡별)',\n",
       " '\"MD선물세트\" SS 미르 사이렌 민트 텀블러 591ml+비아 디카페인 하우스 블렌드 12개입']"
      ]
     },
     "execution_count": 26,
     "metadata": {},
     "output_type": "execute_result"
    }
   ],
   "source": [
    "give_presents5 = []\n",
    "for i in range(1,21):\n",
    "    give_present = driver.find_element_by_xpath('//*[@id=\"mArticle\"]/div[5]/app-products-ranking/div[2]/ol/li[{}]/gl-link/a/span[2]/em'.format(i))\n",
    "    give_presents5.append(give_present.text)\n",
    "give_presents5"
   ]
  },
  {
   "cell_type": "markdown",
   "id": "e3dbd90b",
   "metadata": {},
   "source": [
    "# 받고 싶어한 선물한 선물 1만원 미만 top20"
   ]
  },
  {
   "cell_type": "code",
   "execution_count": 27,
   "id": "0f805f7a",
   "metadata": {},
   "outputs": [],
   "source": [
    "driver.get('https://gift.kakao.com/home?targetType=ALL&rankType=MANY_WISH&priceRange={%22min%22:0,%22max%22:9999}')"
   ]
  },
  {
   "cell_type": "code",
   "execution_count": 28,
   "id": "0f1b40bd",
   "metadata": {},
   "outputs": [
    {
     "name": "stdout",
     "output_type": "stream",
     "text": [
      "Sroll done!!\n"
     ]
    }
   ],
   "source": [
    "prev_height = driver.execute_script('return document.body.scrollHeight')\n",
    "\n",
    "while True:\n",
    "    driver.execute_script('window.scrollTo(0, document.body.scrollHeight)')\n",
    "    time.sleep(1)\n",
    "    cur_height = driver.execute_script('return document.body.scrollHeight')\n",
    "    \n",
    "    if cur_height == prev_height:\n",
    "        break\n",
    "        \n",
    "    prev_height = cur_height\n",
    "print(\"Sroll done!!\")"
   ]
  },
  {
   "cell_type": "code",
   "execution_count": 29,
   "id": "83e94fd6",
   "metadata": {},
   "outputs": [],
   "source": [
    "driver.execute_script(\"window.scrollTo(0, 2500)\")"
   ]
  },
  {
   "cell_type": "code",
   "execution_count": 30,
   "id": "2cb9c5a3",
   "metadata": {},
   "outputs": [],
   "source": [
    "button1 = driver.find_element_by_xpath('//*[@id=\"mArticle\"]/div[5]/app-products-ranking/div[2]/div[2]/button')\n",
    "button1.click()"
   ]
  },
  {
   "cell_type": "code",
   "execution_count": 31,
   "id": "8892ee2a",
   "metadata": {},
   "outputs": [
    {
     "data": {
      "text/plain": [
       "['\"집순이 선물\" New 춘식이 피규어 유리머그 2종택1 (톡별)',\n",
       " '\"쓸모없는 선물\" 메타몽 반지 목걸이 세트 생일선물 쓸데없는 신박한 선물',\n",
       " '\"쓸모없는 선물\" 타투 쿨토시 팔토시 시원한 생일선물 쓸데없는 신박한 선물',\n",
       " '아이스 스타벅스 돌체라떼 T',\n",
       " \"[추천선물]'냉장고에 넣으면 더 맛있는' 오설록 제주 녹차과자(랑드샤)세트\",\n",
       " '\"기분에 따라 골라쓰는 향기\" 미니핸드크림 4종 세트',\n",
       " '\"나만의 무드\" Owning 홈캉스 미니빔 뷰포인트 프로젝터 감성 무드 홈파티느낌 미니빔 4종',\n",
       " '\"귀여운 먹순이\" 춘식이 대용량 시리얼 글라스 요거트볼 (톡별)',\n",
       " '스테이크&치즈(15cm) 쿠키세트',\n",
       " '\"방구석 여행 \" 미니 빔프로젝터 무드 세트 (건전지 타입) 감성 집들이 홈파티 포토존 인테리어 생일선물',\n",
       " '독보적 유니크 스타일 마이콜 선구리',\n",
       " '\"자체제작!\" 2022 S/S NEW 하드케이스 모음전 아이폰케이스 핸드폰케이스 폰케이스 갤럭시케이스',\n",
       " '[인기 하드 에어팟케이스] 에어팟1 2 3 에어팟프로 케이스',\n",
       " '\"꿈속에서 포근\" [귀여운선물] 몽실몽실 안아줘 곰돌이 토끼 무드등 테이블조명 미니무드등',\n",
       " '떠먹는 아이스박스',\n",
       " '자바 칩 프라푸치노 T',\n",
       " '[1+1/총2개] \"당신은 나의 꽃\" 코코도르 디퓨저 + 플라워 디퓨저 120ml',\n",
       " '내 손안에 미니펫 동물인형',\n",
       " '블록팩 (110ml) 1개 (10종 중 택1)',\n",
       " '동아)포카리스웨트620ML']"
      ]
     },
     "execution_count": 31,
     "metadata": {},
     "output_type": "execute_result"
    }
   ],
   "source": [
    "want_presents1 = []\n",
    "for i in range(1,21):\n",
    "    want_present = driver.find_element_by_xpath('//*[@id=\"mArticle\"]/div[5]/app-products-ranking/div[2]/ol/li[{}]/gl-link/a/span[2]/em'.format(i))\n",
    "    want_presents1.append(want_present.text)\n",
    "want_presents1"
   ]
  },
  {
   "cell_type": "markdown",
   "id": "fc3133b1",
   "metadata": {},
   "source": [
    "# 받고 싶어한 선물한 선물 1~2만원 top20"
   ]
  },
  {
   "cell_type": "code",
   "execution_count": 32,
   "id": "8944d11d",
   "metadata": {},
   "outputs": [],
   "source": [
    "driver.get('https://gift.kakao.com/home?targetType=ALL&rankType=MANY_WISH&priceRange={%22min%22:10000,%22max%22:29999}')"
   ]
  },
  {
   "cell_type": "code",
   "execution_count": 33,
   "id": "2142cc91",
   "metadata": {},
   "outputs": [
    {
     "name": "stdout",
     "output_type": "stream",
     "text": [
      "Sroll done!!\n"
     ]
    }
   ],
   "source": [
    "prev_height = driver.execute_script('return document.body.scrollHeight')\n",
    "\n",
    "while True:\n",
    "    driver.execute_script('window.scrollTo(0, document.body.scrollHeight)')\n",
    "    time.sleep(1)\n",
    "    cur_height = driver.execute_script('return document.body.scrollHeight')\n",
    "    \n",
    "    if cur_height == prev_height:\n",
    "        break\n",
    "        \n",
    "    prev_height = cur_height\n",
    "print(\"Sroll done!!\")"
   ]
  },
  {
   "cell_type": "code",
   "execution_count": 34,
   "id": "fa9b1b61",
   "metadata": {},
   "outputs": [],
   "source": [
    "driver.execute_script(\"window.scrollTo(0, 2500)\")"
   ]
  },
  {
   "cell_type": "code",
   "execution_count": 35,
   "id": "46576652",
   "metadata": {},
   "outputs": [],
   "source": [
    "button1 = driver.find_element_by_xpath('//*[@id=\"mArticle\"]/div[5]/app-products-ranking/div[2]/div[2]/button')\n",
    "button1.click()"
   ]
  },
  {
   "cell_type": "code",
   "execution_count": 36,
   "id": "c1778c6e",
   "metadata": {},
   "outputs": [
    {
     "data": {
      "text/plain": [
       "['차량용목쿠션 타공 가죽 메모리폼 순정st 1+1',\n",
       " '안전벨트 커버',\n",
       " '\"축하합니다\" 떠먹는 아이스박스 + 아메리카노 (R)',\n",
       " '\"내 방안의 작은우주\" [특가] 선셋조명 우주비행사 7컬러 / 만달라키 우주인 무드등 무지개 노을 일몰 석양',\n",
       " '도심 속 스나이퍼 우산',\n",
       " '요기요 상품권 2만원권(교환권)',\n",
       " '립 밤',\n",
       " '요기요 상품권 1만원권(교환권)',\n",
       " '도서상품권 1만원권',\n",
       " '립케어 (립밤 or 립살브)',\n",
       " '[YES24] 보이지 않는 곳에서 애쓰고 있는 너에게',\n",
       " '\"닭이어트는 닭가슴살로\" 맛있닭 닭가슴살 선물세트 2종',\n",
       " '\"기분에 따라 골라쓰는\" 솔리드 퍼퓸 8종 택1/생일 선물',\n",
       " '\"우리 사이 변치말자\" 떠먹는 아이스박스 + 아메리카노 (R) 2잔',\n",
       " '\"쓸모없는선물\" 소두곰인형 (47cm) 동물 캐릭터 곰돌이인형 쓸데없는선물',\n",
       " '[선물포장] 이스케이프 룸 & 바디스프레이 200ML (4종 중 택1)',\n",
       " '만달라키 무드등 선셋 레인보우 오아시스 감성 조명 집들이 자취 신혼',\n",
       " 'HEM 인센스 스틱 향 100개입 7종 택1 + 박스 홀더 + 쇼핑백 세트',\n",
       " '맛초킹 콤보+뿌링치즈볼+콜라 1.25L',\n",
       " '[선물포장] 향기보습 핸드크림 & 립밤 기프트 세트']"
      ]
     },
     "execution_count": 36,
     "metadata": {},
     "output_type": "execute_result"
    }
   ],
   "source": [
    "want_presents2 = []\n",
    "for i in range(1,21):\n",
    "    want_present = driver.find_element_by_xpath('//*[@id=\"mArticle\"]/div[5]/app-products-ranking/div[2]/ol/li[{}]/gl-link/a/span[2]/em'.format(i))\n",
    "    want_presents2.append(want_present.text)\n",
    "want_presents2"
   ]
  },
  {
   "cell_type": "markdown",
   "id": "7076f5c8",
   "metadata": {},
   "source": [
    "# 받고 싶어한 선물한 선물 3~4만원 top20"
   ]
  },
  {
   "cell_type": "code",
   "execution_count": 37,
   "id": "96a99875",
   "metadata": {},
   "outputs": [],
   "source": [
    "driver.get('https://gift.kakao.com/home?targetType=ALL&rankType=MANY_WISH&priceRange={%22min%22:30000,%22max%22:49999}')"
   ]
  },
  {
   "cell_type": "code",
   "execution_count": 38,
   "id": "94cd6565",
   "metadata": {},
   "outputs": [
    {
     "name": "stdout",
     "output_type": "stream",
     "text": [
      "Sroll done!!\n"
     ]
    }
   ],
   "source": [
    "prev_height = driver.execute_script('return document.body.scrollHeight')\n",
    "\n",
    "while True:\n",
    "    driver.execute_script('window.scrollTo(0, document.body.scrollHeight)')\n",
    "    time.sleep(1)\n",
    "    cur_height = driver.execute_script('return document.body.scrollHeight')\n",
    "    \n",
    "    if cur_height == prev_height:\n",
    "        break\n",
    "        \n",
    "    prev_height = cur_height\n",
    "print(\"Sroll done!!\")"
   ]
  },
  {
   "cell_type": "code",
   "execution_count": 39,
   "id": "36f5762c",
   "metadata": {},
   "outputs": [],
   "source": [
    "driver.execute_script(\"window.scrollTo(0, 2500)\")"
   ]
  },
  {
   "cell_type": "code",
   "execution_count": 40,
   "id": "e4f412b0",
   "metadata": {},
   "outputs": [],
   "source": [
    "button1 = driver.find_element_by_xpath('//*[@id=\"mArticle\"]/div[5]/app-products-ranking/div[2]/div[2]/button')\n",
    "button1.click()"
   ]
  },
  {
   "cell_type": "code",
   "execution_count": 41,
   "id": "9b415c11",
   "metadata": {},
   "outputs": [
    {
     "data": {
      "text/plain": [
       "['\"마음을 담은 소식2\\'\\' 푸드장 스테이크 3종 선물세트 (톡별)',\n",
       " '\"향기로운 선물\" [선물포장/메세지카드] \"안기고 싶은 포근함\" 시그니처 퍼퓸 50ml (2종 택1)',\n",
       " '\"일상 속 휴식선물\" 비건 아로마 에센셜오일 선물세트 3종 택1(톡별)',\n",
       " '[눈편한세상] [건강선물 추천] 선물 만족도 94% 오아 눈 안마기 무선 공기압 마사지기 M0052',\n",
       " '[선물포장] 칼리아 SG-520D 차량용 15w 고속 무선 충전 거치대 (시거잭증정)',\n",
       " '요기요 상품권 3만원권(교환권)',\n",
       " '레저렉션 아로마틱 핸드 밤',\n",
       " '케이준더블쉬림프 콘치즈포켓L + 펩시 1.25L',\n",
       " '볼빅 포켓몬스터 피카츄 비비드 무광 골프공 12구/MIX (3피스)',\n",
       " '미스터트리오L+오븐스파게티+콜라1.25L',\n",
       " '[MLB] 루키 언스트럭쳐 볼캡 21종 택1',\n",
       " \"[선물포장]'아리아나그란데' 향수 + (메탈공병증정) (7종 택1)\",\n",
       " '[친구맺고 3%적립] [대용량/기프트증정] 록시땅 퍼퓸 샤워 젤 500ML (미니핸드+샤워볼) 2종 중 택1',\n",
       " '[선물포장] 오로라 은하수 무드등 LED 달 별 우주 선셋 감성 조명 생일 집들이선물',\n",
       " '\"100일 환절기 목건강 고함량\" 칼칼할때 배도라지 스틱 12gx 100포(원통)국산 배즙',\n",
       " \"[선물추천] '프리미엄 홈케어'VVIP 마스크팩 10주패키지(+쇼핑백/메세지카드/로고박스)\",\n",
       " '[감동혜택] [각인/선물포장] 립 글로우 ( +미스 디올 헤어 듀오 샘플 증정)',\n",
       " '기프티카드 3만원권',\n",
       " '\"추천선물\" TWG Tea Teabags Collection (4종택일)',\n",
       " '[선물추천] MLB 미니로고 볼캡 모자 17종 택1']"
      ]
     },
     "execution_count": 41,
     "metadata": {},
     "output_type": "execute_result"
    }
   ],
   "source": [
    "want_presents3 = []\n",
    "for i in range(1,21):\n",
    "    want_present = driver.find_element_by_xpath('//*[@id=\"mArticle\"]/div[5]/app-products-ranking/div[2]/ol/li[{}]/gl-link/a/span[2]/em'.format(i))\n",
    "    want_presents3.append(want_present.text)\n",
    "want_presents3"
   ]
  },
  {
   "cell_type": "markdown",
   "id": "c53df929",
   "metadata": {},
   "source": [
    "# 받고 싶어한 선물한 선물 5만원 이상 top20"
   ]
  },
  {
   "cell_type": "code",
   "execution_count": 42,
   "id": "a5969cce",
   "metadata": {},
   "outputs": [],
   "source": [
    "driver.get('https://gift.kakao.com/home?targetType=ALL&rankType=MANY_WISH&priceRange={%22min%22:50000,%22max%22:5000000}')"
   ]
  },
  {
   "cell_type": "code",
   "execution_count": 43,
   "id": "3835d63b",
   "metadata": {},
   "outputs": [
    {
     "name": "stdout",
     "output_type": "stream",
     "text": [
      "Sroll done!!\n"
     ]
    }
   ],
   "source": [
    "prev_height = driver.execute_script('return document.body.scrollHeight')\n",
    "\n",
    "while True:\n",
    "    driver.execute_script('window.scrollTo(0, document.body.scrollHeight)')\n",
    "    time.sleep(1)\n",
    "    cur_height = driver.execute_script('return document.body.scrollHeight')\n",
    "    \n",
    "    if cur_height == prev_height:\n",
    "        break\n",
    "        \n",
    "    prev_height = cur_height\n",
    "print(\"Sroll done!!\")"
   ]
  },
  {
   "cell_type": "code",
   "execution_count": 44,
   "id": "aad81d2f",
   "metadata": {},
   "outputs": [],
   "source": [
    "driver.execute_script(\"window.scrollTo(0, 2500)\")"
   ]
  },
  {
   "cell_type": "code",
   "execution_count": 45,
   "id": "5e5144f6",
   "metadata": {},
   "outputs": [],
   "source": [
    "button1 = driver.find_element_by_xpath('//*[@id=\"mArticle\"]/div[5]/app-products-ranking/div[2]/div[2]/button')\n",
    "button1.click()"
   ]
  },
  {
   "cell_type": "code",
   "execution_count": 46,
   "id": "409137ee",
   "metadata": {},
   "outputs": [
    {
     "data": {
      "text/plain": [
       "['교보문고 기프트카드 5만원권',\n",
       " '[폴로 랄프 로렌] 코튼 치노 베이스볼 캡 (13 color)',\n",
       " '\"APP 전용\" e카드 10만원 교환권',\n",
       " '[선물포장] 오드퍼퓸 50ml (11종 택1)',\n",
       " '[선물포장]메종마르지엘라 레이지 선데이 모닝 EDT 30ml',\n",
       " '\"명품 비타민\" 오쏘몰 이뮨 멀티비타민&미네랄 30일분',\n",
       " '[Kodak] 코닥 다회용 필름카메라 Ultra F9 / Dark Green',\n",
       " '농협안심한우 소한마리 한우선물세트 1등급 1.4kg',\n",
       " '\"APP 전용\" e카드 5만원 교환권',\n",
       " '[선물포장] 바이레도 핸드크림 30ml (6종 택1)',\n",
       " '교보문고 기프트카드 10만원권',\n",
       " '리턴 투 티파니 티파니 블루 더블 하트 태그 펜던트',\n",
       " '(손가락+손바닥+손등+팔목) 제스파 에어블레스 공기압 손마사지기 온열 안마기 (ZP1910/ZP1911)',\n",
       " '1++(7)등급 한우선물세트 구이 1kg(등심+안심+채끝+특수부위)',\n",
       " '[각인/선물포장] 피렌체 1221에디션 오드코롱 50ML (8종 택1)',\n",
       " 'New 춘식이 롱 바디필로우 (톡별)',\n",
       " '[Kodak] Ultra F9 필름 다회용 카메라 + 코닥 컬러필름 1롤 Set 모음전',\n",
       " '기프트카드 5만원권',\n",
       " '바디 클렌저',\n",
       " 'Apple 에어팟 프로 (맥세이프 충전 케이스)']"
      ]
     },
     "execution_count": 46,
     "metadata": {},
     "output_type": "execute_result"
    }
   ],
   "source": [
    "want_presents5 = []\n",
    "for i in range(1,21):\n",
    "    want_present = driver.find_element_by_xpath('//*[@id=\"mArticle\"]/div[5]/app-products-ranking/div[2]/ol/li[{}]/gl-link/a/span[2]/em'.format(i))\n",
    "    want_presents5.append(want_present.text)\n",
    "want_presents5"
   ]
  },
  {
   "cell_type": "markdown",
   "id": "1a99449e",
   "metadata": {},
   "source": [
    "# 카테고리와 브랜드 (베이커리/도넛/떡)"
   ]
  },
  {
   "cell_type": "code",
   "execution_count": 47,
   "id": "96f29771",
   "metadata": {},
   "outputs": [],
   "source": [
    "driver.get('https://gift.kakao.com/brand/category/91')"
   ]
  },
  {
   "cell_type": "code",
   "execution_count": 48,
   "id": "07cd14cb",
   "metadata": {},
   "outputs": [],
   "source": [
    "soup = BeautifulSoup(driver.page_source, 'lxml')"
   ]
  },
  {
   "cell_type": "code",
   "execution_count": 49,
   "id": "b821787b",
   "metadata": {},
   "outputs": [
    {
     "data": {
      "text/plain": [
       "[]"
      ]
     },
     "execution_count": 49,
     "metadata": {},
     "output_type": "execute_result"
    }
   ],
   "source": [
    "bakery_final = []\n",
    "bakerys = soup.select('span.txt_botcate')\n",
    "for bakery in bakerys:\n",
    "    bakery_final.append(bakery.text)\n",
    "bakery_final"
   ]
  },
  {
   "cell_type": "markdown",
   "id": "f01ccee0",
   "metadata": {},
   "source": [
    "# 카테고리와 브랜드 (카페)"
   ]
  },
  {
   "cell_type": "code",
   "execution_count": 50,
   "id": "3ae1e79d",
   "metadata": {},
   "outputs": [],
   "source": [
    "driver.get('https://gift.kakao.com/brand/category/91/subcategory/145')"
   ]
  },
  {
   "cell_type": "code",
   "execution_count": 51,
   "id": "0f050654",
   "metadata": {},
   "outputs": [],
   "source": [
    "soup = BeautifulSoup(driver.page_source, 'lxml')"
   ]
  },
  {
   "cell_type": "code",
   "execution_count": 52,
   "id": "444f61a5",
   "metadata": {},
   "outputs": [
    {
     "data": {
      "text/plain": [
       "[]"
      ]
     },
     "execution_count": 52,
     "metadata": {},
     "output_type": "execute_result"
    }
   ],
   "source": [
    "cafe_final = []\n",
    "cafes = soup.select('span.txt_botcate')\n",
    "for cafe in cafes:\n",
    "    cafe_final.append(cafe.text)\n",
    "cafe_final"
   ]
  },
  {
   "cell_type": "markdown",
   "id": "6efc7f58",
   "metadata": {},
   "source": [
    "# 카테고리와 브랜드 (아이스크림/빙수)"
   ]
  },
  {
   "cell_type": "code",
   "execution_count": 53,
   "id": "044893de",
   "metadata": {},
   "outputs": [],
   "source": [
    "driver.get('https://gift.kakao.com/brand/category/91/subcategory/147')"
   ]
  },
  {
   "cell_type": "code",
   "execution_count": 54,
   "id": "7610b11f",
   "metadata": {},
   "outputs": [],
   "source": [
    "soup = BeautifulSoup(driver.page_source, 'lxml')"
   ]
  },
  {
   "cell_type": "code",
   "execution_count": 55,
   "id": "d644dd8a",
   "metadata": {},
   "outputs": [
    {
     "data": {
      "text/plain": [
       "[]"
      ]
     },
     "execution_count": 55,
     "metadata": {},
     "output_type": "execute_result"
    }
   ],
   "source": [
    "icecream_final = []\n",
    "icecreams = soup.select('span.txt_botcate')\n",
    "for icecream in icecreams:\n",
    "    icecream_final.append(icecream.text)\n",
    "icecream_final"
   ]
  },
  {
   "cell_type": "markdown",
   "id": "ea895428",
   "metadata": {},
   "source": [
    "# 카테고리와 브랜드 (구이/족발)"
   ]
  },
  {
   "cell_type": "code",
   "execution_count": 56,
   "id": "6feb5700",
   "metadata": {},
   "outputs": [],
   "source": [
    "driver.get('https://gift.kakao.com/brand/category/91/subcategory/148')"
   ]
  },
  {
   "cell_type": "code",
   "execution_count": 57,
   "id": "4aafcd69",
   "metadata": {},
   "outputs": [],
   "source": [
    "soup = BeautifulSoup(driver.page_source, 'lxml')"
   ]
  },
  {
   "cell_type": "code",
   "execution_count": 58,
   "id": "75f6ef28",
   "metadata": {},
   "outputs": [
    {
     "data": {
      "text/plain": [
       "[]"
      ]
     },
     "execution_count": 58,
     "metadata": {},
     "output_type": "execute_result"
    }
   ],
   "source": [
    "meat_final = []\n",
    "meats = soup.select('span.txt_botcate')\n",
    "for meat in meats:\n",
    "    meat_final.append(meat.text)\n",
    "meat_final"
   ]
  },
  {
   "cell_type": "markdown",
   "id": "6d515164",
   "metadata": {},
   "source": [
    "# 카테고리와 브랜드 (치킨)"
   ]
  },
  {
   "cell_type": "code",
   "execution_count": 59,
   "id": "c740bc3f",
   "metadata": {},
   "outputs": [],
   "source": [
    "driver.get('https://gift.kakao.com/brand/category/91/subcategory/149')"
   ]
  },
  {
   "cell_type": "code",
   "execution_count": 60,
   "id": "d384fbb8",
   "metadata": {},
   "outputs": [],
   "source": [
    "soup = BeautifulSoup(driver.page_source, 'lxml')"
   ]
  },
  {
   "cell_type": "code",
   "execution_count": 61,
   "id": "1e6d6dcb",
   "metadata": {},
   "outputs": [
    {
     "data": {
      "text/plain": [
       "[]"
      ]
     },
     "execution_count": 61,
     "metadata": {},
     "output_type": "execute_result"
    }
   ],
   "source": [
    "chicken_final = []\n",
    "chickens = soup.select('span.txt_botcate')\n",
    "for chicken in chickens:\n",
    "    chicken_final.append(chicken.text)\n",
    "chicken_final"
   ]
  },
  {
   "cell_type": "markdown",
   "id": "7a2fcdaf",
   "metadata": {},
   "source": [
    "# 카테고리와 브랜드 (버거/피자)"
   ]
  },
  {
   "cell_type": "code",
   "execution_count": 62,
   "id": "861aeedb",
   "metadata": {},
   "outputs": [],
   "source": [
    "driver.get('https://gift.kakao.com/brand/category/91/subcategory/150')"
   ]
  },
  {
   "cell_type": "code",
   "execution_count": 63,
   "id": "2f303b59",
   "metadata": {},
   "outputs": [],
   "source": [
    "soup = BeautifulSoup(driver.page_source, 'lxml')"
   ]
  },
  {
   "cell_type": "code",
   "execution_count": 64,
   "id": "d9d2d3d1",
   "metadata": {},
   "outputs": [
    {
     "data": {
      "text/plain": [
       "[]"
      ]
     },
     "execution_count": 64,
     "metadata": {},
     "output_type": "execute_result"
    }
   ],
   "source": [
    "burger_final = []\n",
    "burgers = soup.select('span.txt_botcate')\n",
    "for burger in burgers:\n",
    "    burger_final.append(burger.text)\n",
    "burger_final"
   ]
  },
  {
   "cell_type": "markdown",
   "id": "48b8481e",
   "metadata": {},
   "source": [
    "# 카테고리와 브랜드 (편의점)"
   ]
  },
  {
   "cell_type": "code",
   "execution_count": 65,
   "id": "a5f5a0c6",
   "metadata": {},
   "outputs": [],
   "source": [
    "driver.get('https://gift.kakao.com/brand/category/91/subcategory/155')"
   ]
  },
  {
   "cell_type": "code",
   "execution_count": 66,
   "id": "9e672ef5",
   "metadata": {},
   "outputs": [],
   "source": [
    "soup = BeautifulSoup(driver.page_source, 'lxml')"
   ]
  },
  {
   "cell_type": "code",
   "execution_count": 67,
   "id": "4b71b213",
   "metadata": {},
   "outputs": [],
   "source": [
    "brands = soup.select('div span.txt_botcate')"
   ]
  },
  {
   "cell_type": "code",
   "execution_count": 68,
   "id": "14079b72",
   "metadata": {},
   "outputs": [
    {
     "data": {
      "text/plain": [
       "[]"
      ]
     },
     "execution_count": 68,
     "metadata": {},
     "output_type": "execute_result"
    }
   ],
   "source": [
    "convi = []\n",
    "for brand in brands:\n",
    "    convi.append(brand.get_text())    \n",
    "convi"
   ]
  },
  {
   "cell_type": "markdown",
   "id": "a71c0610",
   "metadata": {},
   "source": [
    "# 카테고리와 브랜드 (한식/일식/중식)"
   ]
  },
  {
   "cell_type": "code",
   "execution_count": 69,
   "id": "f6a8fd22",
   "metadata": {},
   "outputs": [],
   "source": [
    "driver.get('https://gift.kakao.com/brand/category/91/subcategory/192')"
   ]
  },
  {
   "cell_type": "code",
   "execution_count": 70,
   "id": "62b84d7f",
   "metadata": {},
   "outputs": [],
   "source": [
    "soup = BeautifulSoup(driver.page_source, 'lxml')"
   ]
  },
  {
   "cell_type": "code",
   "execution_count": 71,
   "id": "f04ee076",
   "metadata": {},
   "outputs": [],
   "source": [
    "brands = soup.select('div span.txt_botcate')"
   ]
  },
  {
   "cell_type": "code",
   "execution_count": 72,
   "id": "bc281f7d",
   "metadata": {},
   "outputs": [
    {
     "data": {
      "text/plain": [
       "[]"
      ]
     },
     "execution_count": 72,
     "metadata": {},
     "output_type": "execute_result"
    }
   ],
   "source": [
    "kor_chi_jap = []\n",
    "for brand in brands:\n",
    "    kor_chi_jap.append(brand.get_text())\n",
    "kor_chi_jap"
   ]
  },
  {
   "cell_type": "markdown",
   "id": "8147294e",
   "metadata": {},
   "source": [
    "# 카테고리와 브랜드 (퓨전/외국/펍)"
   ]
  },
  {
   "cell_type": "code",
   "execution_count": 73,
   "id": "d6815b6c",
   "metadata": {},
   "outputs": [],
   "source": [
    "driver.get('https://gift.kakao.com/brand/category/91/subcategory/194')"
   ]
  },
  {
   "cell_type": "code",
   "execution_count": 74,
   "id": "7ae04a48",
   "metadata": {},
   "outputs": [],
   "source": [
    "soup = BeautifulSoup(driver.page_source, 'lxml')"
   ]
  },
  {
   "cell_type": "code",
   "execution_count": 75,
   "id": "42530398",
   "metadata": {},
   "outputs": [],
   "source": [
    "brands = soup.select('div span.txt_botcate')"
   ]
  },
  {
   "cell_type": "code",
   "execution_count": 76,
   "id": "5bbcc9b6",
   "metadata": {},
   "outputs": [
    {
     "data": {
      "text/plain": [
       "[]"
      ]
     },
     "execution_count": 76,
     "metadata": {},
     "output_type": "execute_result"
    }
   ],
   "source": [
    "fusion = []\n",
    "for brand in brands:\n",
    "    fusion.append(brand.get_text())\n",
    "fusion"
   ]
  },
  {
   "cell_type": "markdown",
   "id": "d77342d1",
   "metadata": {},
   "source": [
    "# 카테고리와 브랜드 (분식/죽/도시락)"
   ]
  },
  {
   "cell_type": "code",
   "execution_count": 77,
   "id": "5ccdf872",
   "metadata": {},
   "outputs": [],
   "source": [
    "driver.get('https://gift.kakao.com/brand/category/91/subcategory/196')"
   ]
  },
  {
   "cell_type": "code",
   "execution_count": 78,
   "id": "8058b51c",
   "metadata": {},
   "outputs": [],
   "source": [
    "soup = BeautifulSoup(driver.page_source, 'lxml')"
   ]
  },
  {
   "cell_type": "code",
   "execution_count": 79,
   "id": "0ba3c027",
   "metadata": {},
   "outputs": [],
   "source": [
    "brands = soup.select('div span.txt_botcate')"
   ]
  },
  {
   "cell_type": "code",
   "execution_count": 80,
   "id": "fdadb689",
   "metadata": {},
   "outputs": [
    {
     "data": {
      "text/plain": [
       "[]"
      ]
     },
     "execution_count": 80,
     "metadata": {},
     "output_type": "execute_result"
    }
   ],
   "source": [
    "boonsik = []\n",
    "for brand in brands:\n",
    "    boonsik.append(brand.get_text())\n",
    "boonsik"
   ]
  },
  {
   "cell_type": "markdown",
   "id": "4e059963",
   "metadata": {},
   "source": [
    "# 카테고리와 브랜드 (패밀리/호텔뷔페)"
   ]
  },
  {
   "cell_type": "code",
   "execution_count": 81,
   "id": "c145af43",
   "metadata": {},
   "outputs": [],
   "source": [
    "driver.get('https://gift.kakao.com/brand/category/91/subcategory/195')"
   ]
  },
  {
   "cell_type": "code",
   "execution_count": 82,
   "id": "597bbe40",
   "metadata": {},
   "outputs": [],
   "source": [
    "soup = BeautifulSoup(driver.page_source, 'lxml')"
   ]
  },
  {
   "cell_type": "code",
   "execution_count": 83,
   "id": "f20c0004",
   "metadata": {},
   "outputs": [],
   "source": [
    "brands = soup.select('div span.txt_botcate')"
   ]
  },
  {
   "cell_type": "code",
   "execution_count": 84,
   "id": "7da3e192",
   "metadata": {},
   "outputs": [
    {
     "data": {
      "text/plain": [
       "[]"
      ]
     },
     "execution_count": 84,
     "metadata": {},
     "output_type": "execute_result"
    }
   ],
   "source": [
    "family = []\n",
    "for brand in brands:\n",
    "    family.append(brand.get_text())\n",
    "family"
   ]
  },
  {
   "cell_type": "markdown",
   "id": "e63acb9d",
   "metadata": {},
   "source": [
    "# 많이 선물한 배송상품 top 100 "
   ]
  },
  {
   "cell_type": "code",
   "execution_count": 85,
   "id": "83441736",
   "metadata": {},
   "outputs": [],
   "source": [
    "driver.get('https://gift.kakao.com/ranking/best/delivery')"
   ]
  },
  {
   "cell_type": "code",
   "execution_count": 86,
   "id": "ecc64583",
   "metadata": {},
   "outputs": [
    {
     "name": "stdout",
     "output_type": "stream",
     "text": [
      "Sroll done!!\n"
     ]
    }
   ],
   "source": [
    "prev_height = driver.execute_script('return document.body.scrollHeight')\n",
    "\n",
    "while True:\n",
    "    driver.execute_script('window.scrollTo(0, document.body.scrollHeight)')\n",
    "    time.sleep(1)\n",
    "    cur_height = driver.execute_script('return document.body.scrollHeight')\n",
    "    \n",
    "    if cur_height == prev_height:\n",
    "        break\n",
    "        \n",
    "    prev_height = cur_height\n",
    "print(\"Sroll done!!\")"
   ]
  },
  {
   "cell_type": "code",
   "execution_count": 87,
   "id": "31e99635",
   "metadata": {},
   "outputs": [],
   "source": [
    "soup = BeautifulSoup(driver.page_source, 'lxml')"
   ]
  },
  {
   "cell_type": "markdown",
   "id": "adb8e508",
   "metadata": {},
   "source": [
    "### 제품명"
   ]
  },
  {
   "cell_type": "code",
   "execution_count": 88,
   "id": "c1a58cc0",
   "metadata": {},
   "outputs": [],
   "source": [
    "prdnames = soup.find_all('strong', {'class' : 'txt_prdname'})"
   ]
  },
  {
   "cell_type": "code",
   "execution_count": 89,
   "id": "4240b526",
   "metadata": {},
   "outputs": [
    {
     "name": "stdout",
     "output_type": "stream",
     "text": [
      "['\"명품 비타민\" 오쏘몰 이뮨 멀티비타민 & 미네랄 7입 (동아제약 공식 직수입)', '푸드장 프리미엄 구이 선물세트 1.15kg(부채살,살치살,토시살,척아이롤)', '[감동혜택] [각인/선물포장] 립 글로우 ( +미스 디올 헤어 듀오 샘플 증정)', '\"에너지 선물\" 정관장 활기력 20ml x 10병', '\"에너지 선물\" 정관장 활기력 에너지박스(20ml*20병) 특별한 선물 스탠드형', '갈비살 300g+부채살 300g 외 9종', \"[선물하기 단독][NEW] 달바 '보습명가' 미스트 세럼&핸드 세럼 기프트 세트\", '[선물포장] 바디 앤 핸드 워시 100ML', '레저렉션 아로마틱 핸드 밤', '[센트룸] 멀티비타민 6종 택1 (맨/우먼/칼슘+D/에너지B)', '하겐다즈 프리미엄 수제 아이스크림 케이크 리얼블랑 (바닐라+초코)', '[신규향추가/선물포장] 핸드크림 50ML (6종 중 택1)', '\"면역력을 1포하라\" 정관장 홍삼정에브리타임 밸런스(30일분)', '[친구맺고 3%적립] [여름선물] 록시땅 샤워 젤 250ml (12종 중 택1)', '[센트룸] 멀티비타민 미네랄 구미(80구미)', '레모나프렌즈 카카오 레모나산 하트캔 (2g x 70포)/선물용 쇼핑백증정!', '[선물포장] 핸드 크림 50ML', '[선물포장/엽서] 미니 퍼퓸 핸드크림 (5종 택1)', '\"명품 비타민\" 오쏘몰 이뮨 멀티비타민&미네랄 7입X2박스,총 14입 (동아제약 직수입)', '짱구 라인쿠션 유리토끼', \"'여름에 시원하고 더 맛있는' 오설록 녹차 치즈케이크\", '[친구맺고 3%적립] [여름베스트] 록시땅 핸드&바디샤워 3종 세트(4종 택1)', '[단독/선물포장] 센트 페어링 코롱 듀오', '[선물포장] 핸드워시 300ML (6종 중 택1)', '[무료각인&선물포장] 리브르 헤어미스트 30ml', '농협안심한우 \"고마워서 어찌하누\"1등급 일품구이채반 1kg(등심+채끝+안심)', '[추천선물] \"면역력 증진\" 정원삼 6년근 고려홍삼정 365스틱 30포 + 3포 증정', '[단독/각인서비스] 헤라 센슈얼 쉬어 스테인 \"미니쿠션 증정\" (톡별)', '프랑스 프리미엄 마카롱 (12입/선물세트)', '여름에 만나는 달콤한 향이 가득한 백도 복숭아 1.5kg 과일선물 (5~6입)', '아프다고 굶지마요, 본죽 14종+장조림 set (총 7팩/10팩)', \"[선물하기 단독] 달바 '비건' 화이트 트러플 미스트 세럼 세트(100ml+50ml)\", '\"향기로운 선물\" 옵타움 페이퍼 인센스 세트 (트레이+성냥+집게) (톡별)', '[24시피부케어/선물포장]멀티밤&아이밤', '[감동혜택] [각인/섀도우증정]\"품절벨벳틴트\" 헤라 센슈얼파우더매트리퀴드', '[친구맺고 3%적립] \"숙면선물\" 록시땅 릴랙싱 필로우미스트 패키지 (특별한선물 \\'톡별\\') (예약발송)', '[선물포장/무료각인] 맥 립스틱 (3G)', '\"명품 비타민\" 오쏘몰 이뮨 멀티비타민&미네랄 30일분', '\"🎁마음의 선물🎁\" 힘내라 홍삼정 For You 10mlx30포 (리뉴얼ver)', '[MLB] 루키 언스트럭쳐 볼캡 21종 택1', '[각인/선물포장] NEW 디올 어딕트 립스틱', '\"활력이필요한당신에게\" GNC 멀티비타민 + 밀크씨슬 선물세트', '[선물포장/단독] 모로칸오일 트리트먼트 50ml+증정 2종', '프리미엄 샤인머스캣&애플망고 선물세트 (1.8kg, 4입)', '\"잘자요 꿀린이\" 꿀잠타는 기린이 모찌 바디필로우 (톡별)', '\"맛있는 인기건강선물\" 니몸내몸 영양젤리 3종 선물세트(비타민C,비타민D,루테인)[선물포장]', '\"마음을 담은 소식2\\'\\' 푸드장 스테이크 3종 선물세트 (톡별)', '\"지금은 힘낼시간\" GNM 조정석 간건강 밀크씨슬 실리마린 선물세트 (총 4개월분)', '[선물제격] 보르딘 콜드브루 12종 SET (25ml*12개)', '농협안심한우 소한마리 한우선물세트 1등급 1.4kg', '[샘플2종] \"쿨한 피부를 위해\" 마스크 오브 매그너민티 팩 125g/생일 선물', '레저렉션 아로마틱 핸드 워시', '\"먹방 꿈나무\" New 춘식이 손잡이 앞접시 2P세트 (톡별)', '유목에 키워 더 맛있는 괴산 부드러운 복숭아 2.7kg 이상 (8-11입)', '[선물포장/무료각인] \"맥 베스트\" 텐더토크 립 밤 (3G)', '[선물포장/엽서]멀티밤', '[추천선물] \"하루 한포 건강\" 배를 품은 도라지스틱 30포x12g 국산 도라지,배 함유!', \"[무료각인&선물포장]입생로랑1위 벨벳틴트세트(+리브르 1.2ml 향수) '톡별'\", '[카카오단독/파우치증정] 바디오일 & 우드 괄사 세트 (4종 중 택1)', '\"🎁 행운선물 🎁\" 비타500데일리스틱 30포 + 10포 추가 + 선물엽서 + 쇼핑백 + 스타벅스 추첨증정', '\"센스있는 선물 추천\" 곰돌이 브릭 베어 차량용 방향제 선물 패키지 (2가지향 증정)', '\"취향 저격\" [선물포장] 버버리 허 디스커버리 세트(5ML*3)', '\"촉촉함이 가득\" 수제 티라미수 케이크', '[교보문고 시그니처향] The Scent of PAGE : 룸스프레이 60ml', '\"기분좋은 힐링\"홍대맛집 코만스 티라미수 케이크 4종 선물세트(톡별)', '[선물포장] \"장미수토너\" 아쿠아 디 로즈 250ml 선물세트', '[선물포장] 바디워시 300ML (6종 중 택1)', '\"SNS 인기아이템\" 2가지 불빛 미니조명 렉슨미나 S사이즈', '\"타닥타닥 타는 소리\" 갈색병 소형 우드 심지 소이캔들 향초 / 나그참파향 절향', \"달바 '비건' 화이트 트러플 미스트 세럼 세트(100ml+50ml+파우치)(톡별)\", '\"조선호텔 베스트셀러\" 프리미엄 뉴욕 치즈 케이크', '\"나를반기는 귀요미\" 냥냥 댕댕 발매트 미니러그', '[비건] 달바 화이트 트러플 3 솔루션 기프트 박스(미스트 52ml*3)(톡별)', '\"타닥타닥 타는 소리\" 갈색병 대형 우드 심지 소이캔들 향초', '[고디바] 다크 초콜릿 케이크', '[선물포장/엽서] \"여름선물\" 바디워시 (4종 택1)', '\"면역력이 필요할때\" 얼라이브 멀티비타민 60정 (2개월분) 6종 택1 / 멀티,맨,우먼,50+,밀크씨슬,칼슘', '블랙앵거스 명품구이 선물세트 1.1kg(소갈비살300g*2+살치살200g+부채살300g)', '\"면역력을 1포하라\" 정관장 홍삼정에브리타임(30일분)', '[인기품목] 빌리엔젤 인기조각 케이크 세트모음 4P', '[선물포장/엽서] 퍼퓸 핸드크림 40ml (5종 택1)', '\"행복당충전\" 디디얌 인기최고 뚱카롱(마카롱) 6구세트', '[친구맺고 3%적립] 홈 핸드&바디 워시 300ml (4종 택1)', '프리미엄 샤인머스캣 과일선물세트 1.3KG 이상 (2송이/특품)', '고려은단 비타민C 1000 180정/이지+비타민D 180정 (2종 택1)', '\"행복당충전\" 디디얌 수제 뚱카롱(마카롱) 12구 세트', '마이 버디 유리컵 2p 세트 + 네컷앨범 사은품 증정', '프리미엄 고당도 머스크메론 2수 과일선물세트 (총 4kg/1수 2kg)', '\"간편한 비타민 충전\" 닥터브라이언 복숭아맛구미 비타민C&D 3000(100구미/착색료무첨가)', '엔젯오리진 비타민 구미 모음전 3종 택1(귤젤리/엘더베리/비타민B 콤플렉스)', '[24시낮밤케어/선물포장]멀티밤&아쿠아밤', '\"당신의 건강을 밝혀드릴게요\" 비타민C 50포 (톡별)', '[선물포장] 리브르 핸드크림(+리브르 향수 1.2ml)', '\"기분에 따라 골라쓰는\" 솔리드 퍼퓸 8종 택1/생일 선물', '[선물포장] 바디 크림 50ML', '노티드 봉봉 초콜릿 1팩 (9개입)', '탐라왕 \"제주그대로\" 하우스귤 선물세트 3kg(로얄과/12brix이상)', '달콤한 향이 가득한 백도 복숭아 과일선물 3kg (8~12입)', '\"🎁장건강 선물🎁\" 너에게 꼭 맞는 락토핏 장 건강 생유산균 골드 선물세트 1세트', '[무료각인&선물포장] NEW 캔디 글레이즈 컬러밤']\n"
     ]
    }
   ],
   "source": [
    "give_delivery100_name = []\n",
    "for prdname in prdnames:\n",
    "    give_delivery100_name.append(prdname.get_text())\n",
    "print(give_delivery100_name)"
   ]
  },
  {
   "cell_type": "code",
   "execution_count": 90,
   "id": "78f8315a",
   "metadata": {},
   "outputs": [
    {
     "data": {
      "text/plain": [
       "100"
      ]
     },
     "execution_count": 90,
     "metadata": {},
     "output_type": "execute_result"
    }
   ],
   "source": [
    "len(give_delivery100_name)"
   ]
  },
  {
   "cell_type": "markdown",
   "id": "b9762dff",
   "metadata": {},
   "source": [
    "### 가격"
   ]
  },
  {
   "cell_type": "code",
   "execution_count": 91,
   "id": "582319f0",
   "metadata": {},
   "outputs": [],
   "source": [
    "prdprices = soup.find_all('em', {'class' : 'num_price'})"
   ]
  },
  {
   "cell_type": "code",
   "execution_count": 92,
   "id": "c6cf197b",
   "metadata": {},
   "outputs": [
    {
     "name": "stdout",
     "output_type": "stream",
     "text": [
      "['38,000원', '49,900원', '47,000원', '29,000원', '42,350원', '29,900원', '25,900원', '35,000원', '31,000원', '24,000원', '29,900원', '21,000원', '81,000원', '29,000원', '24,000원', '16,900원', '43,000원', '18,000원', '72,500원', '22,500원', '29,800원', '26,000원', '58,000원', '32,000원', '65,000원', '109,000원', '27,800원', '33,300원', '13,900원', '16,500원', '19,900원', '30,900원', '20,000원', '39,800원', '31,500원', '36,000원', '33,000원', '129,000원', '15,900원', '36,000원', '51,000원', '29,900원', '37,000원', '48,500원', '29,900원', '29,900원', '39,900원', '21,900원', '21,900원', '119,000원', '22,000원', '47,000원', '14,800원', '24,800원', '34,000원', '29,400원', '18,900원', '49,000원', '35,000원', '9,900원', '22,000원', '39,000원', '22,900원', '19,000원', '24,900원', '38,000원', '36,000원', '37,600원', '12,500원', '31,900원', '39,900원', '11,900원', '31,900원', '18,500원', '39,000원', '33,000원', '24,900원', '59,800원', '102,000원', '28,900원', '32,000원', '15,200원', '28,000원', '47,800원', '18,000원', '23,900원', '14,900원', '26,900원', '17,900원', '12,900원', '39,800원', '13,900원', '45,000원', '22,000원', '43,000원', '19,900원', '29,900원', '29,800원', '23,300원', '49,000원']\n"
     ]
    }
   ],
   "source": [
    "give_delivery100_price = []\n",
    "for prdprice in prdprices:\n",
    "    give_delivery100_price.append(prdprice.get_text())\n",
    "print(give_delivery100_price)"
   ]
  },
  {
   "cell_type": "code",
   "execution_count": 93,
   "id": "4e877f33",
   "metadata": {},
   "outputs": [
    {
     "data": {
      "text/plain": [
       "100"
      ]
     },
     "execution_count": 93,
     "metadata": {},
     "output_type": "execute_result"
    }
   ],
   "source": [
    "len(give_delivery100_price)"
   ]
  },
  {
   "cell_type": "markdown",
   "id": "d9c42465",
   "metadata": {},
   "source": [
    "### 브랜드"
   ]
  },
  {
   "cell_type": "code",
   "execution_count": 94,
   "id": "109d434d",
   "metadata": {},
   "outputs": [],
   "source": [
    "prdbrands = soup.find_all('span', {'class' : 'txt_brand'})"
   ]
  },
  {
   "cell_type": "code",
   "execution_count": 95,
   "id": "45e3bebd",
   "metadata": {},
   "outputs": [
    {
     "name": "stdout",
     "output_type": "stream",
     "text": [
      "['동아제약', '푸드장', '디올', '정관장', '정관장', '푸드랩플러스', '달바', '조말론런던', '이솝', '센트룸', '하겐다즈(케이크)', '논픽션', '정관장', '록시땅', '센트룸', '경남제약', '조말론런던', '탬버린즈', '동아제약', '누리토이즈', '오설록 디저트', '록시땅', '조말론런던', '논픽션', '입생로랑', '농협안심한우', '정원삼', '헤라', '파스키에', '수플린 ', '본죽식품', '달바', '옵타움', '가히', '헤라', '록시땅', '맥(MAC)', '동아제약', '인삼/홍삼', 'MLB', '디올', 'GNC', '모로칸오일', '원월드', '캐릭터침구', '니몸내몸', '푸드장', 'GNM자연의품격', '커피/차음료', '농협안심한우', '러쉬', '이솝', '프렌즈리빙LC', '온브릭스', '맥(MAC)', '가히', '위블리즈', '입생로랑', '아로마티카', '광동생활건강', '말라코', '버버리(뷰티)', '케이크(배송)', '북아이템', '케이크(배송)', '산타마리아노벨라', '논픽션', '렉슨', '팩토리노멀', '달바', '조선호텔델리', '알럽하우스(소품)', '달바', '팩토리노멀', '고디바', '탬버린즈', '얼라이브', '푸드장', '정관장', '빌리엔젤', '탬버린즈', '디디얌', '록시땅', '수플린 ', '고려은단', '디디얌', '데일리라이크 (키친)', '수플린 ', '건강식품', '건강식품', '가히', '건강식품', '입생로랑', '러쉬퍼퓸', '조말론런던', '노티드', '탐라왕', '수플린 ', '종근당건강', '입생로랑']\n"
     ]
    }
   ],
   "source": [
    "give_delivery100_brand = []\n",
    "for prdbrand in prdbrands:\n",
    "    give_delivery100_brand.append(prdbrand.get_text())\n",
    "print(give_delivery100_brand)"
   ]
  },
  {
   "cell_type": "code",
   "execution_count": 96,
   "id": "8a62198d",
   "metadata": {},
   "outputs": [
    {
     "data": {
      "text/plain": [
       "100"
      ]
     },
     "execution_count": 96,
     "metadata": {},
     "output_type": "execute_result"
    }
   ],
   "source": [
    "len(give_delivery100_brand)"
   ]
  },
  {
   "cell_type": "markdown",
   "id": "71ea3bd8",
   "metadata": {},
   "source": [
    "# 많이 선물한 교환권 top 100 "
   ]
  },
  {
   "cell_type": "code",
   "execution_count": 97,
   "id": "08c371e9",
   "metadata": {},
   "outputs": [],
   "source": [
    "driver.get('https://gift.kakao.com/ranking/best/coupon')"
   ]
  },
  {
   "cell_type": "code",
   "execution_count": 98,
   "id": "a49a2e17",
   "metadata": {},
   "outputs": [
    {
     "name": "stdout",
     "output_type": "stream",
     "text": [
      "Sroll done!!\n"
     ]
    }
   ],
   "source": [
    "prev_height = driver.execute_script('return document.body.scrollHeight')\n",
    "\n",
    "while True:\n",
    "    driver.execute_script('window.scrollTo(0, document.body.scrollHeight)')\n",
    "    time.sleep(1)\n",
    "    cur_height = driver.execute_script('return document.body.scrollHeight')\n",
    "    \n",
    "    if cur_height == prev_height:\n",
    "        break\n",
    "        \n",
    "    prev_height = cur_height\n",
    "print(\"Sroll done!!\")"
   ]
  },
  {
   "cell_type": "code",
   "execution_count": 99,
   "id": "c94778cd",
   "metadata": {},
   "outputs": [],
   "source": [
    "soup = BeautifulSoup(driver.page_source, 'lxml')"
   ]
  },
  {
   "cell_type": "markdown",
   "id": "9b69a4e1",
   "metadata": {},
   "source": [
    "### 제품명"
   ]
  },
  {
   "cell_type": "code",
   "execution_count": 100,
   "id": "2d960d16",
   "metadata": {},
   "outputs": [],
   "source": [
    "prdnames1 = soup.find_all('strong', {'class' : 'txt_prdname'})"
   ]
  },
  {
   "cell_type": "code",
   "execution_count": 101,
   "id": "9aca7a9f",
   "metadata": {},
   "outputs": [
    {
     "name": "stdout",
     "output_type": "stream",
     "text": [
      "['골라먹는 와츄원(배달가능)', '나눠먹는 와츄원(배달가능)', '듀얼 와츄원 NO.9(배달가능)', '파인트 아이스크림', '쿼터 아이스크림(배달가능)', '버라이어티팩(배달가능)', '모바일 금액권 3만원권', '\"NEW\" 해피버스데이(배달가능)', '리얼 27 큐브(배달가능)', '바로먹는 와츄원(배달가능)', '싱글레귤러 아이스크림', '해피데이 카카오 프렌즈(배달가능)', '패밀리 아이스크림(배달가능)', '아빠왔다팩(배달가능)', '골라 먹는 스노우 볼(배달가능)', '모바일 금액권 5만원권', '피카피카 피카츄 케이크(배달가능)', '싱글킹 아이스크림', '하프갤론 아이스크림(배달가능)', '옹기종기팩(배달가능)', '\"부드러운 디저트\" 아이스 카페 아메리카노 T 2잔+부드러운 생크림 카스텔라', '아이스 카페 아메리카노 T', '\"APP 전용\" e카드 3만원 교환권', '\"오늘도 달콤하게\" 아이스 카페 아메리카노 T+7 레이어 가나슈 케이크', '\"APP 전용\" e카드 3만원 교환권', '\"APP 전용\" e카드 5만원 교환권', '스트로베리 초콜릿 생크림', '\"생일 축하합니다\" 아이스 카페 아메리카노 T 2잔+블루베리 쿠키 치즈 케이크', '\"서머 바캉스 세트\" 아이스 카페 아메리카노 T 2잔+상큼한 샤인머스캣 스윗박스', '\"힘이 나는 세트\" 아이스 카페 아메리카노 T 2잔+슈크림 가득 바움쿠헨+The 촉촉 초콜릿 생크림 케이크', '\"시원하게 함께\" 아이스 카페 아메리카노 T 2잔', '\"기분 좋은 시작\" 떠먹는 스트로베리 초콜릿 생크림 + 아메리카노 (R) 2잔', '\"행복한 기운\" 아이스 카페 라떼 T 2잔+슈크림 가득 바움쿠헨', '애플망고치즈설빙', '아이스 카페 라떼 T', '\"눈부신 여름 휴가\" 제주 청귤 라임 에이드 T 2잔+블루베리 쏙 수플레 치즈 케이크', '\"축하합니다\" 아이스 카페 아메리카노 T 2잔+7 레이어 가나슈 케이크+클라우드 치즈 케이크', '\"기분 좋은 하루\" 아이스 카페 아메리카노 T 2잔+클라우드 치즈 케이크', '딸기 생크림 1호', '\"커피&수플레 세트\" 아이스 카페 아메리카노 T 2잔+블루베리 쏙 수플레 치즈 케이크 2개', '뿌링클+콜라1.25L', '황금올리브치킨+콜라1.25L', '허니콤보웨지감자세트', '뿌링클+치즈볼+콜라1.25L', '반반오리지날웨지감자세트', '고추바사삭+콜라1.25L', '황금올리브반반+콜라1.25L', '골드킹 콤보+뿌링치즈볼+케이준프라이+콜라 1.25L', '교촌오리지날웨지감자세트', '고추바사삭+모짜치즈볼+콜라1.25L', '후라이드 반+양념 반+콜라1.25L', '반반콤보웨지감자세트', '고추마요 치킨+콜라1.25L', '블랙알리오+블랙치즈볼+콜라 1.25L', '황금올리브치킨+황금치즈볼5개+콜라1.25L', '레드콤보웨지감자세트', '(오리지널)블록버스터 4 피자 L + 콜라1.25L', '레드콤보1/2+교촌오리웨지감자세트', '허니콤보퐁듀치즈볼세트', '골드킹 콤보+콜라1.25L', '시그니처 생딸기 우유생크림케이크', '모바일 금액권 3만원권', '마이넘버원3(배달가능)', '치즈반 티라미수반 케이크(배달가능)', '모바일 금액권 5만원권', '시그니처 샤인머스캣 우유생크림케이크(12cm)', '우유가득 생크림케이크', '뚜레쥬르 올스타 케이크', '클래식 고구마 케이크', '상큼한 블루베리 쉬폰 케이크(배달가능)', '해피스마일 케이크', '모바일 금액권 1만원권', '\"여름한정\" 블레싱 레드베리 케이크(배달가능)', '\"여름한정\" 시그니처 우유생크림케이크', '잔액관리교환권 3만원권', '클래식 치즈 케이크(배달가능)', '우유듬뿍 생크림케이크(6호)', '생일축하해! 라이언 케이크', '블루베리 요거트 케이크', '\"선물하기 단독\" 고구마가 좋아 춘식이 고구마 케이크', '\"건강보양 선물\" 보양엔 전복죽', '기프트카드 10만원권', '기프트카드 5만원권', '\"건강보양 선물\" 건강보양 삼계전복죽', '\"건강보양 선물\" 모바일금액권 3만원권', '\"건강 선물\" 남녀노소 쇠고기야채죽', '\"건강보양 선물\" 트러플전복죽(특)', '\"건강보양 선물\" 특전복죽', '\"아프지마 속상해세트\" 쇠고기야채죽+장조림', '\"건강보양 선물\" 모바일금액권 2만원권', '건강엔 삼계죽', '\"건강보양 선물\" 전복이 2배 진전복죽', '해장엔 낙지김치죽', '\"듀오갈릭스테이크세트\" [D1] 아웃백 스페셜 갈릭 스테이크, 투움바 파스타, 수프2, 산펠레그리노2 (딜리버리', '\"건강보양 선물\" 트러플전복죽(기본)', '기프트카드 10만원권', '\"건강보양 선물\" 모바일금액권 5만원권', '샐러드바 2인 이용권(주말/공휴일)', '건강하세요SET(자연송이전복죽+한우야채죽)', '외식 통합권 10만원권', '\"팝콘먹다 손스침세트\" 2D영화관람권 2매 + 고소팝콘L 1개 + 콜라M 2', '\"2인 패키지\" 2D 영화관람권 2매 + 오리지널팝콘L 1개 + 콜라M 2개', '2D 영화관람권', '2인 2D 영화 관람권', '인생은 영화처럼 2인세트(관람권2+팝콘(L)+음료(R)2)(주중/주말)', '샤롯데 2인 관람권', '\"수고했어,오늘도세트\" 2D 영화관람권 1매 + 고소팝콘M 1개 + 콜라M 1', '2인 관람권(주중/주말)', '롯데시네마 2D 영화관람권', 'GOLD CLASS 관람권', 'CGV 콤보', '스위트콤보교환권', '1인 관람권(주중/주말)', '디지털 상품권 3만원권', '모바일 금액권 5만원권', '모바일 금액권 3만원권', '4DX 관람권', '디지털 상품권 5만원권', 'CINE de CHEF 관람권', '씨네샵 3만원 교환권', '신세계상품권 모바일교환권 100,000원', '신세계상품권 모바일교환권 50,000원', '롯데모바일교환권 100,000원', '요기요 상품권 3만원권(교환권)', '롯데모바일교환권 50,000원', '요기요 상품권 5만원권(교환권)', '신세계상품권 모바일교환권 30,000원', '롯데모바일교환권 200,000원', '모바일주유권 5만원권(교환권)', '금액권 5만원권', '컬쳐랜드 PIN 50,000원권(교환권)', '신세계상품권 모바일교환권 300,000원', '모바일주유권 3만원권(교환권)', '롯데모바일교환권 300,000원', '카카오페이상품권 5만원권(교환권)', '기프트 코드 100,000원권(교환권)', '5만원권', '요기요 상품권 2만원권(교환권)', '금액권 10만원권', '카카오페이상품권 3만원권(교환권)', '기프트카드 3만원권', '기프트카드 5만원권', '기프트카드 2만원권', '모바일금액권 10,000원', '모바일 상품권 1만원권', '모바일 상품권 5천원권', '모바일금액권 5,000원', '모바일금액권 30,000원', '모바일 상품권 3만원권', '기프트카드 1만원권', '빙그레)바나나우유240ml', '남양)초코에몽드링크', '모바일금액권 50,000원', '\"당 떨어진날 필수템\" 남양)초코에몽250ml + 롯데)가나마일드초콜릿34g', '1만원 모바일상품권', '모바일 상품권 2만원권', '\"강력 숙취해소\" HK)컨디션헛개 + 삼양사)상쾌환 + 광동)힘찬헛개차P500ml', '빙그레)바나나우유240ML', '\"노피곤 세트\" 동아제약)박카스F120ML+광동)비타500 180ML', '모바일금액권 3,000원']\n"
     ]
    }
   ],
   "source": [
    "give_coupon100_name = []\n",
    "for prdname1 in prdnames1:\n",
    "    give_coupon100_name.append(prdname1.get_text())\n",
    "print(give_coupon100_name)"
   ]
  },
  {
   "cell_type": "code",
   "execution_count": 102,
   "id": "7a9e042e",
   "metadata": {},
   "outputs": [
    {
     "data": {
      "text/plain": [
       "160"
      ]
     },
     "execution_count": 102,
     "metadata": {},
     "output_type": "execute_result"
    }
   ],
   "source": [
    "len(give_coupon100_name)"
   ]
  },
  {
   "cell_type": "markdown",
   "id": "2bc40584",
   "metadata": {},
   "source": [
    "### 가격"
   ]
  },
  {
   "cell_type": "code",
   "execution_count": 103,
   "id": "1e048cfd",
   "metadata": {},
   "outputs": [],
   "source": [
    "prdprices1 = soup.find_all('em', {'class' : 'num_price'})"
   ]
  },
  {
   "cell_type": "code",
   "execution_count": 104,
   "id": "700f0713",
   "metadata": {},
   "outputs": [
    {
     "name": "stdout",
     "output_type": "stream",
     "text": [
      "['26,000원', '32,000원', '30,000원', '8,900원', '17,000원', '20,000원', '30,000원', '27,000원', '28,000원', '31,000원', '3,500원', '29,000원', '24,000원', '13,500원', '28,000원', '50,000원', '25,000원', '4,300원', '29,000원', '26,500원', '13,500원', '4,500원', '30,000원', '10,200원', '30,000원', '50,000원', '35,000원', '15,900원', '16,900원', '21,800원', '9,000원', '15,700원', '16,900원', '12,900원', '5,000원', '19,500원', '20,200원', '14,500원', '33,000원', '22,800원', '20,000원', '22,500원', '26,000원', '25,000원', '23,000원', '20,000원', '23,500원', '31,500원', '22,000원', '25,000원', '20,000원', '26,000원', '20,900원', '25,800원', '27,500원', '26,000원', '35,280원', '33,000원', '28,000원', '22,000원', '31,000원', '30,000원', '27,000원', '27,000원', '50,000원', '35,000원', '31,000원', '30,000원', '27,000원', '31,000원', '23,000원', '10,000원', '33,000원', '31,000원', '30,000원', '27,000원', '42,000원', '32,000원', '29,000원', '31,000원', '12,000원', '100,000원', '50,000원', '15,000원', '30,000원', '10,000원', '23,000원', '20,000원', '22,900원', '20,000원', '11,000원', '16,000원', '10,000원', '72,900원', '16,000원', '100,000원', '50,000원', '55,800원', '29,100원', '100,000원', '31,000원', '28,000원', '12,000원', '22,000원', '30,000원', '60,000원', '17,000원', '24,000원', '11,000원', '40,000원', '9,000원', '8,500원', '12,000원', '30,000원', '50,000원', '30,000원', '19,000원', '50,000원', '50,000원', '30,000원', '100,000원', '50,000원', '100,000원', '30,000원', '50,000원', '50,000원', '30,000원', '200,000원', '50,000원', '50,000원', '50,000원', '300,000원', '30,000원', '300,000원', '50,000원', '100,000원', '50,000원', '20,000원', '100,000원', '30,000원', '30,000원', '50,000원', '20,000원', '10,000원', '10,000원', '5,000원', '5,000원', '30,000원', '30,000원', '10,000원', '1,500원', '1,100원', '50,000원', '2,400원', '10,000원', '20,000원', '9,700원', '1,500원', '2,400원', '3,000원']\n"
     ]
    }
   ],
   "source": [
    "give_coupon100_price = []\n",
    "for prdprice1 in prdprices1:\n",
    "    give_coupon100_price.append(prdprice1.get_text())\n",
    "print(give_coupon100_price)"
   ]
  },
  {
   "cell_type": "code",
   "execution_count": 105,
   "id": "af3daee8",
   "metadata": {},
   "outputs": [
    {
     "data": {
      "text/plain": [
       "160"
      ]
     },
     "execution_count": 105,
     "metadata": {},
     "output_type": "execute_result"
    }
   ],
   "source": [
    "len(give_coupon100_price)"
   ]
  },
  {
   "cell_type": "markdown",
   "id": "c3c8c617",
   "metadata": {},
   "source": [
    "### 브랜드"
   ]
  },
  {
   "cell_type": "code",
   "execution_count": 106,
   "id": "a63db749",
   "metadata": {},
   "outputs": [],
   "source": [
    "prdbrands1 = soup.find_all('span', {'class' : 'txt_brand'})"
   ]
  },
  {
   "cell_type": "code",
   "execution_count": 107,
   "id": "0a19ce5d",
   "metadata": {},
   "outputs": [
    {
     "name": "stdout",
     "output_type": "stream",
     "text": [
      "['배스킨라빈스', '배스킨라빈스', '배스킨라빈스', '배스킨라빈스', '배스킨라빈스', '배스킨라빈스', '배스킨라빈스', '배스킨라빈스', '배스킨라빈스', '배스킨라빈스', '배스킨라빈스', '배스킨라빈스', '배스킨라빈스', '배스킨라빈스', '배스킨라빈스', '배스킨라빈스', '배스킨라빈스', '배스킨라빈스', '배스킨라빈스', '배스킨라빈스', '스타벅스', '스타벅스', '스타벅스', '스타벅스', '스타벅스 상품권', '스타벅스', '투썸플레이스', '스타벅스', '스타벅스', '스타벅스', '스타벅스', '투썸플레이스', '스타벅스', '설빙', '스타벅스', '스타벅스', '스타벅스', '스타벅스', '투썸플레이스', '스타벅스', 'BHC', 'BBQ', '교촌치킨', 'BHC', '교촌치킨', '굽네치킨', 'BBQ', 'BHC', '교촌치킨', '굽네치킨', 'BHC', '교촌치킨', '푸라닭', '푸라닭', 'BBQ', '교촌치킨', '도미노피자', '교촌치킨', '교촌치킨', 'BHC', '파리바게뜨', '파리바게뜨', '파리바게뜨', '파리바게뜨', '파리바게뜨', '파리바게뜨', '파리바게뜨', '뚜레쥬르', '파리바게뜨', '파리바게뜨', '파리바게뜨', '파리바게뜨', '파리바게뜨', '파리바게뜨', '뚜레쥬르', '파리바게뜨', '파리바게뜨', '파리바게뜨', '파리바게뜨', '파리바게뜨', '본죽', '아웃백', '아웃백', '본죽', '본죽', '본죽', '본죽', '본죽', '본죽', '본죽', '본죽', '본죽', '본죽', '아웃백', '본죽', '빕스', '본죽', '애슐리', '죽이야기', '외식상품권', 'CGV', '롯데시네마', 'CGV', '롯데시네마', '메가박스', '롯데시네마', 'CGV', '메가박스', '롯데시네마', 'CGV', 'CGV', '롯데시네마', '메가박스', '메가박스', '롯데시네마', '롯데시네마', 'CGV', '메가박스', 'CGV', 'CGV', '이마트,신세계상품권', '이마트,신세계상품권', '롯데모바일교환권', '요기요', '롯데모바일교환권', '요기요', '이마트,신세계상품권', '롯데모바일교환권', 'S-OIL', '이마트,트레이더스', '문화상품권', '이마트,신세계상품권', 'S-OIL', '롯데모바일교환권', '카카오페이상품권', 'Google Play', '홈플러스', '요기요', '이마트,트레이더스', '카카오페이상품권', '올리브영', '올리브영', '올리브영', 'CU', 'GS25', 'GS25', 'CU', 'CU', 'GS25', '올리브영', 'CU', 'CU', 'CU', 'CU', '세븐일레븐', 'GS25', 'CU', 'GS25', 'GS25', 'CU']\n"
     ]
    }
   ],
   "source": [
    "give_coupon100_brand = []\n",
    "for prdbrand1 in prdbrands1:\n",
    "    give_coupon100_brand.append(prdbrand1.get_text())\n",
    "print(give_coupon100_brand)"
   ]
  },
  {
   "cell_type": "markdown",
   "id": "ec209903",
   "metadata": {},
   "source": [
    "# 카테고리-브랜드 테이블 생성"
   ]
  },
  {
   "cell_type": "code",
   "execution_count": 109,
   "id": "dc310195",
   "metadata": {},
   "outputs": [],
   "source": [
    "db = pymysql.connect(host='localhost', port=3306, user='root', passwd='8376', db='mywork', charset='utf8')"
   ]
  },
  {
   "cell_type": "code",
   "execution_count": 115,
   "id": "7531f781",
   "metadata": {},
   "outputs": [],
   "source": [
    "ecommerce = db.cursor()"
   ]
  },
  {
   "cell_type": "code",
   "execution_count": 116,
   "id": "59531c02",
   "metadata": {},
   "outputs": [],
   "source": [
    "sql = \"\"\"\n",
    "create table Cate_br (\n",
    "Category varchar(50) not null,\n",
    "Brand varchar(50) not null\n",
    ");\n",
    "\"\"\""
   ]
  },
  {
   "cell_type": "code",
   "execution_count": 119,
   "id": "e2208e0e",
   "metadata": {},
   "outputs": [
    {
     "ename": "OperationalError",
     "evalue": "(1050, \"Table 'cate_br' already exists\")",
     "output_type": "error",
     "traceback": [
      "\u001b[1;31m---------------------------------------------------------------------------\u001b[0m",
      "\u001b[1;31mOperationalError\u001b[0m                          Traceback (most recent call last)",
      "Input \u001b[1;32mIn [119]\u001b[0m, in \u001b[0;36m<cell line: 1>\u001b[1;34m()\u001b[0m\n\u001b[1;32m----> 1\u001b[0m \u001b[43mecommerce\u001b[49m\u001b[38;5;241;43m.\u001b[39;49m\u001b[43mexecute\u001b[49m\u001b[43m(\u001b[49m\u001b[43msql\u001b[49m\u001b[43m)\u001b[49m\n",
      "File \u001b[1;32m~\\anaconda3\\lib\\site-packages\\pymysql\\cursors.py:148\u001b[0m, in \u001b[0;36mCursor.execute\u001b[1;34m(self, query, args)\u001b[0m\n\u001b[0;32m    144\u001b[0m     \u001b[38;5;28;01mpass\u001b[39;00m\n\u001b[0;32m    146\u001b[0m query \u001b[38;5;241m=\u001b[39m \u001b[38;5;28mself\u001b[39m\u001b[38;5;241m.\u001b[39mmogrify(query, args)\n\u001b[1;32m--> 148\u001b[0m result \u001b[38;5;241m=\u001b[39m \u001b[38;5;28;43mself\u001b[39;49m\u001b[38;5;241;43m.\u001b[39;49m\u001b[43m_query\u001b[49m\u001b[43m(\u001b[49m\u001b[43mquery\u001b[49m\u001b[43m)\u001b[49m\n\u001b[0;32m    149\u001b[0m \u001b[38;5;28mself\u001b[39m\u001b[38;5;241m.\u001b[39m_executed \u001b[38;5;241m=\u001b[39m query\n\u001b[0;32m    150\u001b[0m \u001b[38;5;28;01mreturn\u001b[39;00m result\n",
      "File \u001b[1;32m~\\anaconda3\\lib\\site-packages\\pymysql\\cursors.py:310\u001b[0m, in \u001b[0;36mCursor._query\u001b[1;34m(self, q)\u001b[0m\n\u001b[0;32m    308\u001b[0m \u001b[38;5;28mself\u001b[39m\u001b[38;5;241m.\u001b[39m_last_executed \u001b[38;5;241m=\u001b[39m q\n\u001b[0;32m    309\u001b[0m \u001b[38;5;28mself\u001b[39m\u001b[38;5;241m.\u001b[39m_clear_result()\n\u001b[1;32m--> 310\u001b[0m \u001b[43mconn\u001b[49m\u001b[38;5;241;43m.\u001b[39;49m\u001b[43mquery\u001b[49m\u001b[43m(\u001b[49m\u001b[43mq\u001b[49m\u001b[43m)\u001b[49m\n\u001b[0;32m    311\u001b[0m \u001b[38;5;28mself\u001b[39m\u001b[38;5;241m.\u001b[39m_do_get_result()\n\u001b[0;32m    312\u001b[0m \u001b[38;5;28;01mreturn\u001b[39;00m \u001b[38;5;28mself\u001b[39m\u001b[38;5;241m.\u001b[39mrowcount\n",
      "File \u001b[1;32m~\\anaconda3\\lib\\site-packages\\pymysql\\connections.py:548\u001b[0m, in \u001b[0;36mConnection.query\u001b[1;34m(self, sql, unbuffered)\u001b[0m\n\u001b[0;32m    546\u001b[0m     sql \u001b[38;5;241m=\u001b[39m sql\u001b[38;5;241m.\u001b[39mencode(\u001b[38;5;28mself\u001b[39m\u001b[38;5;241m.\u001b[39mencoding, \u001b[38;5;124m\"\u001b[39m\u001b[38;5;124msurrogateescape\u001b[39m\u001b[38;5;124m\"\u001b[39m)\n\u001b[0;32m    547\u001b[0m \u001b[38;5;28mself\u001b[39m\u001b[38;5;241m.\u001b[39m_execute_command(COMMAND\u001b[38;5;241m.\u001b[39mCOM_QUERY, sql)\n\u001b[1;32m--> 548\u001b[0m \u001b[38;5;28mself\u001b[39m\u001b[38;5;241m.\u001b[39m_affected_rows \u001b[38;5;241m=\u001b[39m \u001b[38;5;28;43mself\u001b[39;49m\u001b[38;5;241;43m.\u001b[39;49m\u001b[43m_read_query_result\u001b[49m\u001b[43m(\u001b[49m\u001b[43munbuffered\u001b[49m\u001b[38;5;241;43m=\u001b[39;49m\u001b[43munbuffered\u001b[49m\u001b[43m)\u001b[49m\n\u001b[0;32m    549\u001b[0m \u001b[38;5;28;01mreturn\u001b[39;00m \u001b[38;5;28mself\u001b[39m\u001b[38;5;241m.\u001b[39m_affected_rows\n",
      "File \u001b[1;32m~\\anaconda3\\lib\\site-packages\\pymysql\\connections.py:775\u001b[0m, in \u001b[0;36mConnection._read_query_result\u001b[1;34m(self, unbuffered)\u001b[0m\n\u001b[0;32m    773\u001b[0m \u001b[38;5;28;01melse\u001b[39;00m:\n\u001b[0;32m    774\u001b[0m     result \u001b[38;5;241m=\u001b[39m MySQLResult(\u001b[38;5;28mself\u001b[39m)\n\u001b[1;32m--> 775\u001b[0m     \u001b[43mresult\u001b[49m\u001b[38;5;241;43m.\u001b[39;49m\u001b[43mread\u001b[49m\u001b[43m(\u001b[49m\u001b[43m)\u001b[49m\n\u001b[0;32m    776\u001b[0m \u001b[38;5;28mself\u001b[39m\u001b[38;5;241m.\u001b[39m_result \u001b[38;5;241m=\u001b[39m result\n\u001b[0;32m    777\u001b[0m \u001b[38;5;28;01mif\u001b[39;00m result\u001b[38;5;241m.\u001b[39mserver_status \u001b[38;5;129;01mis\u001b[39;00m \u001b[38;5;129;01mnot\u001b[39;00m \u001b[38;5;28;01mNone\u001b[39;00m:\n",
      "File \u001b[1;32m~\\anaconda3\\lib\\site-packages\\pymysql\\connections.py:1156\u001b[0m, in \u001b[0;36mMySQLResult.read\u001b[1;34m(self)\u001b[0m\n\u001b[0;32m   1154\u001b[0m \u001b[38;5;28;01mdef\u001b[39;00m \u001b[38;5;21mread\u001b[39m(\u001b[38;5;28mself\u001b[39m):\n\u001b[0;32m   1155\u001b[0m     \u001b[38;5;28;01mtry\u001b[39;00m:\n\u001b[1;32m-> 1156\u001b[0m         first_packet \u001b[38;5;241m=\u001b[39m \u001b[38;5;28;43mself\u001b[39;49m\u001b[38;5;241;43m.\u001b[39;49m\u001b[43mconnection\u001b[49m\u001b[38;5;241;43m.\u001b[39;49m\u001b[43m_read_packet\u001b[49m\u001b[43m(\u001b[49m\u001b[43m)\u001b[49m\n\u001b[0;32m   1158\u001b[0m         \u001b[38;5;28;01mif\u001b[39;00m first_packet\u001b[38;5;241m.\u001b[39mis_ok_packet():\n\u001b[0;32m   1159\u001b[0m             \u001b[38;5;28mself\u001b[39m\u001b[38;5;241m.\u001b[39m_read_ok_packet(first_packet)\n",
      "File \u001b[1;32m~\\anaconda3\\lib\\site-packages\\pymysql\\connections.py:725\u001b[0m, in \u001b[0;36mConnection._read_packet\u001b[1;34m(self, packet_type)\u001b[0m\n\u001b[0;32m    723\u001b[0m     \u001b[38;5;28;01mif\u001b[39;00m \u001b[38;5;28mself\u001b[39m\u001b[38;5;241m.\u001b[39m_result \u001b[38;5;129;01mis\u001b[39;00m \u001b[38;5;129;01mnot\u001b[39;00m \u001b[38;5;28;01mNone\u001b[39;00m \u001b[38;5;129;01mand\u001b[39;00m \u001b[38;5;28mself\u001b[39m\u001b[38;5;241m.\u001b[39m_result\u001b[38;5;241m.\u001b[39munbuffered_active \u001b[38;5;129;01mis\u001b[39;00m \u001b[38;5;28;01mTrue\u001b[39;00m:\n\u001b[0;32m    724\u001b[0m         \u001b[38;5;28mself\u001b[39m\u001b[38;5;241m.\u001b[39m_result\u001b[38;5;241m.\u001b[39munbuffered_active \u001b[38;5;241m=\u001b[39m \u001b[38;5;28;01mFalse\u001b[39;00m\n\u001b[1;32m--> 725\u001b[0m     \u001b[43mpacket\u001b[49m\u001b[38;5;241;43m.\u001b[39;49m\u001b[43mraise_for_error\u001b[49m\u001b[43m(\u001b[49m\u001b[43m)\u001b[49m\n\u001b[0;32m    726\u001b[0m \u001b[38;5;28;01mreturn\u001b[39;00m packet\n",
      "File \u001b[1;32m~\\anaconda3\\lib\\site-packages\\pymysql\\protocol.py:221\u001b[0m, in \u001b[0;36mMysqlPacket.raise_for_error\u001b[1;34m(self)\u001b[0m\n\u001b[0;32m    219\u001b[0m \u001b[38;5;28;01mif\u001b[39;00m DEBUG:\n\u001b[0;32m    220\u001b[0m     \u001b[38;5;28mprint\u001b[39m(\u001b[38;5;124m\"\u001b[39m\u001b[38;5;124merrno =\u001b[39m\u001b[38;5;124m\"\u001b[39m, errno)\n\u001b[1;32m--> 221\u001b[0m \u001b[43merr\u001b[49m\u001b[38;5;241;43m.\u001b[39;49m\u001b[43mraise_mysql_exception\u001b[49m\u001b[43m(\u001b[49m\u001b[38;5;28;43mself\u001b[39;49m\u001b[38;5;241;43m.\u001b[39;49m\u001b[43m_data\u001b[49m\u001b[43m)\u001b[49m\n",
      "File \u001b[1;32m~\\anaconda3\\lib\\site-packages\\pymysql\\err.py:143\u001b[0m, in \u001b[0;36mraise_mysql_exception\u001b[1;34m(data)\u001b[0m\n\u001b[0;32m    141\u001b[0m \u001b[38;5;28;01mif\u001b[39;00m errorclass \u001b[38;5;129;01mis\u001b[39;00m \u001b[38;5;28;01mNone\u001b[39;00m:\n\u001b[0;32m    142\u001b[0m     errorclass \u001b[38;5;241m=\u001b[39m InternalError \u001b[38;5;28;01mif\u001b[39;00m errno \u001b[38;5;241m<\u001b[39m \u001b[38;5;241m1000\u001b[39m \u001b[38;5;28;01melse\u001b[39;00m OperationalError\n\u001b[1;32m--> 143\u001b[0m \u001b[38;5;28;01mraise\u001b[39;00m errorclass(errno, errval)\n",
      "\u001b[1;31mOperationalError\u001b[0m: (1050, \"Table 'cate_br' already exists\")"
     ]
    }
   ],
   "source": [
    "ecommerce.execute(sql)"
   ]
  },
  {
   "cell_type": "code",
   "execution_count": 120,
   "id": "b9b940c7",
   "metadata": {},
   "outputs": [],
   "source": [
    "db.commit()"
   ]
  },
  {
   "cell_type": "code",
   "execution_count": 121,
   "id": "bd51f14f",
   "metadata": {},
   "outputs": [],
   "source": [
    "db.close()"
   ]
  },
  {
   "cell_type": "code",
   "execution_count": 122,
   "id": "d8249e8f",
   "metadata": {},
   "outputs": [],
   "source": [
    "db = pymysql.connect(host='localhost', port=3306, user='root', passwd='8376', db='mywork', charset='utf8')\n",
    "\n",
    "cursor = db.cursor()\n",
    "\n",
    "for i in bakery_final:\n",
    "    k = str(i)\n",
    "    print(k)\n",
    "    sql = \"\"\"\n",
    "    insert into cate_br values (\"bakery\", \"{0}\"\n",
    "    );\n",
    "    \"\"\".format(k)\n",
    "    cursor.execute(sql)\n",
    "    \n",
    "db.commit()\n",
    "db.close()"
   ]
  },
  {
   "cell_type": "code",
   "execution_count": 123,
   "id": "b074c1f0",
   "metadata": {},
   "outputs": [],
   "source": [
    "db = pymysql.connect(host='localhost', port=3306, user='root', passwd='8376', db='mywork', charset='utf8')\n",
    "\n",
    "cursor = db.cursor()\n",
    "\n",
    "for i in cafe_final:\n",
    "    k = str(i)\n",
    "    print(k)\n",
    "    sql = \"\"\"\n",
    "    insert into cate_br values (\"cafe\", \"{0}\"\n",
    "    );\n",
    "    \"\"\".format(k)\n",
    "    cursor.execute(sql)\n",
    "    \n",
    "db.commit()\n",
    "db.close()"
   ]
  },
  {
   "cell_type": "code",
   "execution_count": 124,
   "id": "3f51ad31",
   "metadata": {},
   "outputs": [],
   "source": [
    "db = pymysql.connect(host='localhost', port=3306, user='root', passwd='8376', db='mywork', charset='utf8')\n",
    "\n",
    "cursor = db.cursor()\n",
    "\n",
    "for i in icecream_final:\n",
    "    k = str(i)\n",
    "    print(k)\n",
    "    sql = \"\"\"\n",
    "    insert into cate_br values (\"icecream\", \"{0}\"\n",
    "    );\n",
    "    \"\"\".format(k)\n",
    "    cursor.execute(sql)\n",
    "    \n",
    "db.commit()\n",
    "db.close()"
   ]
  },
  {
   "cell_type": "code",
   "execution_count": 125,
   "id": "38d1ffa9",
   "metadata": {},
   "outputs": [],
   "source": [
    "db = pymysql.connect(host='localhost', port=3306, user='root', passwd='8376', db='mywork', charset='utf8')\n",
    "\n",
    "cursor = db.cursor()\n",
    "\n",
    "for i in meat_final:\n",
    "    k = str(i)\n",
    "    print(k)\n",
    "    sql = \"\"\"\n",
    "    insert into cate_br values (\"meat\", \"{0}\"\n",
    "    );\n",
    "    \"\"\".format(k)\n",
    "    cursor.execute(sql)\n",
    "    \n",
    "db.commit()\n",
    "db.close()"
   ]
  },
  {
   "cell_type": "code",
   "execution_count": 126,
   "id": "3dbfcea6",
   "metadata": {},
   "outputs": [],
   "source": [
    "db = pymysql.connect(host='localhost', port=3306, user='root', passwd='8376', db='mywork', charset='utf8')\n",
    "\n",
    "cursor = db.cursor()\n",
    "\n",
    "for i in chicken_final:\n",
    "    k = str(i)\n",
    "    print(k)\n",
    "    sql = \"\"\"\n",
    "    insert into cate_br values (\"chicken\", \"{0}\"\n",
    "    );\n",
    "    \"\"\".format(k)\n",
    "    cursor.execute(sql)\n",
    "    \n",
    "db.commit()\n",
    "db.close()"
   ]
  },
  {
   "cell_type": "code",
   "execution_count": 127,
   "id": "ff0fe04d",
   "metadata": {},
   "outputs": [],
   "source": [
    "db = pymysql.connect(host='localhost', port=3306, user='root', passwd='8376', db='mywork', charset='utf8')\n",
    "\n",
    "cursor = db.cursor()\n",
    "\n",
    "for i in burger_final:\n",
    "    k = str(i)\n",
    "    print(k)\n",
    "    sql = \"\"\"\n",
    "    insert into cate_br values (\"burger\", \"{0}\"\n",
    "    );\n",
    "    \"\"\".format(k)\n",
    "    cursor.execute(sql)\n",
    "    \n",
    "db.commit()\n",
    "db.close()"
   ]
  },
  {
   "cell_type": "code",
   "execution_count": 128,
   "id": "e3144766",
   "metadata": {},
   "outputs": [],
   "source": [
    "db = pymysql.connect(host='localhost', port=3306, user='root', passwd='8376', db='mywork', charset='utf8')\n",
    "\n",
    "cursor = db.cursor()\n",
    "\n",
    "for i in convi:\n",
    "    k = str(i)\n",
    "    print(k)\n",
    "    sql = \"\"\"\n",
    "    insert into cate_br values (\"convenience\", \"{0}\"\n",
    "    );\n",
    "    \"\"\".format(k)\n",
    "    cursor.execute(sql)\n",
    "    \n",
    "db.commit()\n",
    "db.close()"
   ]
  },
  {
   "cell_type": "code",
   "execution_count": 129,
   "id": "e6dfe798",
   "metadata": {},
   "outputs": [],
   "source": [
    "db = pymysql.connect(host='localhost', port=3306, user='root', passwd='8376', db='mywork', charset='utf8')\n",
    "\n",
    "cursor = db.cursor()\n",
    "\n",
    "for i in kor_chi_jap:\n",
    "    k = str(i)\n",
    "    print(k)\n",
    "    sql = \"\"\"\n",
    "    insert into cate_br values (\"kor_chi_jap\", \"{0}\"\n",
    "    );\n",
    "    \"\"\".format(k)\n",
    "    cursor.execute(sql)\n",
    "    \n",
    "db.commit()\n",
    "db.close()"
   ]
  },
  {
   "cell_type": "code",
   "execution_count": 130,
   "id": "e2b1035f",
   "metadata": {},
   "outputs": [],
   "source": [
    "db = pymysql.connect(host='localhost', port=3306, user='root', passwd='8376', db='mywork', charset='utf8')\n",
    "\n",
    "cursor = db.cursor()\n",
    "\n",
    "for i in fusion:\n",
    "    k = str(i)\n",
    "    print(k)\n",
    "    sql = \"\"\"\n",
    "    insert into cate_br values (\"fusion\", \"{0}\"\n",
    "    );\n",
    "    \"\"\".format(k)\n",
    "    cursor.execute(sql)\n",
    "    \n",
    "db.commit()\n",
    "db.close()"
   ]
  },
  {
   "cell_type": "code",
   "execution_count": 131,
   "id": "5e978a74",
   "metadata": {},
   "outputs": [],
   "source": [
    "db = pymysql.connect(host='localhost', port=3306, user='root', passwd='8376', db='mywork', charset='utf8')\n",
    "\n",
    "cursor = db.cursor()\n",
    "\n",
    "for i in boonsik:\n",
    "    k = str(i)\n",
    "    print(k)\n",
    "    sql = \"\"\"\n",
    "    insert into cate_br values (\"boonsik\", \"{0}\"\n",
    "    );\n",
    "    \"\"\".format(k)\n",
    "    cursor.execute(sql)\n",
    "    \n",
    "db.commit()\n",
    "db.close()"
   ]
  },
  {
   "cell_type": "code",
   "execution_count": 132,
   "id": "be9bb6ca",
   "metadata": {},
   "outputs": [],
   "source": [
    "db = pymysql.connect(host='localhost', port=3306, user='root', passwd='8376', db='mywork', charset='utf8')\n",
    "\n",
    "cursor = db.cursor()\n",
    "\n",
    "for i in family:\n",
    "    k = str(i)\n",
    "    print(k)\n",
    "    sql = \"\"\"\n",
    "    insert into cate_br values (\"family\", \"{0}\"\n",
    "    );\n",
    "    \"\"\".format(k)\n",
    "    cursor.execute(sql)\n",
    "    \n",
    "db.commit()\n",
    "db.close()"
   ]
  },
  {
   "cell_type": "markdown",
   "id": "7ccab067",
   "metadata": {},
   "source": [
    "# "
   ]
  },
  {
   "cell_type": "code",
   "execution_count": null,
   "id": "b7bc4274",
   "metadata": {},
   "outputs": [],
   "source": []
  },
  {
   "cell_type": "code",
   "execution_count": null,
   "id": "09fe3383",
   "metadata": {},
   "outputs": [],
   "source": []
  },
  {
   "cell_type": "code",
   "execution_count": null,
   "id": "b24dfc0c",
   "metadata": {},
   "outputs": [],
   "source": []
  },
  {
   "cell_type": "code",
   "execution_count": null,
   "id": "ac843bc8",
   "metadata": {},
   "outputs": [],
   "source": []
  },
  {
   "cell_type": "code",
   "execution_count": null,
   "id": "4d3e828b",
   "metadata": {},
   "outputs": [],
   "source": []
  },
  {
   "cell_type": "code",
   "execution_count": null,
   "id": "a35af35d",
   "metadata": {},
   "outputs": [],
   "source": []
  },
  {
   "cell_type": "code",
   "execution_count": null,
   "id": "12624e6e",
   "metadata": {},
   "outputs": [],
   "source": []
  },
  {
   "cell_type": "code",
   "execution_count": null,
   "id": "0094470c",
   "metadata": {},
   "outputs": [],
   "source": []
  },
  {
   "cell_type": "code",
   "execution_count": null,
   "id": "dd0958bb",
   "metadata": {},
   "outputs": [],
   "source": []
  },
  {
   "cell_type": "code",
   "execution_count": null,
   "id": "ef5db780",
   "metadata": {},
   "outputs": [],
   "source": []
  },
  {
   "cell_type": "code",
   "execution_count": null,
   "id": "152991ed",
   "metadata": {},
   "outputs": [],
   "source": []
  },
  {
   "cell_type": "code",
   "execution_count": null,
   "id": "0a40829b",
   "metadata": {},
   "outputs": [],
   "source": []
  },
  {
   "cell_type": "code",
   "execution_count": null,
   "id": "70da2a15",
   "metadata": {},
   "outputs": [],
   "source": []
  },
  {
   "cell_type": "code",
   "execution_count": null,
   "id": "6cb6fd0c",
   "metadata": {},
   "outputs": [],
   "source": []
  },
  {
   "cell_type": "code",
   "execution_count": null,
   "id": "2d3b95ce",
   "metadata": {},
   "outputs": [],
   "source": []
  },
  {
   "cell_type": "code",
   "execution_count": null,
   "id": "62e12d86",
   "metadata": {},
   "outputs": [],
   "source": []
  },
  {
   "cell_type": "code",
   "execution_count": null,
   "id": "9d5d99d8",
   "metadata": {},
   "outputs": [],
   "source": []
  },
  {
   "cell_type": "code",
   "execution_count": null,
   "id": "a394e1ee",
   "metadata": {},
   "outputs": [],
   "source": []
  },
  {
   "cell_type": "code",
   "execution_count": null,
   "id": "003eec79",
   "metadata": {},
   "outputs": [],
   "source": []
  },
  {
   "cell_type": "code",
   "execution_count": null,
   "id": "fa39860c",
   "metadata": {},
   "outputs": [],
   "source": []
  },
  {
   "cell_type": "code",
   "execution_count": null,
   "id": "d759a5ef",
   "metadata": {},
   "outputs": [],
   "source": []
  },
  {
   "cell_type": "code",
   "execution_count": null,
   "id": "23aa31a1",
   "metadata": {},
   "outputs": [],
   "source": []
  },
  {
   "cell_type": "code",
   "execution_count": null,
   "id": "0c5507e1",
   "metadata": {},
   "outputs": [],
   "source": []
  },
  {
   "cell_type": "code",
   "execution_count": null,
   "id": "3bb230c9",
   "metadata": {},
   "outputs": [],
   "source": []
  },
  {
   "cell_type": "code",
   "execution_count": null,
   "id": "b6eff0ae",
   "metadata": {},
   "outputs": [],
   "source": []
  },
  {
   "cell_type": "code",
   "execution_count": null,
   "id": "59d41143",
   "metadata": {},
   "outputs": [],
   "source": []
  },
  {
   "cell_type": "code",
   "execution_count": null,
   "id": "df39ce8e",
   "metadata": {},
   "outputs": [],
   "source": []
  },
  {
   "cell_type": "code",
   "execution_count": null,
   "id": "b879c8e3",
   "metadata": {},
   "outputs": [],
   "source": []
  },
  {
   "cell_type": "code",
   "execution_count": null,
   "id": "18afbf3c",
   "metadata": {},
   "outputs": [],
   "source": []
  },
  {
   "cell_type": "code",
   "execution_count": null,
   "id": "35c669fb",
   "metadata": {},
   "outputs": [],
   "source": []
  }
 ],
 "metadata": {
  "kernelspec": {
   "display_name": "Python 3 (ipykernel)",
   "language": "python",
   "name": "python3"
  },
  "language_info": {
   "codemirror_mode": {
    "name": "ipython",
    "version": 3
   },
   "file_extension": ".py",
   "mimetype": "text/x-python",
   "name": "python",
   "nbconvert_exporter": "python",
   "pygments_lexer": "ipython3",
   "version": "3.9.12"
  }
 },
 "nbformat": 4,
 "nbformat_minor": 5
}

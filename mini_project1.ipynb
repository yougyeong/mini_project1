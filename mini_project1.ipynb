{
 "cells": [
  {
   "cell_type": "code",
   "execution_count": 1,
   "id": "dc671647",
   "metadata": {},
   "outputs": [],
   "source": [
    "import selenium"
   ]
  },
  {
   "cell_type": "code",
   "execution_count": 2,
   "id": "c0fabef7",
   "metadata": {},
   "outputs": [],
   "source": [
    "from selenium import webdriver"
   ]
  },
  {
   "cell_type": "code",
   "execution_count": 3,
   "id": "10897462",
   "metadata": {},
   "outputs": [],
   "source": [
    "import time"
   ]
  },
  {
   "cell_type": "code",
   "execution_count": 4,
   "id": "1c597e08",
   "metadata": {},
   "outputs": [],
   "source": [
    "from bs4 import BeautifulSoup"
   ]
  },
  {
   "cell_type": "code",
   "execution_count": 5,
   "id": "b0855a7d",
   "metadata": {},
   "outputs": [],
   "source": [
    "import pymysql"
   ]
  },
  {
   "cell_type": "markdown",
   "id": "f3078bfe",
   "metadata": {},
   "source": [
    "# 많이 선물한 선물 1만원 미만 top20"
   ]
  },
  {
   "cell_type": "code",
   "execution_count": 6,
   "id": "96bd96e3",
   "metadata": {},
   "outputs": [],
   "source": [
    "driver = webdriver.Chrome()"
   ]
  },
  {
   "cell_type": "code",
   "execution_count": 7,
   "id": "022161de",
   "metadata": {},
   "outputs": [],
   "source": [
    "driver.get('https://gift.kakao.com/home?targetType=ALL&rankType=MANY_RECEIVE&priceRange={%22min%22:0,%22max%22:9999}')"
   ]
  },
  {
   "cell_type": "code",
   "execution_count": 8,
   "id": "3ece0d72",
   "metadata": {},
   "outputs": [
    {
     "name": "stdout",
     "output_type": "stream",
     "text": [
      "Sroll done!!\n"
     ]
    }
   ],
   "source": [
    "prev_height = driver.execute_script('return document.body.scrollHeight')\n",
    "\n",
    "while True:\n",
    "    driver.execute_script('window.scrollTo(0, document.body.scrollHeight)')\n",
    "    time.sleep(1)\n",
    "    cur_height = driver.execute_script('return document.body.scrollHeight')\n",
    "    \n",
    "    if cur_height == prev_height:\n",
    "        break\n",
    "        \n",
    "    prev_height = cur_height\n",
    "print(\"Sroll done!!\")"
   ]
  },
  {
   "cell_type": "code",
   "execution_count": 9,
   "id": "c74aaa2f",
   "metadata": {},
   "outputs": [],
   "source": [
    "driver.execute_script(\"window.scrollTo(0, 2500)\")"
   ]
  },
  {
   "cell_type": "code",
   "execution_count": 10,
   "id": "552bf072",
   "metadata": {},
   "outputs": [],
   "source": [
    "button1 = driver.find_element_by_xpath('//*[@id=\"mArticle\"]/div[5]/app-products-ranking/div[2]/div[2]/button')\n",
    "button1.click()"
   ]
  },
  {
   "cell_type": "markdown",
   "id": "31129bc8",
   "metadata": {},
   "source": [
    "### 상품명"
   ]
  },
  {
   "cell_type": "code",
   "execution_count": 11,
   "id": "d1440277",
   "metadata": {},
   "outputs": [
    {
     "data": {
      "text/plain": [
       "['오리온마이구미1000',\n",
       " '롯데2부족할때복숭아240ML',\n",
       " '카페모카IceTAKEOUT',\n",
       " '더블마이쮸세트크라운마이쮸딸기크라운마이쮸포도',\n",
       " '아이스카페아메리카노T',\n",
       " '동원네스퀵초코180ML',\n",
       " '모구모구리치320ML',\n",
       " '녹차빽스치노소프트',\n",
       " '농심바나나킥75g',\n",
       " '동서스타벅스라떼컵270ml',\n",
       " '플레인요거트스무디',\n",
       " '쉐프엠젤리블리애플망고60G',\n",
       " '피카피카피카츄블록팩110ml',\n",
       " '매일킨더초코릿50g4입',\n",
       " '롯데아몬드빼빼로37G',\n",
       " '아이스모찌스트로베리',\n",
       " '롯데푸드돼지바',\n",
       " '쿠키초코프라페OnlyIceTAKEOUT',\n",
       " '아메리카노R',\n",
       " '크라운새콤달콤딸기500']"
      ]
     },
     "execution_count": 11,
     "metadata": {},
     "output_type": "execute_result"
    }
   ],
   "source": [
    "give_presents1 = []\n",
    "for i in range(1,21):\n",
    "    give_present = driver.find_element_by_xpath('//*[@id=\"mArticle\"]/div[5]/app-products-ranking/div[2]/ol/li[{}]/gl-link/a/span[2]/em'.format(i))\n",
    "    a = give_present.text\n",
    "    newa = ''.join(char for char in a if char.isalnum())\n",
    "    give_presents1.append(newa)\n",
    "give_presents1"
   ]
  },
  {
   "cell_type": "markdown",
   "id": "6bb84dcf",
   "metadata": {},
   "source": [
    "### 브랜드"
   ]
  },
  {
   "cell_type": "code",
   "execution_count": 12,
   "id": "9cb6d728",
   "metadata": {},
   "outputs": [],
   "source": [
    "soup = BeautifulSoup(driver.page_source, 'lxml')"
   ]
  },
  {
   "cell_type": "code",
   "execution_count": 13,
   "id": "7c78e456",
   "metadata": {},
   "outputs": [],
   "source": [
    "brands1 = soup.select(\"span.txt_brand\")"
   ]
  },
  {
   "cell_type": "code",
   "execution_count": 14,
   "id": "f4507f61",
   "metadata": {},
   "outputs": [
    {
     "data": {
      "text/plain": [
       "['세븐일레븐',\n",
       " 'GS25',\n",
       " '컴포즈커피',\n",
       " 'CU',\n",
       " '스타벅스',\n",
       " 'GS25',\n",
       " 'GS25',\n",
       " '빽다방',\n",
       " 'CU',\n",
       " 'CU',\n",
       " '빽다방',\n",
       " 'GS25',\n",
       " '배스킨라빈스',\n",
       " '세븐일레븐',\n",
       " 'GS25',\n",
       " '배스킨라빈스',\n",
       " 'CU',\n",
       " '컴포즈커피',\n",
       " '요거프레소',\n",
       " 'GS25']"
      ]
     },
     "execution_count": 14,
     "metadata": {},
     "output_type": "execute_result"
    }
   ],
   "source": [
    "give_brands1 = []\n",
    "for brand in brands1:\n",
    "    give_brands1.append(brand.text)\n",
    "give_brands1"
   ]
  },
  {
   "cell_type": "code",
   "execution_count": 15,
   "id": "b08dda6c",
   "metadata": {},
   "outputs": [
    {
     "data": {
      "text/plain": [
       "20"
      ]
     },
     "execution_count": 15,
     "metadata": {},
     "output_type": "execute_result"
    }
   ],
   "source": [
    "len(give_brands1)"
   ]
  },
  {
   "cell_type": "markdown",
   "id": "2246023f",
   "metadata": {},
   "source": [
    "# 많이 선물한 선물 1~2만원 top20"
   ]
  },
  {
   "cell_type": "code",
   "execution_count": 16,
   "id": "1b6d42ad",
   "metadata": {},
   "outputs": [],
   "source": [
    "driver.get('https://gift.kakao.com/home?targetType=ALL&rankType=MANY_RECEIVE&priceRange={%22min%22:10000,%22max%22:29999}')"
   ]
  },
  {
   "cell_type": "code",
   "execution_count": 17,
   "id": "9d0511dd",
   "metadata": {},
   "outputs": [
    {
     "name": "stdout",
     "output_type": "stream",
     "text": [
      "Sroll done!!\n"
     ]
    }
   ],
   "source": [
    "prev_height = driver.execute_script('return document.body.scrollHeight')\n",
    "\n",
    "while True:\n",
    "    driver.execute_script('window.scrollTo(0, document.body.scrollHeight)')\n",
    "    time.sleep(1)\n",
    "    cur_height = driver.execute_script('return document.body.scrollHeight')\n",
    "    \n",
    "    if cur_height == prev_height:\n",
    "        break\n",
    "        \n",
    "    prev_height = cur_height\n",
    "print(\"Sroll done!!\")"
   ]
  },
  {
   "cell_type": "code",
   "execution_count": 18,
   "id": "a7c4593f",
   "metadata": {},
   "outputs": [],
   "source": [
    "driver.execute_script(\"window.scrollTo(0, 2500)\")"
   ]
  },
  {
   "cell_type": "code",
   "execution_count": 19,
   "id": "994df02d",
   "metadata": {},
   "outputs": [],
   "source": [
    "button1 = driver.find_element_by_xpath('//*[@id=\"mArticle\"]/div[5]/app-products-ranking/div[2]/div[2]/button')\n",
    "button1.click()"
   ]
  },
  {
   "cell_type": "markdown",
   "id": "31a83acb",
   "metadata": {},
   "source": [
    "### 상품명"
   ]
  },
  {
   "cell_type": "code",
   "execution_count": 20,
   "id": "15d3bcf1",
   "metadata": {
    "scrolled": true
   },
   "outputs": [
    {
     "data": {
      "text/plain": [
       "['취업이직생일선물그라펜제주해수바디스프레이250ml3종택1',\n",
       " '교촌콤보퐁듀치즈볼세트',\n",
       " '통합모바일문화상품권20000원권교환권',\n",
       " '모바일교환권10000원권',\n",
       " '롯데시네마2D영화관람권',\n",
       " '통합모바일문화상품권10000원권교환권',\n",
       " '디지털상품권2만원권',\n",
       " '하귀농협22년첫출하달콤한제주하우스감귤15kg로얄과12Brix이상',\n",
       " '블루베리듬뿍롤케익배달가능',\n",
       " '답례품감사해요오설록웨딩그린티웨하스세트',\n",
       " '4DX관람권',\n",
       " '1만원금액권',\n",
       " '카카오페이상품권1만원권교환권',\n",
       " '디지털상품권1만원권',\n",
       " '생일선물이게진짜힙한건가레인보우프렌즈인형친구들',\n",
       " '부드러운디저트아이스카페아메리카노T2잔부드러운생크림카스텔라',\n",
       " '더벤티1만원권',\n",
       " '선물추천러블리티박스LovelyTeaBox4종x3입',\n",
       " '황금올리브치킨크림치즈볼',\n",
       " '선불번호1만원권교환권']"
      ]
     },
     "execution_count": 20,
     "metadata": {},
     "output_type": "execute_result"
    }
   ],
   "source": [
    "give_presents2 = []\n",
    "for i in range(1,21):\n",
    "    give_present = driver.find_element_by_xpath('//*[@id=\"mArticle\"]/div[5]/app-products-ranking/div[2]/ol/li[{}]/gl-link/a/span[2]/em'.format(i))\n",
    "    a = give_present.text\n",
    "    newa = ''.join(char for char in a if char.isalnum())\n",
    "    give_presents2.append(newa)\n",
    "give_presents2"
   ]
  },
  {
   "cell_type": "markdown",
   "id": "9988f55d",
   "metadata": {},
   "source": [
    "### 브랜드"
   ]
  },
  {
   "cell_type": "code",
   "execution_count": 21,
   "id": "4ecb938a",
   "metadata": {},
   "outputs": [],
   "source": [
    "soup = BeautifulSoup(driver.page_source, 'lxml')"
   ]
  },
  {
   "cell_type": "code",
   "execution_count": 22,
   "id": "46038b5d",
   "metadata": {},
   "outputs": [],
   "source": [
    "brands2 = soup.select(\"span.txt_brand\")"
   ]
  },
  {
   "cell_type": "code",
   "execution_count": 23,
   "id": "78b83cc4",
   "metadata": {},
   "outputs": [
    {
     "data": {
      "text/plain": [
       "['그라펜',\n",
       " '교촌치킨',\n",
       " '문화상품권',\n",
       " '커피빈',\n",
       " '롯데시네마',\n",
       " '문화상품권',\n",
       " '60계치킨',\n",
       " '제주-감귤',\n",
       " '파리바게뜨',\n",
       " '오설록',\n",
       " 'CGV',\n",
       " '미니스톱',\n",
       " '카카오페이상품권',\n",
       " '탐앤탐스',\n",
       " '테이스티드',\n",
       " '스타벅스',\n",
       " '더벤티',\n",
       " '오설록',\n",
       " 'BBQ',\n",
       " '닌텐도 선불 번호']"
      ]
     },
     "execution_count": 23,
     "metadata": {},
     "output_type": "execute_result"
    }
   ],
   "source": [
    "give_brands2 = []\n",
    "for brand in brands2:\n",
    "    give_brands2.append(brand.text)\n",
    "give_brands2"
   ]
  },
  {
   "cell_type": "markdown",
   "id": "135cf356",
   "metadata": {},
   "source": [
    "# 많이 선물한 선물 3~4만원 top20"
   ]
  },
  {
   "cell_type": "code",
   "execution_count": 24,
   "id": "e4dec34b",
   "metadata": {},
   "outputs": [],
   "source": [
    "driver.get('https://gift.kakao.com/home?targetType=ALL&rankType=MANY_RECEIVE&priceRange={%22min%22:30000,%22max%22:49999}')"
   ]
  },
  {
   "cell_type": "code",
   "execution_count": 25,
   "id": "c88986bf",
   "metadata": {},
   "outputs": [
    {
     "name": "stdout",
     "output_type": "stream",
     "text": [
      "Sroll done!!\n"
     ]
    }
   ],
   "source": [
    "prev_height = driver.execute_script('return document.body.scrollHeight')\n",
    "\n",
    "while True:\n",
    "    driver.execute_script('window.scrollTo(0, document.body.scrollHeight)')\n",
    "    time.sleep(1)\n",
    "    cur_height = driver.execute_script('return document.body.scrollHeight')\n",
    "    \n",
    "    if cur_height == prev_height:\n",
    "        break\n",
    "        \n",
    "    prev_height = cur_height\n",
    "print(\"Sroll done!!\")"
   ]
  },
  {
   "cell_type": "code",
   "execution_count": 26,
   "id": "ff160e83",
   "metadata": {},
   "outputs": [],
   "source": [
    "driver.execute_script(\"window.scrollTo(0, 2500)\")"
   ]
  },
  {
   "cell_type": "code",
   "execution_count": 27,
   "id": "395ecf53",
   "metadata": {},
   "outputs": [],
   "source": [
    "button1 = driver.find_element_by_xpath('//*[@id=\"mArticle\"]/div[5]/app-products-ranking/div[2]/div[2]/button')\n",
    "button1.click()"
   ]
  },
  {
   "cell_type": "markdown",
   "id": "75f1b4e7",
   "metadata": {},
   "source": [
    "### 상품명"
   ]
  },
  {
   "cell_type": "code",
   "execution_count": 28,
   "id": "d1ed0342",
   "metadata": {},
   "outputs": [
    {
     "data": {
      "text/plain": [
       "['출산백일돌선물아토팜크림로션워시3종세트',\n",
       " '감각적인선물티로직계수나무머그2P우드받침2P세트2종택1',\n",
       " '오리지널존스페이버릿L파파스파스타미트코카콜라500ml',\n",
       " '달콤한애플망고과일선물세트18KG이상45입로얄과',\n",
       " '사미헌갈비탕4팩1kg4팩사미헌갈비탕1kg',\n",
       " '지금은힘낼시간GNM조정석간건강밀크씨슬실리마린선물세트총6개월분밀크시슬',\n",
       " '탐라왕갓따온제주하우스감귤45kg로얄과12brix이상',\n",
       " '건강을선물하세요잇츠넛프리미엄60봉하루한줌견과선물세트30봉x2세트',\n",
       " '스타벅스화이트머그선물세트머그2개VIA커피2개입카드택1',\n",
       " '볼빅X츄파춥스12알골프공비비드컬러볼2피스',\n",
       " '직화불고기리치골드L펩시125L',\n",
       " '친구맺고3적립단독록시땅홈핸드워시기프트핸드워시솝트레이특별한선물톡별',\n",
       " '양키캔들라지자623g선샤인캔들워머세트',\n",
       " '취업이직생일선물빈지노PICK그라펜타투퍼퓸원우드50ml파우치증정',\n",
       " '엄마를위한출산선물센스있는출산선물이지맘멀티비타민수유부출산후영양제종합비타민',\n",
       " '횡성한우세트1등급한우갈비등심채끝선택소스증정',\n",
       " '5만원권',\n",
       " '항공직수입워싱턴싱싱점보체리1kg95row',\n",
       " '누적판매1000만개클럭마사지기선물세트건강선물EMS저주파안마기부모님선물',\n",
       " '블랑101출산선물세트3종세제유연제젖병세정제']"
      ]
     },
     "execution_count": 28,
     "metadata": {},
     "output_type": "execute_result"
    }
   ],
   "source": [
    "give_presents3 = []\n",
    "for i in range(1,21):\n",
    "    give_present = driver.find_element_by_xpath('//*[@id=\"mArticle\"]/div[5]/app-products-ranking/div[2]/ol/li[{}]/gl-link/a/span[2]/em'.format(i))\n",
    "    a = give_present.text\n",
    "    newa = ''.join(char for char in a if char.isalnum())\n",
    "    give_presents3.append(newa)\n",
    "give_presents3"
   ]
  },
  {
   "cell_type": "markdown",
   "id": "4d439cb7",
   "metadata": {},
   "source": [
    "### 브랜드"
   ]
  },
  {
   "cell_type": "code",
   "execution_count": 29,
   "id": "f392a50c",
   "metadata": {},
   "outputs": [],
   "source": [
    "soup = BeautifulSoup(driver.page_source, 'lxml')"
   ]
  },
  {
   "cell_type": "code",
   "execution_count": 30,
   "id": "1217070f",
   "metadata": {},
   "outputs": [],
   "source": [
    "brands3 = soup.select(\"span.txt_brand\")"
   ]
  },
  {
   "cell_type": "code",
   "execution_count": 31,
   "id": "6ccaad47",
   "metadata": {},
   "outputs": [
    {
     "data": {
      "text/plain": [
       "['아토팜',\n",
       " '티로직',\n",
       " '파파존스',\n",
       " '수플린 ',\n",
       " '사미헌',\n",
       " 'GNM자연의품격',\n",
       " '탐라왕',\n",
       " '넛츠피아',\n",
       " '텀블러',\n",
       " '세이골프',\n",
       " '피자헛',\n",
       " '록시땅',\n",
       " '양키캔들(리빙)',\n",
       " '그라펜',\n",
       " '이지맘',\n",
       " '횡성-한우',\n",
       " '본죽&비빔밥',\n",
       " '과일',\n",
       " '클럭',\n",
       " '블랑101']"
      ]
     },
     "execution_count": 31,
     "metadata": {},
     "output_type": "execute_result"
    }
   ],
   "source": [
    "give_brands3 = []\n",
    "for brand in brands3:\n",
    "    give_brands3.append(brand.text)\n",
    "give_brands3"
   ]
  },
  {
   "cell_type": "markdown",
   "id": "998ca58d",
   "metadata": {},
   "source": [
    "# 많이 선물한 선물 5만원 이상 top20"
   ]
  },
  {
   "cell_type": "code",
   "execution_count": 32,
   "id": "170f9765",
   "metadata": {},
   "outputs": [],
   "source": [
    "driver.get('https://gift.kakao.com/home?targetType=ALL&rankType=MANY_RECEIVE&priceRange={%22min%22:50000,%22max%22:5000000}')"
   ]
  },
  {
   "cell_type": "code",
   "execution_count": 33,
   "id": "fbf8fb4c",
   "metadata": {},
   "outputs": [
    {
     "name": "stdout",
     "output_type": "stream",
     "text": [
      "Sroll done!!\n"
     ]
    }
   ],
   "source": [
    "prev_height = driver.execute_script('return document.body.scrollHeight')\n",
    "\n",
    "while True:\n",
    "    driver.execute_script('window.scrollTo(0, document.body.scrollHeight)')\n",
    "    time.sleep(1)\n",
    "    cur_height = driver.execute_script('return document.body.scrollHeight')\n",
    "    \n",
    "    if cur_height == prev_height:\n",
    "        break\n",
    "        \n",
    "    prev_height = cur_height\n",
    "print(\"Sroll done!!\")"
   ]
  },
  {
   "cell_type": "code",
   "execution_count": 34,
   "id": "dfa8cfdf",
   "metadata": {},
   "outputs": [],
   "source": [
    "driver.execute_script(\"window.scrollTo(0, 2500)\")"
   ]
  },
  {
   "cell_type": "code",
   "execution_count": 35,
   "id": "9755b4d2",
   "metadata": {},
   "outputs": [],
   "source": [
    "button1 = driver.find_element_by_xpath('//*[@id=\"mArticle\"]/div[5]/app-products-ranking/div[2]/div[2]/button')\n",
    "button1.click()"
   ]
  },
  {
   "cell_type": "markdown",
   "id": "fa4fbddd",
   "metadata": {},
   "source": [
    "### 상품명"
   ]
  },
  {
   "cell_type": "code",
   "execution_count": 36,
   "id": "19f9852a",
   "metadata": {
    "scrolled": true
   },
   "outputs": [
    {
     "data": {
      "text/plain": [
       "['임신출산선물12종오가닉출산선물세트톡별',\n",
       " '기프트코드100000원권교환권',\n",
       " '듀오립세트D1베이비백립400g투움바파스타산펠레그리노1딜리버리전용',\n",
       " '품격담은대왕애플망고선물세트33KG6입',\n",
       " '5만원모바일상품권',\n",
       " '1등급한우선물세트금바구니1kg등심채끝특수부위국거리',\n",
       " '롯데백화점쓰리나인새차선물차량용방향제3종세트당일발송',\n",
       " '10만원권',\n",
       " '선물포장메종마르지엘라EDT30ml택1',\n",
       " 'APP전용e카드5만원교환권',\n",
       " '신세계상품권모바일교환권100000원',\n",
       " '5만원권',\n",
       " '신선한전복1kg선물세트810미가방포함',\n",
       " '모바일금액권5만원권',\n",
       " '축하해우대구축산농협1등급한우실속구이선물세트등심채끝각300g',\n",
       " '선물포장메종마르지엘라레이지선데이모닝EDT30ml',\n",
       " '모바일금액권5만원권',\n",
       " '조카선물출산선물백일선물피셔프라이스디럭스피아노아기체육관블루핑크FWT19GFN88',\n",
       " 'NEW센트선물포장디퓨저165ML',\n",
       " '신세계상품권모바일교환권50000원']"
      ]
     },
     "execution_count": 36,
     "metadata": {},
     "output_type": "execute_result"
    }
   ],
   "source": [
    "give_presents5 = []\n",
    "for i in range(1,21):\n",
    "    give_present = driver.find_element_by_xpath('//*[@id=\"mArticle\"]/div[5]/app-products-ranking/div[2]/ol/li[{}]/gl-link/a/span[2]/em'.format(i))\n",
    "    a = give_present.text\n",
    "    newa = ''.join(char for char in a if char.isalnum())\n",
    "    give_presents5.append(newa)\n",
    "give_presents5"
   ]
  },
  {
   "cell_type": "markdown",
   "id": "a6bceb97",
   "metadata": {},
   "source": [
    "### 브랜드"
   ]
  },
  {
   "cell_type": "code",
   "execution_count": 37,
   "id": "ac25f8b3",
   "metadata": {},
   "outputs": [],
   "source": [
    "soup = BeautifulSoup(driver.page_source, 'lxml')"
   ]
  },
  {
   "cell_type": "code",
   "execution_count": 38,
   "id": "c6379446",
   "metadata": {},
   "outputs": [],
   "source": [
    "brands5 = soup.select(\"span.txt_brand\")"
   ]
  },
  {
   "cell_type": "code",
   "execution_count": 39,
   "id": "0f95a8fa",
   "metadata": {},
   "outputs": [
    {
     "data": {
      "text/plain": [
       "['위드오가닉',\n",
       " 'Google Play',\n",
       " '아웃백',\n",
       " '원월드',\n",
       " '세븐일레븐',\n",
       " '소고기',\n",
       " '쓰리나인',\n",
       " '투썸플레이스',\n",
       " '메종마르지엘라(향수)',\n",
       " '스타벅스',\n",
       " '이마트,신세계상품권',\n",
       " '컴포즈커피',\n",
       " '완도-전복',\n",
       " '파스쿠찌',\n",
       " '팔공참한우',\n",
       " '메종마르지엘라(향수)',\n",
       " '맘스터치',\n",
       " '피셔프라이스',\n",
       " '조말론런던',\n",
       " '이마트,신세계상품권']"
      ]
     },
     "execution_count": 39,
     "metadata": {},
     "output_type": "execute_result"
    }
   ],
   "source": [
    "give_brands5 = []\n",
    "for brand in brands5:\n",
    "    give_brands5.append(brand.text)\n",
    "give_brands5"
   ]
  },
  {
   "cell_type": "markdown",
   "id": "e3dbd90b",
   "metadata": {},
   "source": [
    "# 받고 싶어한 선물한 선물 1만원 미만 top20"
   ]
  },
  {
   "cell_type": "code",
   "execution_count": 40,
   "id": "0f805f7a",
   "metadata": {},
   "outputs": [],
   "source": [
    "driver.get('https://gift.kakao.com/home?targetType=ALL&rankType=MANY_WISH&priceRange={%22min%22:0,%22max%22:9999}')"
   ]
  },
  {
   "cell_type": "code",
   "execution_count": 41,
   "id": "0f1b40bd",
   "metadata": {},
   "outputs": [
    {
     "name": "stdout",
     "output_type": "stream",
     "text": [
      "Sroll done!!\n"
     ]
    }
   ],
   "source": [
    "prev_height = driver.execute_script('return document.body.scrollHeight')\n",
    "\n",
    "while True:\n",
    "    driver.execute_script('window.scrollTo(0, document.body.scrollHeight)')\n",
    "    time.sleep(1)\n",
    "    cur_height = driver.execute_script('return document.body.scrollHeight')\n",
    "    \n",
    "    if cur_height == prev_height:\n",
    "        break\n",
    "        \n",
    "    prev_height = cur_height\n",
    "print(\"Sroll done!!\")"
   ]
  },
  {
   "cell_type": "code",
   "execution_count": 42,
   "id": "394259fb",
   "metadata": {},
   "outputs": [],
   "source": [
    "driver.execute_script(\"window.scrollTo(0, 2500)\")"
   ]
  },
  {
   "cell_type": "code",
   "execution_count": 43,
   "id": "2cb9c5a3",
   "metadata": {},
   "outputs": [],
   "source": [
    "button1 = driver.find_element_by_xpath('//*[@id=\"mArticle\"]/div[5]/app-products-ranking/div[2]/div[2]/button')\n",
    "button1.click()"
   ]
  },
  {
   "cell_type": "markdown",
   "id": "326016ab",
   "metadata": {},
   "source": [
    "### 상품명"
   ]
  },
  {
   "cell_type": "code",
   "execution_count": 44,
   "id": "8892ee2a",
   "metadata": {},
   "outputs": [
    {
     "data": {
      "text/plain": [
       "['쓸모없는선물타투쿨토시팔토시시원한생일선물쓸데없는신박한선물',\n",
       " '아이스카페라떼T',\n",
       " '인절미설빙',\n",
       " '아이스카페아메리카노T',\n",
       " '말랑아기고양이LED무드등취침모드',\n",
       " '이탈리아명품캔디포지타노과일캔디레몬오렌지200g택1임덧임산부수험생졸음사탕',\n",
       " '민트초콜릿칩블렌디드T',\n",
       " '빙그레바나나우유240ML',\n",
       " '집순이선물New춘식이피규어유리머그2종택1톡별',\n",
       " '방구석여행미니빔프로젝터무드세트건전지타입감성집들이홈파티포토존인테리어생일선물',\n",
       " '몬스터울트라에너지355ML',\n",
       " '시원하게함께아이스카페아메리카노T2잔',\n",
       " '버블윙스틱비누방울블링블링요술봉공주님들의비눗방울놀이',\n",
       " '싱글레귤러아이스크림',\n",
       " '채워지는귀여움라이언춘식이내열이중유리컵2종택1톡별',\n",
       " '헬리콥터프로펠러모자',\n",
       " '너에게간다행운행운의네잎클로버클로버1봉투1위로응원선물',\n",
       " '자바칩프라푸치노T',\n",
       " '만수르부럽지않아돈티슈집들이자취생일선물쓸데없는신박한선물',\n",
       " '아이스티샷추가아샷추']"
      ]
     },
     "execution_count": 44,
     "metadata": {},
     "output_type": "execute_result"
    }
   ],
   "source": [
    "want_presents1 = []\n",
    "for i in range(1,21):\n",
    "    want_present = driver.find_element_by_xpath('//*[@id=\"mArticle\"]/div[5]/app-products-ranking/div[2]/ol/li[{}]/gl-link/a/span[2]/em'.format(i))\n",
    "    a = want_present.text\n",
    "    newa = ''.join(char for char in a if char.isalnum())\n",
    "    want_presents1.append(newa)\n",
    "want_presents1"
   ]
  },
  {
   "cell_type": "markdown",
   "id": "bd36180a",
   "metadata": {},
   "source": [
    "### 브랜드"
   ]
  },
  {
   "cell_type": "code",
   "execution_count": 45,
   "id": "986eb7f1",
   "metadata": {},
   "outputs": [],
   "source": [
    "soup = BeautifulSoup(driver.page_source, 'lxml')"
   ]
  },
  {
   "cell_type": "code",
   "execution_count": 46,
   "id": "32c1fe6e",
   "metadata": {},
   "outputs": [],
   "source": [
    "brands1 = soup.select(\"span.txt_brand\")"
   ]
  },
  {
   "cell_type": "code",
   "execution_count": 47,
   "id": "9cbb60a0",
   "metadata": {},
   "outputs": [
    {
     "data": {
      "text/plain": [
       "['팬시용품',\n",
       " '스타벅스',\n",
       " '설빙',\n",
       " '스타벅스',\n",
       " '캐릭터조명',\n",
       " '캔디젤리',\n",
       " '스타벅스',\n",
       " 'GS25',\n",
       " '프렌즈리빙LC',\n",
       " '팬시용품',\n",
       " 'GS25',\n",
       " '스타벅스',\n",
       " '작동완구',\n",
       " '배스킨라빈스',\n",
       " '프렌즈리빙LC',\n",
       " '신박한 패션템',\n",
       " '알럽하우스(소품)',\n",
       " '스타벅스',\n",
       " '팬시용품',\n",
       " '빽다방']"
      ]
     },
     "execution_count": 47,
     "metadata": {},
     "output_type": "execute_result"
    }
   ],
   "source": [
    "want_brands1 = []\n",
    "for brand in brands1:\n",
    "    want_brands1.append(brand.text)\n",
    "want_brands1"
   ]
  },
  {
   "cell_type": "markdown",
   "id": "fc3133b1",
   "metadata": {},
   "source": [
    "# 받고 싶어한 선물한 선물 1~2만원 top20"
   ]
  },
  {
   "cell_type": "code",
   "execution_count": 48,
   "id": "8944d11d",
   "metadata": {},
   "outputs": [],
   "source": [
    "driver.get('https://gift.kakao.com/home?targetType=ALL&rankType=MANY_WISH&priceRange={%22min%22:10000,%22max%22:29999}')"
   ]
  },
  {
   "cell_type": "code",
   "execution_count": 49,
   "id": "2142cc91",
   "metadata": {},
   "outputs": [
    {
     "name": "stdout",
     "output_type": "stream",
     "text": [
      "Sroll done!!\n"
     ]
    }
   ],
   "source": [
    "prev_height = driver.execute_script('return document.body.scrollHeight')\n",
    "\n",
    "while True:\n",
    "    driver.execute_script('window.scrollTo(0, document.body.scrollHeight)')\n",
    "    time.sleep(1)\n",
    "    cur_height = driver.execute_script('return document.body.scrollHeight')\n",
    "    \n",
    "    if cur_height == prev_height:\n",
    "        break\n",
    "        \n",
    "    prev_height = cur_height\n",
    "print(\"Sroll done!!\")"
   ]
  },
  {
   "cell_type": "code",
   "execution_count": 50,
   "id": "9e1e3085",
   "metadata": {},
   "outputs": [],
   "source": [
    "driver.execute_script(\"window.scrollTo(0, 2500)\")"
   ]
  },
  {
   "cell_type": "code",
   "execution_count": 51,
   "id": "46576652",
   "metadata": {},
   "outputs": [],
   "source": [
    "button1 = driver.find_element_by_xpath('//*[@id=\"mArticle\"]/div[5]/app-products-ranking/div[2]/div[2]/button')\n",
    "button1.click()"
   ]
  },
  {
   "cell_type": "markdown",
   "id": "253e8f4d",
   "metadata": {},
   "source": [
    "### 상품명"
   ]
  },
  {
   "cell_type": "code",
   "execution_count": 52,
   "id": "c1778c6e",
   "metadata": {},
   "outputs": [
    {
     "data": {
      "text/plain": [
       "['취향을찾는즐거움선물포장5종세트콜린스올인원인센스스틱MIX라이터홀더트레이',\n",
       " '후기가말해주는아이코닉레터링네컷앨범커플셀프사진첩인생선물포토북바인더접착식셀픽스',\n",
       " '짱구라인쿠션유리토끼',\n",
       " '부드러운디저트아이스카페아메리카노T2잔부드러운생크림카스텔라',\n",
       " '나이키파크3니트쇼트NB반바지BV6855010반바지쇼츠츄리닝운동헬스',\n",
       " '5초간후부세요모두의안전을위한음주측정기',\n",
       " '스마트워치충전거치대코인런드리',\n",
       " '포켓몬스터메타몽인형30cm퍼플',\n",
       " '이건눈물이아니야슬픈눈개구리세트안대세안밴드생일선물쓸데없는신박한선물',\n",
       " '뿌링클콤보콜라125L',\n",
       " '호랑이치킨포테이토치즈스틱콜라',\n",
       " '예약판매오둥이입니다만오둥이모찌바디필로우톡별',\n",
       " '황금올리브핫윙콜라125L',\n",
       " '안아주라구스New로라네애착구스바디필로우쿠션130cm2종택1톡별',\n",
       " '유유자적DUCK오리애착인형바디필로우60cm',\n",
       " '귀차니즘을위한누워서보는안경',\n",
       " '메세지서비스핸드크림60g4종중택1',\n",
       " '기프트박스코코도르디퓨저캔들3종선물세트디퓨저리필액프리미엄자캔들기프트박스',\n",
       " '행복당충전디디얌수제뚱카롱마카롱12구세트',\n",
       " '밤과음악사이로이체LED무드등블루투스스피커집순이용수유등BTS250KAKAO']"
      ]
     },
     "execution_count": 52,
     "metadata": {},
     "output_type": "execute_result"
    }
   ],
   "source": [
    "want_presents2 = []\n",
    "for i in range(1,21):\n",
    "    want_present = driver.find_element_by_xpath('//*[@id=\"mArticle\"]/div[5]/app-products-ranking/div[2]/ol/li[{}]/gl-link/a/span[2]/em'.format(i))\n",
    "    a = want_present.text\n",
    "    newa = ''.join(char for char in a if char.isalnum())\n",
    "    want_presents2.append(newa)\n",
    "want_presents2"
   ]
  },
  {
   "cell_type": "markdown",
   "id": "2fa5dd21",
   "metadata": {},
   "source": [
    "### 브랜드"
   ]
  },
  {
   "cell_type": "code",
   "execution_count": 53,
   "id": "1db636ad",
   "metadata": {},
   "outputs": [],
   "source": [
    "soup = BeautifulSoup(driver.page_source, 'lxml')"
   ]
  },
  {
   "cell_type": "code",
   "execution_count": 54,
   "id": "03041fee",
   "metadata": {},
   "outputs": [],
   "source": [
    "brands2 = soup.select(\"span.txt_brand\")"
   ]
  },
  {
   "cell_type": "code",
   "execution_count": 55,
   "id": "73b0f951",
   "metadata": {},
   "outputs": [
    {
     "data": {
      "text/plain": [
       "['콜린스',\n",
       " '아이코닉',\n",
       " '누리토이즈',\n",
       " '스타벅스',\n",
       " '나이키 의류',\n",
       " '신박한 패션템',\n",
       " '프렌즈테크',\n",
       " '인형',\n",
       " '팬시용품',\n",
       " 'BHC',\n",
       " '60계치킨',\n",
       " '캐릭터침구',\n",
       " 'BBQ',\n",
       " '캐릭터침구',\n",
       " '캐릭터침구',\n",
       " '신박한 패션템',\n",
       " '그랑핸드',\n",
       " '코코도르',\n",
       " '디디얌',\n",
       " '로이체']"
      ]
     },
     "execution_count": 55,
     "metadata": {},
     "output_type": "execute_result"
    }
   ],
   "source": [
    "want_brands2 = []\n",
    "for brand in brands2:\n",
    "    want_brands2.append(brand.text)\n",
    "want_brands2"
   ]
  },
  {
   "cell_type": "markdown",
   "id": "7076f5c8",
   "metadata": {},
   "source": [
    "# 받고 싶어한 선물한 선물 3~4만원 top20"
   ]
  },
  {
   "cell_type": "code",
   "execution_count": 56,
   "id": "96a99875",
   "metadata": {},
   "outputs": [],
   "source": [
    "driver.get('https://gift.kakao.com/home?targetType=ALL&rankType=MANY_WISH&priceRange={%22min%22:30000,%22max%22:49999}')"
   ]
  },
  {
   "cell_type": "code",
   "execution_count": 57,
   "id": "94cd6565",
   "metadata": {},
   "outputs": [
    {
     "name": "stdout",
     "output_type": "stream",
     "text": [
      "Sroll done!!\n"
     ]
    }
   ],
   "source": [
    "prev_height = driver.execute_script('return document.body.scrollHeight')\n",
    "\n",
    "while True:\n",
    "    driver.execute_script('window.scrollTo(0, document.body.scrollHeight)')\n",
    "    time.sleep(1)\n",
    "    cur_height = driver.execute_script('return document.body.scrollHeight')\n",
    "    \n",
    "    if cur_height == prev_height:\n",
    "        break\n",
    "        \n",
    "    prev_height = cur_height\n",
    "print(\"Sroll done!!\")"
   ]
  },
  {
   "cell_type": "code",
   "execution_count": 58,
   "id": "580c6dc6",
   "metadata": {},
   "outputs": [],
   "source": [
    "driver.execute_script(\"window.scrollTo(0, 2500)\")"
   ]
  },
  {
   "cell_type": "code",
   "execution_count": 59,
   "id": "e4f412b0",
   "metadata": {},
   "outputs": [],
   "source": [
    "button1 = driver.find_element_by_xpath('//*[@id=\"mArticle\"]/div[5]/app-products-ranking/div[2]/div[2]/button')\n",
    "button1.click()"
   ]
  },
  {
   "cell_type": "markdown",
   "id": "733a0ae6",
   "metadata": {},
   "source": [
    "### 상품명"
   ]
  },
  {
   "cell_type": "code",
   "execution_count": 60,
   "id": "9b415c11",
   "metadata": {},
   "outputs": [
    {
     "data": {
      "text/plain": [
       "['조선호텔베스트셀러프리미엄뉴욕치즈케이크',\n",
       " '셀럽착용남여공용밀로홀리데이시그니처볼캡20컬러택1포장패키지',\n",
       " '코닥선물박스M35필름다회용토이카메라코닥컬러필름1롤Set모음전',\n",
       " '진로한잠어때진로소주병바디필로우100cm톡별',\n",
       " '선물포장핸드크림50ML',\n",
       " '트리플애플충전거치대라이언춘식이',\n",
       " '피타홈카페컵유리컵2인조선물세트유리컵2우드소서2스푼2엽서',\n",
       " '선물포장립맥시마이저',\n",
       " '선물포장바디로션300ML6종중택1',\n",
       " 'e기프트카드3만원권교환권',\n",
       " '신선냉장모듬구이선물세트800g본갈비살살치살부채살척아이롤',\n",
       " '선물포장바디워시300ML6종중택1',\n",
       " '친구맺고3적립숙면선물록시땅릴랙싱필로우미스트패키지특별한선물톡별',\n",
       " '넉넉한벤티SS콩코드사이렌화이트텀블러591ml무료음료쿠폰',\n",
       " '고추바사삭시카고피자콜라125L',\n",
       " '디프로젝트디불차량용방향제디불방향제',\n",
       " '마음을담은소식2푸드장스테이크3종선물세트톡별',\n",
       " '선물제격콜드브루12종SET25ml24개보르딘FB',\n",
       " '컬쳐랜드PIN30000원권교환권',\n",
       " '민트초록선물SS미르사이렌민트텀블러591ml무료음료쿠폰']"
      ]
     },
     "execution_count": 60,
     "metadata": {},
     "output_type": "execute_result"
    }
   ],
   "source": [
    "want_presents3 = []\n",
    "for i in range(1,21):\n",
    "    want_present = driver.find_element_by_xpath('//*[@id=\"mArticle\"]/div[5]/app-products-ranking/div[2]/ol/li[{}]/gl-link/a/span[2]/em'.format(i))\n",
    "    a = want_present.text\n",
    "    newa = ''.join(char for char in a if char.isalnum())\n",
    "    want_presents3.append(newa)\n",
    "want_presents3"
   ]
  },
  {
   "cell_type": "markdown",
   "id": "386bbe59",
   "metadata": {},
   "source": [
    "### 브랜드"
   ]
  },
  {
   "cell_type": "code",
   "execution_count": 61,
   "id": "f4cd6a98",
   "metadata": {},
   "outputs": [],
   "source": [
    "soup = BeautifulSoup(driver.page_source, 'lxml')"
   ]
  },
  {
   "cell_type": "code",
   "execution_count": 62,
   "id": "7084e1ea",
   "metadata": {},
   "outputs": [],
   "source": [
    "brands3 = soup.select(\"span.txt_brand\")"
   ]
  },
  {
   "cell_type": "code",
   "execution_count": 63,
   "id": "1a1c7d3e",
   "metadata": {},
   "outputs": [
    {
     "data": {
      "text/plain": [
       "['조선호텔델리',\n",
       " '밀로',\n",
       " '코닥',\n",
       " '캐릭터침구',\n",
       " '조말론런던',\n",
       " '프렌즈테크',\n",
       " '알럽하우스',\n",
       " '디올',\n",
       " '논픽션',\n",
       " '넥슨캐쉬',\n",
       " '푸드장',\n",
       " '논픽션',\n",
       " '록시땅',\n",
       " '스타벅스(공식스토어)',\n",
       " '굽네치킨',\n",
       " '디프로젝트',\n",
       " '푸드장',\n",
       " '커피/차음료',\n",
       " '문화상품권',\n",
       " '스타벅스(공식스토어)']"
      ]
     },
     "execution_count": 63,
     "metadata": {},
     "output_type": "execute_result"
    }
   ],
   "source": [
    "want_brands3 = []\n",
    "for brand in brands3:\n",
    "    want_brands3.append(brand.text)\n",
    "want_brands3"
   ]
  },
  {
   "cell_type": "markdown",
   "id": "c53df929",
   "metadata": {},
   "source": [
    "# 받고 싶어한 선물한 선물 5만원 이상 top20"
   ]
  },
  {
   "cell_type": "code",
   "execution_count": 64,
   "id": "a5969cce",
   "metadata": {},
   "outputs": [],
   "source": [
    "driver.get('https://gift.kakao.com/home?targetType=ALL&rankType=MANY_WISH&priceRange={%22min%22:50000,%22max%22:5000000}')"
   ]
  },
  {
   "cell_type": "code",
   "execution_count": 65,
   "id": "3835d63b",
   "metadata": {},
   "outputs": [
    {
     "name": "stdout",
     "output_type": "stream",
     "text": [
      "Sroll done!!\n"
     ]
    }
   ],
   "source": [
    "prev_height = driver.execute_script('return document.body.scrollHeight')\n",
    "\n",
    "while True:\n",
    "    driver.execute_script('window.scrollTo(0, document.body.scrollHeight)')\n",
    "    time.sleep(1)\n",
    "    cur_height = driver.execute_script('return document.body.scrollHeight')\n",
    "    \n",
    "    if cur_height == prev_height:\n",
    "        break\n",
    "        \n",
    "    prev_height = cur_height\n",
    "print(\"Sroll done!!\")"
   ]
  },
  {
   "cell_type": "code",
   "execution_count": 66,
   "id": "2f501cc8",
   "metadata": {},
   "outputs": [],
   "source": [
    "driver.execute_script(\"window.scrollTo(0, 2500)\")"
   ]
  },
  {
   "cell_type": "code",
   "execution_count": 67,
   "id": "5e5144f6",
   "metadata": {},
   "outputs": [],
   "source": [
    "button1 = driver.find_element_by_xpath('//*[@id=\"mArticle\"]/div[5]/app-products-ranking/div[2]/div[2]/button')\n",
    "button1.click()"
   ]
  },
  {
   "cell_type": "markdown",
   "id": "a51ed4b4",
   "metadata": {},
   "source": [
    "### 상품명"
   ]
  },
  {
   "cell_type": "code",
   "execution_count": 68,
   "id": "409137ee",
   "metadata": {},
   "outputs": [
    {
     "data": {
      "text/plain": [
       "['신세계상품권모바일교환권50000원',\n",
       " '기프트카드10만원권',\n",
       " '선물포장미스디올뷰티리추얼립글로우향수핸드크림',\n",
       " '신세계상품권모바일교환권100000원',\n",
       " 'SNS인기아이템9가지불빛렉슨미나M사이즈',\n",
       " '단독선물포장센트페어링코롱듀오',\n",
       " '선물포장오드뚜왈렛50ml8종택1',\n",
       " '폴로랄프로렌코튼치노베이스볼캡13color',\n",
       " '한정인스탁스미니11디자인필름10매덴스스티커2종',\n",
       " '카카오페이상품권5만원권교환권',\n",
       " '선물세트바디워시바디로션세트6종중택1',\n",
       " '카카오페이상품권10만원권',\n",
       " '요기요상품권5만원권교환권',\n",
       " '디지털상품권5만원권',\n",
       " 'KodakUltraF9필름다회용카메라코닥컬러필름1롤Set모음전',\n",
       " '인테리어부터캠핑까지리뷰선물레트로감성폭발인사이디블루투스LP턴테이블',\n",
       " '바디클렌저',\n",
       " '블랙앵거스명품구이선물세트11kg소갈비살300g2살치살200g부채살300g',\n",
       " '컬쳐랜드PIN50000원권교환권',\n",
       " '롯데모바일교환권50000원']"
      ]
     },
     "execution_count": 68,
     "metadata": {},
     "output_type": "execute_result"
    }
   ],
   "source": [
    "want_presents5 = []\n",
    "for i in range(1,21):\n",
    "    want_present = driver.find_element_by_xpath('//*[@id=\"mArticle\"]/div[5]/app-products-ranking/div[2]/ol/li[{}]/gl-link/a/span[2]/em'.format(i))\n",
    "    a = want_present.text\n",
    "    newa = ''.join(char for char in a if char.isalnum())\n",
    "    want_presents5.append(newa)\n",
    "want_presents5"
   ]
  },
  {
   "cell_type": "markdown",
   "id": "fa54b062",
   "metadata": {},
   "source": [
    "### 브랜드"
   ]
  },
  {
   "cell_type": "code",
   "execution_count": 69,
   "id": "3f7cb61e",
   "metadata": {},
   "outputs": [],
   "source": [
    "soup = BeautifulSoup(driver.page_source, 'lxml')"
   ]
  },
  {
   "cell_type": "code",
   "execution_count": 70,
   "id": "82674e5e",
   "metadata": {},
   "outputs": [],
   "source": [
    "brands5 = soup.select(\"span.txt_brand\")"
   ]
  },
  {
   "cell_type": "code",
   "execution_count": 71,
   "id": "32bbf4be",
   "metadata": {},
   "outputs": [
    {
     "data": {
      "text/plain": [
       "['이마트,신세계상품권',\n",
       " '아웃백',\n",
       " '디올',\n",
       " '이마트,신세계상품권',\n",
       " '렉슨',\n",
       " '조말론런던',\n",
       " '딥티크',\n",
       " '폴로 랄프 로렌(의류)',\n",
       " '인스탁스',\n",
       " '카카오페이상품권',\n",
       " '논픽션',\n",
       " '카카오페이상품권',\n",
       " '요기요',\n",
       " '서가앤쿡(교환권)',\n",
       " '코닥',\n",
       " '인사이디',\n",
       " '이솝',\n",
       " '푸드장',\n",
       " '문화상품권',\n",
       " '롯데모바일교환권']"
      ]
     },
     "execution_count": 71,
     "metadata": {},
     "output_type": "execute_result"
    }
   ],
   "source": [
    "want_brands5 = []\n",
    "for brand in brands5:\n",
    "    want_brands5.append(brand.text)\n",
    "want_brands5"
   ]
  },
  {
   "cell_type": "markdown",
   "id": "1a99449e",
   "metadata": {},
   "source": [
    "# 카테고리와 브랜드 (베이커리/도넛/떡)"
   ]
  },
  {
   "cell_type": "code",
   "execution_count": 72,
   "id": "96f29771",
   "metadata": {},
   "outputs": [],
   "source": [
    "driver.get('https://gift.kakao.com/brand/category/91')"
   ]
  },
  {
   "cell_type": "code",
   "execution_count": 73,
   "id": "07cd14cb",
   "metadata": {},
   "outputs": [],
   "source": [
    "soup = BeautifulSoup(driver.page_source, 'lxml')"
   ]
  },
  {
   "cell_type": "code",
   "execution_count": 74,
   "id": "b821787b",
   "metadata": {},
   "outputs": [
    {
     "data": {
      "text/plain": [
       "['투썸플레이스',\n",
       " '파리바게뜨',\n",
       " '뚜레쥬르',\n",
       " '던킨',\n",
       " '디저트39',\n",
       " '아티제',\n",
       " '크리스피크림',\n",
       " '한스케익',\n",
       " '파리크라상',\n",
       " '카페노티드',\n",
       " '성심당',\n",
       " '앤티앤스프레즐',\n",
       " '자연드림',\n",
       " '와플대학',\n",
       " '빚은',\n",
       " '떡보의하루',\n",
       " '롤링핀',\n",
       " '빌리엔젤(교환권)',\n",
       " '김영모과자점',\n",
       " '코코호도',\n",
       " '베즐리',\n",
       " '나폴레옹제과점(교환권)',\n",
       " '홍루이젠',\n",
       " '망원동티라미수',\n",
       " '패션5',\n",
       " '도레도레',\n",
       " '밀도',\n",
       " '브레댄코',\n",
       " '곤트란쉐리에',\n",
       " '라라브레드',\n",
       " '시나본',\n",
       " '호밀호두',\n",
       " '스트릿츄러스',\n",
       " '노아베이커리',\n",
       " '나폴레옹과자점',\n",
       " '리치몬드과자점',\n",
       " '마리웨일237',\n",
       " '지유가오카',\n",
       " '베이크팡',\n",
       " '쁘띠렌']"
      ]
     },
     "execution_count": 74,
     "metadata": {},
     "output_type": "execute_result"
    }
   ],
   "source": [
    "bakery_final = []\n",
    "bakerys = soup.select('span.txt_botcate')\n",
    "for bakery in bakerys:\n",
    "    bakery_final.append(bakery.text)\n",
    "bakery_final"
   ]
  },
  {
   "cell_type": "markdown",
   "id": "f01ccee0",
   "metadata": {},
   "source": [
    "# 카테고리와 브랜드 (카페)"
   ]
  },
  {
   "cell_type": "code",
   "execution_count": 75,
   "id": "3ae1e79d",
   "metadata": {},
   "outputs": [],
   "source": [
    "driver.get('https://gift.kakao.com/brand/category/91/subcategory/145')"
   ]
  },
  {
   "cell_type": "code",
   "execution_count": 76,
   "id": "0f050654",
   "metadata": {},
   "outputs": [],
   "source": [
    "soup = BeautifulSoup(driver.page_source, 'lxml')"
   ]
  },
  {
   "cell_type": "code",
   "execution_count": 77,
   "id": "444f61a5",
   "metadata": {},
   "outputs": [
    {
     "data": {
      "text/plain": [
       "['스타벅스',\n",
       " '투썸플레이스',\n",
       " '설빙',\n",
       " '메가MGC커피',\n",
       " '이디야커피',\n",
       " '컴포즈커피',\n",
       " '공차',\n",
       " '빽다방',\n",
       " '폴 바셋',\n",
       " '할리스',\n",
       " '더벤티',\n",
       " '아티제',\n",
       " '파스쿠찌',\n",
       " '커피빈',\n",
       " '하삼동커피',\n",
       " '텐퍼센트커피',\n",
       " '아마스빈',\n",
       " '카페봄봄',\n",
       " '탐앤탐스',\n",
       " '엔제리너스',\n",
       " '더리터',\n",
       " '쥬씨',\n",
       " '요거프레소',\n",
       " '매머드커피',\n",
       " '매머드익스프레스',\n",
       " '팔공티',\n",
       " '커피베이',\n",
       " '커피에반하다',\n",
       " '달콤커피',\n",
       " '감성커피',\n",
       " '고디바(교환권)',\n",
       " '카페베네',\n",
       " '드롭탑',\n",
       " '카페게이트',\n",
       " '테라로사',\n",
       " '만랩커피',\n",
       " '에이바우트커피',\n",
       " '셀렉토커피',\n",
       " '마시그래이',\n",
       " '읍천리382',\n",
       " '잠바주스',\n",
       " '스무디킹',\n",
       " '커피스미스',\n",
       " '오설록(교환권)',\n",
       " '토프레소',\n",
       " '오가다',\n",
       " '꿀스커피',\n",
       " '79파운야드 ',\n",
       " '카페인중독',\n",
       " '포비',\n",
       " '타이거슈가',\n",
       " '더치앤빈',\n",
       " '달리는 커피',\n",
       " '클로리스',\n",
       " '커피니',\n",
       " '빈스앤베리즈',\n",
       " '마호가니',\n",
       " '커핀그루나루',\n",
       " '카페띠아모',\n",
       " '커피나무',\n",
       " '복고다방',\n",
       " '커피홀',\n",
       " '놀숲',\n",
       " '주커피',\n",
       " '커피마마',\n",
       " '바빈스커피',\n",
       " '비엔나커피하우스',\n",
       " '홍콩다방',\n",
       " '빈스빈스',\n",
       " '지유명차',\n",
       " '카페데베르',\n",
       " '모리셔스브라운',\n",
       " '리나스',\n",
       " '레더라(교환권)',\n",
       " '조앤더주스',\n",
       " '더앨리',\n",
       " '디초콜릿커피앤드',\n",
       " '세라젬 웰카페',\n",
       " '흑화당',\n",
       " '텀브커피']"
      ]
     },
     "execution_count": 77,
     "metadata": {},
     "output_type": "execute_result"
    }
   ],
   "source": [
    "cafe_final = []\n",
    "cafes = soup.select('span.txt_botcate')\n",
    "for cafe in cafes:\n",
    "    cafe_final.append(cafe.text)\n",
    "cafe_final"
   ]
  },
  {
   "cell_type": "markdown",
   "id": "6efc7f58",
   "metadata": {},
   "source": [
    "# 카테고리와 브랜드 (아이스크림/빙수)"
   ]
  },
  {
   "cell_type": "code",
   "execution_count": 78,
   "id": "044893de",
   "metadata": {},
   "outputs": [],
   "source": [
    "driver.get('https://gift.kakao.com/brand/category/91/subcategory/147')"
   ]
  },
  {
   "cell_type": "code",
   "execution_count": 79,
   "id": "7610b11f",
   "metadata": {},
   "outputs": [],
   "source": [
    "soup = BeautifulSoup(driver.page_source, 'lxml')"
   ]
  },
  {
   "cell_type": "code",
   "execution_count": 80,
   "id": "d644dd8a",
   "metadata": {},
   "outputs": [
    {
     "data": {
      "text/plain": [
       "['배스킨라빈스',\n",
       " '설빙',\n",
       " '백미당',\n",
       " '나뚜루',\n",
       " '하겐다즈(교환권)',\n",
       " '빨라쪼델프레도',\n",
       " '도쿄빙수',\n",
       " '브알라 카페',\n",
       " '바세츠아이스크림',\n",
       " '소프트리',\n",
       " '스노우볼',\n",
       " '알라스카랩',\n",
       " '레미콘']"
      ]
     },
     "execution_count": 80,
     "metadata": {},
     "output_type": "execute_result"
    }
   ],
   "source": [
    "icecream_final = []\n",
    "icecreams = soup.select('span.txt_botcate')\n",
    "for icecream in icecreams:\n",
    "    icecream_final.append(icecream.text)\n",
    "icecream_final"
   ]
  },
  {
   "cell_type": "markdown",
   "id": "ea895428",
   "metadata": {},
   "source": [
    "# 카테고리와 브랜드 (구이/족발)"
   ]
  },
  {
   "cell_type": "code",
   "execution_count": 81,
   "id": "6feb5700",
   "metadata": {},
   "outputs": [],
   "source": [
    "driver.get('https://gift.kakao.com/brand/category/91/subcategory/148')"
   ]
  },
  {
   "cell_type": "code",
   "execution_count": 82,
   "id": "4aafcd69",
   "metadata": {},
   "outputs": [],
   "source": [
    "soup = BeautifulSoup(driver.page_source, 'lxml')"
   ]
  },
  {
   "cell_type": "code",
   "execution_count": 83,
   "id": "75f6ef28",
   "metadata": {},
   "outputs": [
    {
     "data": {
      "text/plain": [
       "['원할머니 보쌈족발',\n",
       " '가장맛있는족발',\n",
       " '명륜진사갈비',\n",
       " '이차돌',\n",
       " '마왕족발',\n",
       " '장충동왕족발',\n",
       " '족발야시장',\n",
       " '놀부보쌈족발',\n",
       " '하남돼지집',\n",
       " '투뿔등심(교환권)',\n",
       " '도쿄등심',\n",
       " '유가네',\n",
       " '새마을식당',\n",
       " '곱창고',\n",
       " '호세야오리바베큐',\n",
       " '짚신매운갈비찜',\n",
       " '육감만족',\n",
       " '도야족발보쌈',\n",
       " '세광양대창',\n",
       " '고기원칙',\n",
       " '연타발',\n",
       " '달구지막창',\n",
       " '토시래',\n",
       " '교대이층집',\n",
       " '미스터보쌈',\n",
       " '한와담',\n",
       " '남다른감자탕',\n",
       " '엉터리생고기',\n",
       " '돈통마늘보쌈',\n",
       " '콩불',\n",
       " '진대감',\n",
       " '차돌풍',\n",
       " '오목집',\n",
       " '서래갈매기',\n",
       " '후쿠오카함바그',\n",
       " '김충기꽃삼겹',\n",
       " '호박식당',\n",
       " '홍춘천 치즈닭갈비',\n",
       " '흑돼지 삼백식당',\n",
       " '닭갈비제작소']"
      ]
     },
     "execution_count": 83,
     "metadata": {},
     "output_type": "execute_result"
    }
   ],
   "source": [
    "meat_final = []\n",
    "meats = soup.select('span.txt_botcate')\n",
    "for meat in meats:\n",
    "    meat_final.append(meat.text)\n",
    "meat_final"
   ]
  },
  {
   "cell_type": "markdown",
   "id": "6d515164",
   "metadata": {},
   "source": [
    "# 카테고리와 브랜드 (치킨)"
   ]
  },
  {
   "cell_type": "code",
   "execution_count": 84,
   "id": "c740bc3f",
   "metadata": {},
   "outputs": [],
   "source": [
    "driver.get('https://gift.kakao.com/brand/category/91/subcategory/149')"
   ]
  },
  {
   "cell_type": "code",
   "execution_count": 85,
   "id": "d384fbb8",
   "metadata": {},
   "outputs": [],
   "source": [
    "soup = BeautifulSoup(driver.page_source, 'lxml')"
   ]
  },
  {
   "cell_type": "code",
   "execution_count": 86,
   "id": "1e6d6dcb",
   "metadata": {},
   "outputs": [
    {
     "data": {
      "text/plain": [
       "['BHC',\n",
       " '교촌치킨',\n",
       " 'BBQ',\n",
       " '굽네치킨',\n",
       " '푸라닭',\n",
       " '네네치킨',\n",
       " '노랑통닭',\n",
       " '60계치킨',\n",
       " '자담치킨',\n",
       " '처갓집양념치킨',\n",
       " '페리카나',\n",
       " '호식이두마리치킨',\n",
       " '멕시카나치킨',\n",
       " '바른치킨',\n",
       " '꾸브라꼬숯불두마리치킨',\n",
       " '또래오래',\n",
       " '깐부치킨',\n",
       " '보드람치킨',\n",
       " '가마로강정',\n",
       " '땅땅치킨',\n",
       " '치킨플러스',\n",
       " '누구나홀딱반한닭',\n",
       " '치킨신드롬',\n",
       " '오꾸닭',\n",
       " '순수치킨',\n",
       " '동근이숯불두마리치킨',\n",
       " '티바두마리치킨',\n",
       " '충만치킨',\n",
       " '쌀통닭',\n",
       " '또봉이통닭',\n",
       " '치킨마루',\n",
       " '훌랄라치킨',\n",
       " '돈치킨',\n",
       " '호치킨',\n",
       " '오태식해바라기치킨',\n",
       " '아웃닭',\n",
       " '오빠닭',\n",
       " '코리엔탈 깻잎두마리치킨',\n",
       " '당신은지금치킨이땡긴다',\n",
       " '부어치킨',\n",
       " '철인7호치킨',\n",
       " '장모님치킨',\n",
       " '이춘봉치킨',\n",
       " '디디치킨',\n",
       " '투존치킨',\n",
       " '공만치킨',\n",
       " '컬투치킨',\n",
       " '치요남치킨',\n",
       " '678치킨',\n",
       " '쌀쌀맞은닭',\n",
       " '웰덤치킨',\n",
       " '모던통닭',\n",
       " '땡큐맘치킨',\n",
       " '치르치르',\n",
       " '기발한치킨',\n",
       " '야들리애치킨',\n",
       " '엔칙스치킨',\n",
       " '별별치킨',\n",
       " '못난감자앤치킨',\n",
       " '쏘닭']"
      ]
     },
     "execution_count": 86,
     "metadata": {},
     "output_type": "execute_result"
    }
   ],
   "source": [
    "chicken_final = []\n",
    "chickens = soup.select('span.txt_botcate')\n",
    "for chicken in chickens:\n",
    "    chicken_final.append(chicken.text)\n",
    "chicken_final"
   ]
  },
  {
   "cell_type": "markdown",
   "id": "7a2fcdaf",
   "metadata": {},
   "source": [
    "# 카테고리와 브랜드 (버거/피자)"
   ]
  },
  {
   "cell_type": "code",
   "execution_count": 87,
   "id": "861aeedb",
   "metadata": {},
   "outputs": [],
   "source": [
    "driver.get('https://gift.kakao.com/brand/category/91/subcategory/150')"
   ]
  },
  {
   "cell_type": "code",
   "execution_count": 88,
   "id": "2f303b59",
   "metadata": {},
   "outputs": [],
   "source": [
    "soup = BeautifulSoup(driver.page_source, 'lxml')"
   ]
  },
  {
   "cell_type": "code",
   "execution_count": 89,
   "id": "d9d2d3d1",
   "metadata": {},
   "outputs": [
    {
     "data": {
      "text/plain": [
       "['맥도날드',\n",
       " '도미노피자',\n",
       " '맘스터치',\n",
       " '롯데리아',\n",
       " '피자헛',\n",
       " '써브웨이',\n",
       " '피자알볼로',\n",
       " '미스터피자',\n",
       " '버거킹',\n",
       " '파파존스',\n",
       " '반올림피자샵',\n",
       " '청년피자',\n",
       " 'KFC',\n",
       " '이삭토스트',\n",
       " '쉐이크 쉑',\n",
       " '피자마루',\n",
       " '에그드랍',\n",
       " '7번가피자',\n",
       " '잭슨피자',\n",
       " '명랑핫도그',\n",
       " '피자에땅',\n",
       " '지정환피자',\n",
       " '빅스타피자',\n",
       " '피자헤븐',\n",
       " '퀴즈노스',\n",
       " '유로코피자',\n",
       " '선명희피자',\n",
       " '버거앤프라이즈',\n",
       " '뉴욕버거',\n",
       " '다운타우너',\n",
       " '고피자',\n",
       " '바스버거',\n",
       " '프레드피자',\n",
       " '모스버거',\n",
       " '에그슬럿',\n",
       " '타코벨',\n",
       " '뽕뜨락피자',\n",
       " '봉수아피자',\n",
       " '죠샌드위치',\n",
       " '피자이탈리',\n",
       " '피제이피자',\n",
       " '피자파는집',\n",
       " '네오피자',\n",
       " '빨간모자피자',\n",
       " '블리스버거',\n",
       " '버거307',\n",
       " '도니버거',\n",
       " '스테프핫도그',\n",
       " '에그셀런트',\n",
       " '아이엠어버거',\n",
       " '청춘감성쌀핫도그',\n",
       " '브라보치킨피자',\n",
       " '피자생각',\n",
       " '카니발피자',\n",
       " '오리지널시카고피자',\n",
       " '토스트럭',\n",
       " '플라잉볼익스프레스',\n",
       " '헌치스핫도그',\n",
       " '왓츠피데']"
      ]
     },
     "execution_count": 89,
     "metadata": {},
     "output_type": "execute_result"
    }
   ],
   "source": [
    "burger_final = []\n",
    "burgers = soup.select('span.txt_botcate')\n",
    "for burger in burgers:\n",
    "    burger_final.append(burger.text)\n",
    "burger_final"
   ]
  },
  {
   "cell_type": "markdown",
   "id": "48b8481e",
   "metadata": {},
   "source": [
    "# 카테고리와 브랜드 (편의점)"
   ]
  },
  {
   "cell_type": "code",
   "execution_count": 90,
   "id": "a5f5a0c6",
   "metadata": {},
   "outputs": [],
   "source": [
    "driver.get('https://gift.kakao.com/brand/category/91/subcategory/155')"
   ]
  },
  {
   "cell_type": "code",
   "execution_count": 91,
   "id": "9e672ef5",
   "metadata": {},
   "outputs": [],
   "source": [
    "soup = BeautifulSoup(driver.page_source, 'lxml')"
   ]
  },
  {
   "cell_type": "code",
   "execution_count": 92,
   "id": "4b71b213",
   "metadata": {},
   "outputs": [],
   "source": [
    "brands = soup.select('div span.txt_botcate')"
   ]
  },
  {
   "cell_type": "code",
   "execution_count": 93,
   "id": "14079b72",
   "metadata": {},
   "outputs": [
    {
     "data": {
      "text/plain": [
       "['CU', 'GS25', '세븐일레븐', '이마트24', '미니스톱', '씨스페이스']"
      ]
     },
     "execution_count": 93,
     "metadata": {},
     "output_type": "execute_result"
    }
   ],
   "source": [
    "convi = []\n",
    "for brand in brands:\n",
    "    convi.append(brand.get_text())    \n",
    "convi"
   ]
  },
  {
   "cell_type": "markdown",
   "id": "a71c0610",
   "metadata": {},
   "source": [
    "# 카테고리와 브랜드 (한식/일식/중식)"
   ]
  },
  {
   "cell_type": "code",
   "execution_count": 94,
   "id": "f6a8fd22",
   "metadata": {},
   "outputs": [],
   "source": [
    "driver.get('https://gift.kakao.com/brand/category/91/subcategory/192')"
   ]
  },
  {
   "cell_type": "code",
   "execution_count": 95,
   "id": "62b84d7f",
   "metadata": {},
   "outputs": [],
   "source": [
    "soup = BeautifulSoup(driver.page_source, 'lxml')"
   ]
  },
  {
   "cell_type": "code",
   "execution_count": 96,
   "id": "f04ee076",
   "metadata": {},
   "outputs": [],
   "source": [
    "brands = soup.select('div span.txt_botcate')"
   ]
  },
  {
   "cell_type": "code",
   "execution_count": 97,
   "id": "bc281f7d",
   "metadata": {},
   "outputs": [
    {
     "data": {
      "text/plain": [
       "['지호한방삼계탕',\n",
       " '두찜',\n",
       " '홍콩반점0410+',\n",
       " '상무초밥',\n",
       " '모던샤브하우스',\n",
       " '하이디라오 훠궈',\n",
       " '역전우동0410',\n",
       " '국수나무',\n",
       " '신선설농탕',\n",
       " '봉추찜닭',\n",
       " '긴자',\n",
       " '한촌설렁탕',\n",
       " '천지연',\n",
       " '미카도스시',\n",
       " '이비가짬뽕',\n",
       " '아워홈(인천공항)',\n",
       " '우설화',\n",
       " '피에프창',\n",
       " '강강술래(교환권)',\n",
       " '딘타이펑',\n",
       " '전주현대옥',\n",
       " '보돌미역',\n",
       " '보배반점',\n",
       " '정직유부',\n",
       " '송추가마골',\n",
       " '땅스부대찌개',\n",
       " '이화수전통육개장',\n",
       " '크래버 대게나라',\n",
       " '일미리금계찜닭',\n",
       " '아비꼬',\n",
       " '놀부부대찌개',\n",
       " '연안식당',\n",
       " '무공돈까스',\n",
       " '유미카츠',\n",
       " '백채김치찌개',\n",
       " '사보텐',\n",
       " '북창동순두부(교환권)',\n",
       " '크리스탈제이드',\n",
       " '고쿠텐',\n",
       " '부엉이돈가스',\n",
       " '코이라멘',\n",
       " '킹콩부대찌개',\n",
       " '고베규카츠',\n",
       " '원조쌈밥집',\n",
       " '박가부대',\n",
       " '북촌손만두',\n",
       " '하루엔소쿠',\n",
       " '어바웃샤브',\n",
       " '미정국수0410',\n",
       " '홍짜장',\n",
       " '탄탄면공방',\n",
       " '부산아지매국밥',\n",
       " '더 테이스트 고베',\n",
       " '시추안하우스',\n",
       " '배부장찌개',\n",
       " '슈퍼키친',\n",
       " '후쿠오카함바그',\n",
       " '제일제면소',\n",
       " '이자와',\n",
       " '한옥집김치찜',\n",
       " '돈돈정',\n",
       " '인기명',\n",
       " '제레미20',\n",
       " '발재반점',\n",
       " '이태리부대찌개',\n",
       " '쿠벤',\n",
       " '홀리차우',\n",
       " '153포인츠부대찌개',\n",
       " '멘야산다이메',\n",
       " '리얼안심탕수육',\n",
       " '멘무샤',\n",
       " '가츠몽',\n",
       " '아리가또맘마',\n",
       " '쉐프의부대찌개',\n",
       " '아빠곰탕']"
      ]
     },
     "execution_count": 97,
     "metadata": {},
     "output_type": "execute_result"
    }
   ],
   "source": [
    "kor_chi_jap = []\n",
    "for brand in brands:\n",
    "    kor_chi_jap.append(brand.get_text())\n",
    "kor_chi_jap"
   ]
  },
  {
   "cell_type": "markdown",
   "id": "8147294e",
   "metadata": {},
   "source": [
    "# 카테고리와 브랜드 (퓨전/외국/펍)"
   ]
  },
  {
   "cell_type": "code",
   "execution_count": 98,
   "id": "d6815b6c",
   "metadata": {},
   "outputs": [],
   "source": [
    "driver.get('https://gift.kakao.com/brand/category/91/subcategory/194')"
   ]
  },
  {
   "cell_type": "code",
   "execution_count": 99,
   "id": "7ae04a48",
   "metadata": {},
   "outputs": [],
   "source": [
    "soup = BeautifulSoup(driver.page_source, 'lxml')"
   ]
  },
  {
   "cell_type": "code",
   "execution_count": 100,
   "id": "42530398",
   "metadata": {},
   "outputs": [],
   "source": [
    "brands = soup.select('div span.txt_botcate')"
   ]
  },
  {
   "cell_type": "code",
   "execution_count": 101,
   "id": "5bbcc9b6",
   "metadata": {},
   "outputs": [
    {
     "data": {
      "text/plain": [
       "['롤링파스타',\n",
       " '토끼정',\n",
       " '현대그린푸드',\n",
       " '포메인',\n",
       " '크리스피프레시',\n",
       " '미분당',\n",
       " '니뽕내뽕',\n",
       " '아그라',\n",
       " '닥터로빈',\n",
       " '더플레이스',\n",
       " '생어거스틴(교환권)',\n",
       " '반포식스',\n",
       " '피그인더가든',\n",
       " '블랙스테이크',\n",
       " '뉴욕야시장',\n",
       " '낙원타코',\n",
       " '캘리포니아피자키친',\n",
       " 'Brunch37.5',\n",
       " '호아빈오리진',\n",
       " '케르반 레스토랑',\n",
       " '분짜라붐',\n",
       " '컨트리맨즈',\n",
       " '한스델리',\n",
       " '미태리',\n",
       " '강가',\n",
       " '리얼하노이',\n",
       " '더키친일뽀르노',\n",
       " '스탠딩스테이크',\n",
       " '토마틸로',\n",
       " '미스터케밥',\n",
       " '나인로드피제리아',\n",
       " '통파이브',\n",
       " '스트릿',\n",
       " '베라피자',\n",
       " '알로하포케',\n",
       " '도스타코스',\n",
       " '새우시대',\n",
       " '육전면사무소',\n",
       " '월남국수',\n",
       " '술탄케밥']"
      ]
     },
     "execution_count": 101,
     "metadata": {},
     "output_type": "execute_result"
    }
   ],
   "source": [
    "fusion = []\n",
    "for brand in brands:\n",
    "    fusion.append(brand.get_text())\n",
    "fusion"
   ]
  },
  {
   "cell_type": "markdown",
   "id": "d77342d1",
   "metadata": {},
   "source": [
    "# 카테고리와 브랜드 (분식/죽/도시락)"
   ]
  },
  {
   "cell_type": "code",
   "execution_count": 102,
   "id": "5ccdf872",
   "metadata": {},
   "outputs": [],
   "source": [
    "driver.get('https://gift.kakao.com/brand/category/91/subcategory/196')"
   ]
  },
  {
   "cell_type": "code",
   "execution_count": 103,
   "id": "8058b51c",
   "metadata": {},
   "outputs": [],
   "source": [
    "soup = BeautifulSoup(driver.page_source, 'lxml')"
   ]
  },
  {
   "cell_type": "code",
   "execution_count": 104,
   "id": "0ba3c027",
   "metadata": {},
   "outputs": [],
   "source": [
    "brands = soup.select('div span.txt_botcate')"
   ]
  },
  {
   "cell_type": "code",
   "execution_count": 105,
   "id": "fdadb689",
   "metadata": {},
   "outputs": [
    {
     "data": {
      "text/plain": [
       "['본죽',\n",
       " '본죽&비빔밥',\n",
       " '죽이야기',\n",
       " '청년다방',\n",
       " '죠스떡볶이',\n",
       " '응급실국물떡볶이, 응떡',\n",
       " '한솥도시락',\n",
       " '샐러디',\n",
       " '본도시락',\n",
       " '걸작떡볶이치킨',\n",
       " '두끼',\n",
       " '떡볶이참잘하는집, 떡참',\n",
       " '바르다김선생',\n",
       " '포케올데이',\n",
       " '할머니가래떡볶이',\n",
       " '감탄떡볶이',\n",
       " '신참떡볶이',\n",
       " '지지고',\n",
       " '오마뎅',\n",
       " '얌샘김밥',\n",
       " '선비꼬마김밥',\n",
       " '33떡볶이',\n",
       " '스쿨푸드',\n",
       " '오떡',\n",
       " '토마토김밥',\n",
       " '빨봉분식',\n",
       " '청담동 마녀김밥',\n",
       " '스노우폭스',\n",
       " '토마토도시락',\n",
       " '김밥킹',\n",
       " '석관동떡볶이',\n",
       " '이소떡',\n",
       " '국대떡볶이',\n",
       " '로봇김밥',\n",
       " '김피라',\n",
       " '여우애김밥',\n",
       " '열정분식소',\n",
       " '크레이지후라이',\n",
       " '반장떡볶이',\n",
       " '개념떡볶이',\n",
       " '창화당(교환권)',\n",
       " '삼청동궁물떡복이',\n",
       " '소소떡볶이',\n",
       " 'K.콜라보김밥',\n",
       " '무한우주별떡볶이']"
      ]
     },
     "execution_count": 105,
     "metadata": {},
     "output_type": "execute_result"
    }
   ],
   "source": [
    "boonsik = []\n",
    "for brand in brands:\n",
    "    boonsik.append(brand.get_text())\n",
    "boonsik"
   ]
  },
  {
   "cell_type": "markdown",
   "id": "4e059963",
   "metadata": {},
   "source": [
    "# 카테고리와 브랜드 (패밀리/호텔뷔페)"
   ]
  },
  {
   "cell_type": "code",
   "execution_count": 106,
   "id": "c145af43",
   "metadata": {},
   "outputs": [],
   "source": [
    "driver.get('https://gift.kakao.com/brand/category/91/subcategory/195')"
   ]
  },
  {
   "cell_type": "code",
   "execution_count": 107,
   "id": "597bbe40",
   "metadata": {},
   "outputs": [],
   "source": [
    "soup = BeautifulSoup(driver.page_source, 'lxml')"
   ]
  },
  {
   "cell_type": "code",
   "execution_count": 108,
   "id": "f20c0004",
   "metadata": {},
   "outputs": [],
   "source": [
    "brands = soup.select('div span.txt_botcate')"
   ]
  },
  {
   "cell_type": "code",
   "execution_count": 109,
   "id": "7da3e192",
   "metadata": {},
   "outputs": [
    {
     "data": {
      "text/plain": [
       "['아웃백',\n",
       " '빕스',\n",
       " '롯데호텔',\n",
       " '애슐리',\n",
       " '매드포갈릭',\n",
       " '조선호텔',\n",
       " '서가앤쿡(교환권)',\n",
       " '인터컨티넨탈 호텔 서울',\n",
       " '메리어트',\n",
       " '워커힐호텔',\n",
       " '라라코스트',\n",
       " '텍사스데브라질',\n",
       " '파라다이스호텔앤리조트',\n",
       " '63레스토랑',\n",
       " '울프강스테이크하우스',\n",
       " '제주신화월드',\n",
       " '붓처스컷',\n",
       " '신라스테이',\n",
       " '온더보더',\n",
       " '메이필드호텔',\n",
       " '마키노차야',\n",
       " '글래드호텔(교환권)',\n",
       " 'TGIF',\n",
       " '라그릴리아',\n",
       " '디오디아',\n",
       " '노보텔 앰배서더 동대문 푸드익스체인지',\n",
       " '켄싱턴호텔',\n",
       " '그랜드하얏트인천',\n",
       " '마켓오',\n",
       " '노보텔앰배서더 서울 강남',\n",
       " 'L7강남플로팅',\n",
       " '탑클라우드코퍼레이션',\n",
       " '더플라자호텔',\n",
       " 'ebt']"
      ]
     },
     "execution_count": 109,
     "metadata": {},
     "output_type": "execute_result"
    }
   ],
   "source": [
    "family = []\n",
    "for brand in brands:\n",
    "    family.append(brand.get_text())\n",
    "family"
   ]
  },
  {
   "cell_type": "markdown",
   "id": "e63acb9d",
   "metadata": {},
   "source": [
    "# 많이 선물한 배송상품 top 100 "
   ]
  },
  {
   "cell_type": "code",
   "execution_count": 110,
   "id": "83441736",
   "metadata": {},
   "outputs": [],
   "source": [
    "driver.get('https://gift.kakao.com/ranking/best/delivery')"
   ]
  },
  {
   "cell_type": "code",
   "execution_count": 111,
   "id": "ecc64583",
   "metadata": {},
   "outputs": [
    {
     "name": "stdout",
     "output_type": "stream",
     "text": [
      "Sroll done!!\n"
     ]
    }
   ],
   "source": [
    "prev_height = driver.execute_script('return document.body.scrollHeight')\n",
    "\n",
    "while True:\n",
    "    driver.execute_script('window.scrollTo(0, document.body.scrollHeight)')\n",
    "    time.sleep(1)\n",
    "    cur_height = driver.execute_script('return document.body.scrollHeight')\n",
    "    \n",
    "    if cur_height == prev_height:\n",
    "        break\n",
    "        \n",
    "    prev_height = cur_height\n",
    "print(\"Sroll done!!\")"
   ]
  },
  {
   "cell_type": "code",
   "execution_count": 112,
   "id": "31e99635",
   "metadata": {},
   "outputs": [],
   "source": [
    "soup = BeautifulSoup(driver.page_source, 'lxml')"
   ]
  },
  {
   "cell_type": "markdown",
   "id": "adb8e508",
   "metadata": {},
   "source": [
    "### 제품명"
   ]
  },
  {
   "cell_type": "code",
   "execution_count": 113,
   "id": "c1a58cc0",
   "metadata": {},
   "outputs": [],
   "source": [
    "prdnames = soup.find_all('strong', {'class' : 'txt_prdname'})"
   ]
  },
  {
   "cell_type": "code",
   "execution_count": 114,
   "id": "4240b526",
   "metadata": {},
   "outputs": [
    {
     "name": "stdout",
     "output_type": "stream",
     "text": [
      "['푸드장프리미엄구이선물세트115kg부채살살치살토시살척아이롤', '에너지선물정관장활기력20mlx10병', '감동혜택각인선물포장립글로우미스디올헤어듀오샘플증정', '선물포장바디앤핸드워시100ML', '갈비살300g부채살300g외9종', '에너지선물정관장활기력에너지박스20ml20병특별한선물스탠드형', '센트룸멀티비타민6종택1맨우먼칼슘D에너지B', '레저렉션아로마틱핸드밤', '레모나프렌즈카카오레모나산하트캔2gx70포선물용쇼핑백증정', '선물하기단독NEW달바보습명가미스트세럼핸드세럼기프트세트', '면역력을1포하라정관장홍삼정에브리타임밸런스30일분', '신규향추가선물포장핸드크림50ML6종중택1', '농협안심한우고마워서어찌하누1등급일품구이채반1kg등심채끝안심', '하겐다즈프리미엄수제아이스크림케이크리얼블랑바닐라초코', '선물포장엽서미니퍼퓸핸드크림5종택1', '아프다고굶지마요본죽14종장조림set총7팩10팩', '무료각인선물포장입생로랑1위벨벳틴트세트리브르12ml향수톡별', '센트룸멀티비타민미네랄구미80구미', '여름에만나는달콤한향이가득한백도복숭아15kg과일선물56입', '친구맺고3적립여름선물록시땅샤워젤250ml12종중택1', '단독각인서비스헤라센슈얼쉬어스테인미니쿠션증정톡별', '추천선물하루한포건강배를품은도라지스틱30포x12g국산도라지배함유', '추천선물면역력증진정원삼6년근고려홍삼정365스틱30포3포증정', '선물포장핸드크림50ML', '프랑스프리미엄마카롱12입선물세트', '짱구라인쿠션유리토끼', '취향을찾는즐거움선물포장5종세트콜린스올인원인센스스틱MIX라이터홀더트레이', '선물포장핸드워시300ML6종중택1', '감동혜택각인섀도우증정품절벨벳틴트헤라센슈얼파우더매트리퀴드', '잘자요꿀린이꿀잠타는기린이모찌바디필로우톡별', '여름에시원하고더맛있는오설록녹차치즈케이크', '마음의선물힘내라홍삼정ForYou10mlx30포리뉴얼ver', '유목에키워더맛있는괴산부드러운복숭아27kg이상811입', '단독선물포장센트페어링코롱듀오', '농협안심한우소한마리한우선물세트1등급14kg', '무료각인선물포장리브르헤어미스트30ml', '친구맺고3적립여름베스트록시땅핸드바디샤워3종세트4종택1', '레저렉션아로마틱핸드워시', '명품비타민오쏘몰이뮨멀티비타민미네랄30일분', '프리미엄샤인머스캣애플망고선물세트18kg4입', '프리미엄고당도머스크메론2수과일선물세트총4kg1수2kg', '맛있는인기건강선물니몸내몸영양젤리3종선물세트비타민C비타민D루테인선물포장', '센스있는선물추천곰돌이브릭베어차량용방향제선물패키지2가지향증정', '선물포장무료각인맥립스틱3G', '탐라왕제주그대로하우스귤선물세트3kg로얄과12brix이상', '행운선물비타500데일리스틱30포10포추가선물엽서쇼핑백스타벅스추첨증정', '카카오단독파우치증정바디오일우드괄사세트4종중택1', '각인선물포장NEW디올어딕트립스틱', 'MLB루키언스트럭쳐볼캡21종택1', '선물포장무료각인맥베스트텐더토크립밤3G', '향기로운선물옵타움페이퍼인센스세트트레이성냥집게톡별', '선물포장엽서멀티밤', '프리미엄샤인머스캣과일선물세트13KG이상2송이특품', '활력이필요한당신에게GNC멀티비타민밀크씨슬선물세트', '경복궁한우사골실속세트한우사골고기곰탕2팩한우사골곰탕', '고디바다크초콜릿케이크', '교보문고시그니처향TheScentofPAGE룸스프레이60ml', '선물제격보르딘콜드브루12종SET25ml12개', '친구맺고3적립숙면선물록시땅릴랙싱필로우미스트패키지특별한선물톡별', '행복당충전디디얌수제뚱카롱마카롱12구세트', '마음을담은소식2푸드장스테이크3종선물세트톡별', '지금은힘낼시간GNM조정석간건강밀크씨슬실리마린선물세트총4개월분', '노티드봉봉초콜릿1팩9개입', '선물하기단독달바비건화이트트러플미스트세럼세트100ml50ml', '먹방꿈나무New춘식이손잡이앞접시2P세트톡별', '기분에따라골라쓰는솔리드퍼퓸8종택1생일선물', '취향저격선물포장버버리허디스커버리세트5ML3', '24시피부케어선물포장멀티밤아이밤', '촉촉함이가득수제티라미수케이크', '블랙앵거스명품구이선물세트11kg소갈비살300g2살치살200g부채살300g', '고려은단비타민C1000이지비타민D180정', 'SNS인기아이템2가지불빛미니조명렉슨미나S사이즈', '샘플2종쿨한피부를위해마스크오브매그너민티팩125g생일선물', '22년호랑이띠맞춤3종선물세트호랑이인형옷모자선물포장', '선물포장단독모로칸오일트리트먼트50ml증정2종', '당신의건강을밝혀드릴게요비타민C50포톡별', '선물포장장미수토너아쿠아디로즈250ml선물세트', 'NEW소주메이트수고한당신을위한혼술로이체자동소주디스펜서소주잔톡별', '선물포장바디크림50ML', '탐라왕갓따온제주하우스감귤15kg로얄과12brix이상', '행복당충전디디얌인기최고뚱카롱마카롱6구세트', '쫀득한식감달콤한향이가득한황도복숭아15kg과일선물56입', '장수와부의상징스페로스페라크레페케이크톡별', '코코도르프리즘워머프리미엄자캔들향초세트미세빛조절가능', '달콤한향이가득한백도복숭아과일선물3kg812입', '친구맺고3적립홈핸드바디워시300ml4종택1', '조선호텔베스트셀러프리미엄뉴욕치즈케이크', '마이버디유리컵2p세트네컷앨범사은품증정', '추천선물면역력과피로개선6년근홍삼정에버타임스탠다드홍삼스틱30포원통', '누적판매77만개최고인기선물밀크앤허니호두파이', '출산선물네이처메이드기저귀밴드팬티13단계', '기분좋은힐링홍대맛집코만스티라미수케이크4종선물세트톡별', '추천선물하루한포건강습관도라지배즙1박스배도라지즙국산도라지배함유', '하귀농협22년첫출하달콤한제주하우스감귤25kg로얄과12Brix이상', '집순이선물New춘식이피규어유리머그2종택1톡별', '기분좋은하루해삐상큼한딸기가그대로쏙잔망루피딸기크림떡', '건강배달왔도라지GNM국산배도라지청스틱선물세트쇼핑백증정도라지배즙도라지청', '오트밀크로만든카카올라생초콜릿5종유기농우유로만든꼬르지엘모생초콜릿4종', '신선냉장모듬구이선물세트800g본갈비살살치살부채살척아이롤', '춘식이미니페이스쿠션']\n"
     ]
    }
   ],
   "source": [
    "give_delivery100_name = []\n",
    "for prdname in prdnames:\n",
    "    a = prdname.get_text()\n",
    "    newa = ''.join(char for char in a if char.isalnum())\n",
    "    give_delivery100_name.append(newa)\n",
    "print(give_delivery100_name)"
   ]
  },
  {
   "cell_type": "code",
   "execution_count": 115,
   "id": "78f8315a",
   "metadata": {},
   "outputs": [
    {
     "data": {
      "text/plain": [
       "100"
      ]
     },
     "execution_count": 115,
     "metadata": {},
     "output_type": "execute_result"
    }
   ],
   "source": [
    "len(give_delivery100_name)"
   ]
  },
  {
   "cell_type": "markdown",
   "id": "b9762dff",
   "metadata": {},
   "source": [
    "### 가격"
   ]
  },
  {
   "cell_type": "code",
   "execution_count": 116,
   "id": "582319f0",
   "metadata": {},
   "outputs": [],
   "source": [
    "prdprices = soup.find_all('em', {'class' : 'num_price'})"
   ]
  },
  {
   "cell_type": "code",
   "execution_count": 117,
   "id": "c6cf197b",
   "metadata": {},
   "outputs": [
    {
     "name": "stdout",
     "output_type": "stream",
     "text": [
      "['49,900원', '29,000원', '47,000원', '35,000원', '29,900원', '42,350원', '24,000원', '31,000원', '16,900원', '25,900원', '81,000원', '21,000원', '109,000원', '29,900원', '18,000원', '19,900원', '49,000원', '24,000원', '16,500원', '29,000원', '33,300원', '18,900원', '27,800원', '43,000원', '13,900원', '22,500원', '20,000원', '32,000원', '31,500원', '29,900원', '29,800원', '15,900원', '24,800원', '58,000원', '119,000원', '65,000원', '26,000원', '47,000원', '129,000원', '48,500원', '26,900원', '29,900원', '22,000원', '33,000원', '29,900원', '9,900원', '35,000원', '51,000원', '36,000원', '34,000원', '20,000원', '29,400원', '43,900원', '29,900원', '25,000원', '39,000원', '19,000원', '21,900원', '36,000원', '23,900원', '39,900원', '21,900원', '19,900원', '30,900원', '14,800원', '22,000원', '39,000원', '39,800원', '22,900원', '59,800원', '18,000원', '37,600원', '22,000원', '31,800원', '37,000원', '13,900원', '38,000원', '25,900원', '43,000원', '14,900원', '15,200원', '17,900원', '29,900원', '25,900원', '29,800원', '28,000원', '39,900원', '14,900원', '18,900원', '15,300원', '42,900원', '24,900원', '9,900원', '19,800원', '9,900원', '16,400원', '19,900원', '16,900원', '42,900원', '15,000원']\n"
     ]
    }
   ],
   "source": [
    "give_delivery100_price = []\n",
    "for prdprice in prdprices:\n",
    "    give_delivery100_price.append(prdprice.get_text())\n",
    "print(give_delivery100_price)"
   ]
  },
  {
   "cell_type": "code",
   "execution_count": 118,
   "id": "4e877f33",
   "metadata": {},
   "outputs": [
    {
     "data": {
      "text/plain": [
       "100"
      ]
     },
     "execution_count": 118,
     "metadata": {},
     "output_type": "execute_result"
    }
   ],
   "source": [
    "len(give_delivery100_price)"
   ]
  },
  {
   "cell_type": "markdown",
   "id": "d9c42465",
   "metadata": {},
   "source": [
    "### 브랜드"
   ]
  },
  {
   "cell_type": "code",
   "execution_count": 119,
   "id": "109d434d",
   "metadata": {},
   "outputs": [],
   "source": [
    "prdbrands = soup.find_all('span', {'class' : 'txt_brand'})"
   ]
  },
  {
   "cell_type": "code",
   "execution_count": 120,
   "id": "45e3bebd",
   "metadata": {},
   "outputs": [
    {
     "name": "stdout",
     "output_type": "stream",
     "text": [
      "['푸드장', '정관장', '디올', '조말론런던', '푸드랩플러스', '정관장', '센트룸', '이솝', '경남제약', '달바', '정관장', '논픽션', '농협안심한우', '하겐다즈(케이크)', '탬버린즈', '본죽식품', '입생로랑', '센트룸', '수플린 ', '록시땅', '헤라', '위블리즈', '정원삼', '조말론런던', '파스키에', '누리토이즈', '콜린스', '논픽션', '헤라', '캐릭터침구', '오설록 디저트', '인삼/홍삼', '온브릭스', '조말론런던', '농협안심한우', '입생로랑', '록시땅', '이솝', '동아제약', '원월드', '수플린 ', '니몸내몸', '말라코', '맥(MAC)', '탐라왕', '광동생활건강', '아로마티카', '디올', 'MLB', '맥(MAC)', '옵타움', '가히', '수플린 ', 'GNC', '경복궁', '고디바', '북아이템', '커피/차음료', '록시땅', '디디얌', '푸드장', 'GNM자연의품격', '노티드', '달바', '프렌즈리빙LC', '러쉬퍼퓸', '버버리(뷰티)', '가히', '케이크(배송)', '푸드장', '고려은단', '렉슨', '러쉬', '이키', '모로칸오일', '건강식품', '산타마리아노벨라', '로이체', '조말론런던', '탐라왕', '디디얌', '수플린 ', '케이크(배송)', '코코도르', '수플린 ', '록시땅', '조선호텔델리', '데일리라이크 (키친)', '려원담', '신세계푸드', '하기스', '케이크(배송)', '순수식품', '제주-감귤', '프렌즈리빙LC', '청년떡집', 'GNM자연의품격', '초콜릿', '푸드장', '프렌즈인형/피규어']\n"
     ]
    }
   ],
   "source": [
    "give_delivery100_brand = []\n",
    "for prdbrand in prdbrands:\n",
    "    give_delivery100_brand.append(prdbrand.get_text())\n",
    "print(give_delivery100_brand)"
   ]
  },
  {
   "cell_type": "code",
   "execution_count": 121,
   "id": "8a62198d",
   "metadata": {},
   "outputs": [
    {
     "data": {
      "text/plain": [
       "100"
      ]
     },
     "execution_count": 121,
     "metadata": {},
     "output_type": "execute_result"
    }
   ],
   "source": [
    "len(give_delivery100_brand)"
   ]
  },
  {
   "cell_type": "markdown",
   "id": "71ea3bd8",
   "metadata": {},
   "source": [
    "# 많이 선물한 교환권 카테고리별 top20"
   ]
  },
  {
   "cell_type": "code",
   "execution_count": 122,
   "id": "08c371e9",
   "metadata": {},
   "outputs": [],
   "source": [
    "driver.get('https://gift.kakao.com/ranking/best/coupon')"
   ]
  },
  {
   "cell_type": "code",
   "execution_count": 123,
   "id": "a49a2e17",
   "metadata": {},
   "outputs": [
    {
     "name": "stdout",
     "output_type": "stream",
     "text": [
      "Sroll done!!\n"
     ]
    }
   ],
   "source": [
    "prev_height = driver.execute_script('return document.body.scrollHeight')\n",
    "\n",
    "while True:\n",
    "    driver.execute_script('window.scrollTo(0, document.body.scrollHeight)')\n",
    "    time.sleep(1)\n",
    "    cur_height = driver.execute_script('return document.body.scrollHeight')\n",
    "    \n",
    "    if cur_height == prev_height:\n",
    "        break\n",
    "        \n",
    "    prev_height = cur_height\n",
    "print(\"Sroll done!!\")"
   ]
  },
  {
   "cell_type": "code",
   "execution_count": 124,
   "id": "c94778cd",
   "metadata": {},
   "outputs": [],
   "source": [
    "soup = BeautifulSoup(driver.page_source, 'lxml')"
   ]
  },
  {
   "cell_type": "markdown",
   "id": "9b69a4e1",
   "metadata": {},
   "source": [
    "### 제품명"
   ]
  },
  {
   "cell_type": "code",
   "execution_count": 125,
   "id": "2d960d16",
   "metadata": {},
   "outputs": [],
   "source": [
    "prdnames1 = soup.find_all('strong', {'class' : 'txt_prdname'})"
   ]
  },
  {
   "cell_type": "code",
   "execution_count": 126,
   "id": "9aca7a9f",
   "metadata": {},
   "outputs": [
    {
     "name": "stdout",
     "output_type": "stream",
     "text": [
      "['파인트아이스크림', '쿼터아이스크림배달가능', '골라먹는와츄원배달가능', '버라이어티팩배달가능', '나눠먹는와츄원배달가능', '듀얼와츄원NO9배달가능', '모바일금액권3만원권', '패밀리아이스크림배달가능', '싱글레귤러아이스크림', 'NEW해피버스데이배달가능', '리얼27큐브배달가능', '아빠왔다팩배달가능', '해피데이카카오프렌즈배달가능', '바로먹는와츄원배달가능', '모바일금액권5만원권', '하프갤론아이스크림배달가능', '피카피카피카츄케이크배달가능', '싱글킹아이스크림', '옹기종기팩배달가능', '골라먹는스노우볼배달가능', '부드러운디저트아이스카페아메리카노T2잔부드러운생크림카스텔라', '아이스카페아메리카노T', '오늘도달콤하게아이스카페아메리카노T7레이어가나슈케이크', 'APP전용e카드3만원교환권', 'APP전용e카드3만원교환권', 'APP전용e카드5만원교환권', '시원하게함께아이스카페아메리카노T2잔', '서머바캉스세트아이스카페아메리카노T2잔상큼한샤인머스캣스윗박스', '스트로베리초콜릿생크림', '생일축하합니다아이스카페아메리카노T2잔블루베리쿠키치즈케이크', '힘이나는세트아이스카페아메리카노T2잔슈크림가득바움쿠헨The촉촉초콜릿생크림케이크', '기분좋은시작떠먹는스트로베리초콜릿생크림아메리카노R2잔', '행복한기운아이스카페라떼T2잔슈크림가득바움쿠헨', '애플망고치즈설빙', '아이스카페라떼T', '눈부신여름휴가제주청귤라임에이드T2잔블루베리쏙수플레치즈케이크', '기분좋은하루아이스카페아메리카노T2잔클라우드치즈케이크', '축하합니다아이스카페아메리카노T2잔7레이어가나슈케이크클라우드치즈케이크', '아이스자몽허니블랙티T', 'Summer제주청귤라임에이드T', '뿌링클콜라125L', '황금올리브치킨콜라125L', '허니콤보웨지감자세트', '뿌링클치즈볼콜라125L', '고추바사삭콜라125L', '반반오리지날웨지감자세트', '황금올리브반반콜라125L', '교촌오리지날웨지감자세트', '골드킹콤보뿌링치즈볼케이준프라이콜라125L', '고추바사삭모짜치즈볼콜라125L', '후라이드반양념반콜라125L', '황금올리브치킨황금치즈볼5개콜라125L', '반반콤보웨지감자세트', '오리지널블록버스터4피자L콜라125L', '블랙알리오블랙치즈볼콜라125L', '고추마요치킨콜라125L', '뿌링클콤보콜라125L', '레드콤보웨지감자세트', '레드콤보12교촌오리웨지감자세트', '허니콤보퐁듀치즈볼세트', '시그니처생딸기우유생크림케이크', '모바일금액권3만원권', '마이넘버원3배달가능', '모바일금액권5만원권', '치즈반티라미수반케이크배달가능', '시그니처샤인머스캣우유생크림케이크12cm', '뚜레쥬르올스타케이크', '우유가득생크림케이크', '클래식고구마케이크', '해피스마일케이크', '모바일금액권1만원권', '상큼한블루베리쉬폰케이크배달가능', '여름한정시그니처우유생크림케이크', '잔액관리교환권3만원권', '여름한정블레싱레드베리케이크배달가능', '실키롤케익', '여름한정블레싱초코베리케이크배달가능', '선물하기단독고구마가좋아춘식이고구마케이크', '뽀로로의해피데이배달가능', '블루베리듬뿍롤케익배달가능', '건강보양선물보양엔전복죽', '건강보양선물건강보양삼계전복죽', '건강보양선물모바일금액권3만원권', '건강선물남녀노소쇠고기야채죽', '기프트카드10만원권', '기프트카드5만원권', '건강보양선물트러플전복죽특', '건강보양선물특전복죽', '건강보양선물모바일금액권2만원권', '건강엔삼계죽', '건강보양선물전복이2배진전복죽', '건강보양선물트러플전복죽기본', '건강보양선물모바일금액권5만원권', '해장엔낙지김치죽', '아프지마속상해세트쇠고기야채죽장조림', '기프트카드10만원권', '원기회복건강보양선물완도전복죽', '쇠고기야채죽소불고기비빔밥', '듀오갈릭스테이크세트D1아웃백스페셜갈릭스테이크투움바파스타수프2산펠레그리노2딜리버리', '영양만점쇠고기버섯죽', '팝콘먹다손스침세트2D영화관람권2매고소팝콘L1개콜라M2', '2D영화관람권', '2인패키지2D영화관람권2매오리지널팝콘L1개콜라M2개', '2인2D영화관람권', '인생은영화처럼2인세트관람권2팝콘L음료R2주중주말', '수고했어오늘도세트2D영화관람권1매고소팝콘M1개콜라M1', '2인관람권주중주말', '롯데시네마2D영화관람권', 'CGV콤보', '1인관람권주중주말', '스위트콤보교환권', '샤롯데2인관람권', '4DX관람권', '모바일금액권3만원권', '모바일금액권5만원권', '디지털상품권5만원권', '라이프시어터1인세트관람권1팝콘R음료R주중주말', '모바일금액권2만원권', '더부티크스위트주중주말2인', 'GOLDCLASS관람권', '신세계상품권모바일교환권100000원', '신세계상품권모바일교환권50000원', '롯데모바일교환권100000원', '요기요상품권3만원권교환권', '롯데모바일교환권50000원', '요기요상품권5만원권교환권', '신세계상품권모바일교환권30000원', '신세계상품권모바일교환권300000원', '모바일주유권5만원권교환권', '롯데모바일교환권200000원', '요기요상품권2만원권교환권', '컬쳐랜드PIN50000원권교환권', '컬쳐랜드PIN10000원권교환권', '롯데모바일교환권300000원', '금액권5만원권', '모바일주유권3만원권교환권', '카카오페이상품권5만원권교환권', '컬쳐랜드PIN30000원권교환권', '5만원권', '롯데모바일교환권30000원', '기프트카드3만원권', '모바일금액권10000원', '기프트카드5만원권', '기프트카드2만원권', '모바일금액권5000원', '모바일상품권5천원권', '모바일상품권1만원권', '모바일금액권3000원', '모바일금액권30000원', '빙그레바나나우유240ml', '기프트카드1만원권', '1만원모바일상품권', '모바일상품권3천원권', '모바일상품권2만원권', '남양초코에몽드링크', '5천원모바일상품권', '모바일금액권20000원', '당떨어진날필수템남양초코에몽250ml롯데가나마일드초콜릿34g', '모바일상품권3만원권', '빙그레바나나우유240ML']\n"
     ]
    }
   ],
   "source": [
    "give_coupon100_name = []\n",
    "for prdname1 in prdnames1:\n",
    "    a = prdname1.get_text()\n",
    "    newa =  ''.join(char for char in a if char.isalnum())\n",
    "    give_coupon100_name.append(newa)\n",
    "print(give_coupon100_name)"
   ]
  },
  {
   "cell_type": "code",
   "execution_count": 127,
   "id": "7a9e042e",
   "metadata": {},
   "outputs": [
    {
     "data": {
      "text/plain": [
       "160"
      ]
     },
     "execution_count": 127,
     "metadata": {},
     "output_type": "execute_result"
    }
   ],
   "source": [
    "len(give_coupon100_name)"
   ]
  },
  {
   "cell_type": "markdown",
   "id": "2bc40584",
   "metadata": {},
   "source": [
    "### 가격"
   ]
  },
  {
   "cell_type": "code",
   "execution_count": 128,
   "id": "1e048cfd",
   "metadata": {},
   "outputs": [],
   "source": [
    "prdprices1 = soup.find_all('em', {'class' : 'num_price'})"
   ]
  },
  {
   "cell_type": "code",
   "execution_count": 129,
   "id": "700f0713",
   "metadata": {},
   "outputs": [
    {
     "name": "stdout",
     "output_type": "stream",
     "text": [
      "['8,900원', '17,000원', '26,000원', '20,000원', '32,000원', '30,000원', '30,000원', '24,000원', '3,500원', '27,000원', '28,000원', '13,500원', '29,000원', '31,000원', '50,000원', '29,000원', '25,000원', '4,300원', '26,500원', '28,000원', '13,500원', '4,500원', '10,200원', '30,000원', '30,000원', '50,000원', '9,000원', '16,900원', '35,000원', '15,900원', '21,800원', '15,700원', '16,900원', '12,900원', '5,000원', '19,500원', '14,500원', '20,200원', '5,700원', '6,300원', '20,000원', '22,500원', '26,000원', '25,000원', '20,000원', '23,000원', '23,500원', '22,000원', '31,500원', '25,000원', '20,000원', '27,500원', '26,000원', '35,280원', '25,800원', '20,900원', '22,000원', '26,000원', '33,000원', '28,000원', '31,000원', '30,000원', '27,000원', '50,000원', '27,000원', '35,000원', '30,000원', '31,000원', '27,000원', '23,000원', '10,000원', '31,000원', '31,000원', '30,000원', '33,000원', '11,000원', '33,000원', '31,000원', '26,000원', '13,000원', '12,000원', '15,000원', '30,000원', '10,000원', '100,000원', '50,000원', '23,000원', '20,000원', '20,000원', '11,000원', '16,000원', '16,000원', '50,000원', '10,000원', '22,900원', '100,000원', '13,000원', '20,000원', '72,900원', '9,500원', '31,000원', '12,000원', '28,000원', '22,000원', '30,000원', '17,000원', '24,000원', '11,000원', '9,000원', '12,000원', '8,500원', '60,000원', '19,000원', '30,000원', '50,000원', '50,000원', '18,000원', '20,000원', '70,000원', '40,000원', '100,000원', '50,000원', '100,000원', '30,000원', '50,000원', '50,000원', '30,000원', '300,000원', '50,000원', '200,000원', '20,000원', '50,000원', '10,000원', '300,000원', '50,000원', '30,000원', '50,000원', '30,000원', '50,000원', '30,000원', '30,000원', '10,000원', '50,000원', '20,000원', '5,000원', '5,000원', '10,000원', '3,000원', '30,000원', '1,500원', '10,000원', '10,000원', '3,000원', '20,000원', '1,100원', '5,000원', '20,000원', '2,400원', '30,000원', '1,500원']\n"
     ]
    }
   ],
   "source": [
    "give_coupon100_price = []\n",
    "for prdprice1 in prdprices1:\n",
    "    give_coupon100_price.append(prdprice1.get_text())\n",
    "print(give_coupon100_price)"
   ]
  },
  {
   "cell_type": "code",
   "execution_count": 130,
   "id": "af3daee8",
   "metadata": {},
   "outputs": [
    {
     "data": {
      "text/plain": [
       "160"
      ]
     },
     "execution_count": 130,
     "metadata": {},
     "output_type": "execute_result"
    }
   ],
   "source": [
    "len(give_coupon100_price)"
   ]
  },
  {
   "cell_type": "markdown",
   "id": "c3c8c617",
   "metadata": {},
   "source": [
    "### 브랜드"
   ]
  },
  {
   "cell_type": "code",
   "execution_count": 131,
   "id": "a63db749",
   "metadata": {},
   "outputs": [],
   "source": [
    "prdbrands1 = soup.find_all('span', {'class' : 'txt_brand'})"
   ]
  },
  {
   "cell_type": "code",
   "execution_count": 132,
   "id": "0a19ce5d",
   "metadata": {},
   "outputs": [
    {
     "name": "stdout",
     "output_type": "stream",
     "text": [
      "['배스킨라빈스', '배스킨라빈스', '배스킨라빈스', '배스킨라빈스', '배스킨라빈스', '배스킨라빈스', '배스킨라빈스', '배스킨라빈스', '배스킨라빈스', '배스킨라빈스', '배스킨라빈스', '배스킨라빈스', '배스킨라빈스', '배스킨라빈스', '배스킨라빈스', '배스킨라빈스', '배스킨라빈스', '배스킨라빈스', '배스킨라빈스', '배스킨라빈스', '스타벅스', '스타벅스', '스타벅스', '스타벅스', '스타벅스 상품권', '스타벅스', '스타벅스', '스타벅스', '투썸플레이스', '스타벅스', '스타벅스', '투썸플레이스', '스타벅스', '설빙', '스타벅스', '스타벅스', '스타벅스', '스타벅스', '스타벅스', '스타벅스', 'BHC', 'BBQ', '교촌치킨', 'BHC', '굽네치킨', '교촌치킨', 'BBQ', '교촌치킨', 'BHC', '굽네치킨', 'BHC', 'BBQ', '교촌치킨', '도미노피자', '푸라닭', '푸라닭', 'BHC', '교촌치킨', '교촌치킨', '교촌치킨', '파리바게뜨', '파리바게뜨', '파리바게뜨', '파리바게뜨', '파리바게뜨', '파리바게뜨', '뚜레쥬르', '파리바게뜨', '파리바게뜨', '파리바게뜨', '파리바게뜨', '파리바게뜨', '파리바게뜨', '뚜레쥬르', '파리바게뜨', '파리바게뜨', '파리바게뜨', '파리바게뜨', '파리바게뜨', '파리바게뜨', '본죽', '본죽', '본죽', '본죽', '아웃백', '아웃백', '본죽', '본죽', '본죽', '본죽', '본죽', '본죽', '본죽', '본죽', '본죽', '빕스', '죽이야기', '본죽&비빔밥', '아웃백', '본죽', 'CGV', 'CGV', '롯데시네마', '롯데시네마', '메가박스', 'CGV', '메가박스', '롯데시네마', 'CGV', '메가박스', '롯데시네마', '롯데시네마', 'CGV', '롯데시네마', '롯데시네마', '메가박스', '메가박스', '롯데시네마', '메가박스', 'CGV', '이마트,신세계상품권', '이마트,신세계상품권', '롯데모바일교환권', '요기요', '롯데모바일교환권', '요기요', '이마트,신세계상품권', '이마트,신세계상품권', 'S-OIL', '롯데모바일교환권', '요기요', '문화상품권', '문화상품권', '롯데모바일교환권', '이마트,트레이더스', 'S-OIL', '카카오페이상품권', '문화상품권', '홈플러스', '롯데모바일교환권', '올리브영', 'CU', '올리브영', '올리브영', 'CU', 'GS25', 'GS25', 'CU', 'CU', 'CU', '올리브영', '세븐일레븐', 'GS25', 'GS25', 'CU', '세븐일레븐', 'CU', 'CU', 'GS25', 'GS25']\n"
     ]
    }
   ],
   "source": [
    "give_coupon100_brand = []\n",
    "for prdbrand1 in prdbrands1:\n",
    "    give_coupon100_brand.append(prdbrand1.get_text())\n",
    "print(give_coupon100_brand)"
   ]
  },
  {
   "cell_type": "markdown",
   "id": "ec209903",
   "metadata": {},
   "source": [
    "# sql 테이블 생성"
   ]
  },
  {
   "cell_type": "code",
   "execution_count": 133,
   "id": "dc310195",
   "metadata": {},
   "outputs": [],
   "source": [
    "db = pymysql.connect(host='localhost', port=3306, user='root', passwd='1234', db='mywork', charset='utf8')"
   ]
  },
  {
   "cell_type": "code",
   "execution_count": 134,
   "id": "7531f781",
   "metadata": {},
   "outputs": [],
   "source": [
    "ecommerce = db.cursor()"
   ]
  },
  {
   "cell_type": "code",
   "execution_count": 135,
   "id": "59531c02",
   "metadata": {},
   "outputs": [],
   "source": [
    "sql = \"\"\"\n",
    "create table cate_br (\n",
    "category varchar(50) not null,\n",
    "brand varchar(50) not null\n",
    ");\n",
    "\"\"\""
   ]
  },
  {
   "cell_type": "code",
   "execution_count": 136,
   "id": "12f9b36b",
   "metadata": {},
   "outputs": [],
   "source": [
    "sql2 = \"\"\"\n",
    "create table give_present (\n",
    "product_name varchar(200) not null,\n",
    "price_range varchar(200) not null,\n",
    "ranking int,\n",
    "brand varchar(50)\n",
    ");\n",
    "\"\"\""
   ]
  },
  {
   "cell_type": "code",
   "execution_count": 137,
   "id": "cf249ff6",
   "metadata": {},
   "outputs": [],
   "source": [
    "sql3 = \"\"\"\n",
    "create table want_present (\n",
    "product_name varchar(200) not null,\n",
    "price_range varchar(200) not null,\n",
    "ranking int,\n",
    "brand varchar(50)\n",
    ");\n",
    "\"\"\""
   ]
  },
  {
   "cell_type": "code",
   "execution_count": 138,
   "id": "4b40635d",
   "metadata": {},
   "outputs": [],
   "source": [
    "sql4 = \"\"\"\n",
    "create table delivery100 (\n",
    "    ranking int,\n",
    "    product_name varchar(200) not null,\n",
    "    price int,\n",
    "    brand varchar(50))\n",
    "\"\"\""
   ]
  },
  {
   "cell_type": "code",
   "execution_count": 139,
   "id": "0a83b82d",
   "metadata": {},
   "outputs": [],
   "source": [
    "sql5 = \"\"\"\n",
    "create table coupon (\n",
    "    ranking int,\n",
    "    product_name varchar(200) not null,\n",
    "    price int,\n",
    "    brand varchar(50))\n",
    "\"\"\""
   ]
  },
  {
   "cell_type": "code",
   "execution_count": 140,
   "id": "e2208e0e",
   "metadata": {},
   "outputs": [
    {
     "data": {
      "text/plain": [
       "0"
      ]
     },
     "execution_count": 140,
     "metadata": {},
     "output_type": "execute_result"
    }
   ],
   "source": [
    "ecommerce.execute(sql)"
   ]
  },
  {
   "cell_type": "code",
   "execution_count": 141,
   "id": "c9c770e2",
   "metadata": {
    "scrolled": true
   },
   "outputs": [
    {
     "data": {
      "text/plain": [
       "0"
      ]
     },
     "execution_count": 141,
     "metadata": {},
     "output_type": "execute_result"
    }
   ],
   "source": [
    "ecommerce.execute(sql2)"
   ]
  },
  {
   "cell_type": "code",
   "execution_count": 142,
   "id": "0967ed91",
   "metadata": {},
   "outputs": [
    {
     "data": {
      "text/plain": [
       "0"
      ]
     },
     "execution_count": 142,
     "metadata": {},
     "output_type": "execute_result"
    }
   ],
   "source": [
    "ecommerce.execute(sql3)"
   ]
  },
  {
   "cell_type": "code",
   "execution_count": 143,
   "id": "9908d54f",
   "metadata": {},
   "outputs": [
    {
     "data": {
      "text/plain": [
       "0"
      ]
     },
     "execution_count": 143,
     "metadata": {},
     "output_type": "execute_result"
    }
   ],
   "source": [
    "ecommerce.execute(sql4)"
   ]
  },
  {
   "cell_type": "code",
   "execution_count": 144,
   "id": "9a486c6a",
   "metadata": {},
   "outputs": [
    {
     "data": {
      "text/plain": [
       "0"
      ]
     },
     "execution_count": 144,
     "metadata": {},
     "output_type": "execute_result"
    }
   ],
   "source": [
    "ecommerce.execute(sql5)"
   ]
  },
  {
   "cell_type": "code",
   "execution_count": 145,
   "id": "b9b940c7",
   "metadata": {},
   "outputs": [],
   "source": [
    "db.commit()"
   ]
  },
  {
   "cell_type": "code",
   "execution_count": 146,
   "id": "bd51f14f",
   "metadata": {},
   "outputs": [],
   "source": [
    "db.close()"
   ]
  },
  {
   "cell_type": "markdown",
   "id": "27fceab5",
   "metadata": {},
   "source": [
    "# 카테고리 - 브랜드 테이블에 데이터 삽입"
   ]
  },
  {
   "cell_type": "code",
   "execution_count": 147,
   "id": "d8249e8f",
   "metadata": {},
   "outputs": [
    {
     "name": "stdout",
     "output_type": "stream",
     "text": [
      "투썸플레이스\n",
      "파리바게뜨\n",
      "뚜레쥬르\n",
      "던킨\n",
      "디저트39\n",
      "아티제\n",
      "크리스피크림\n",
      "한스케익\n",
      "파리크라상\n",
      "카페노티드\n",
      "성심당\n",
      "앤티앤스프레즐\n",
      "자연드림\n",
      "와플대학\n",
      "빚은\n",
      "떡보의하루\n",
      "롤링핀\n",
      "빌리엔젤(교환권)\n",
      "김영모과자점\n",
      "코코호도\n",
      "베즐리\n",
      "나폴레옹제과점(교환권)\n",
      "홍루이젠\n",
      "망원동티라미수\n",
      "패션5\n",
      "도레도레\n",
      "밀도\n",
      "브레댄코\n",
      "곤트란쉐리에\n",
      "라라브레드\n",
      "시나본\n",
      "호밀호두\n",
      "스트릿츄러스\n",
      "노아베이커리\n",
      "나폴레옹과자점\n",
      "리치몬드과자점\n",
      "마리웨일237\n",
      "지유가오카\n",
      "베이크팡\n",
      "쁘띠렌\n"
     ]
    }
   ],
   "source": [
    "db = pymysql.connect(host='localhost', port=3306, user='root', passwd='1234', db='mywork', charset='utf8')\n",
    "\n",
    "cursor = db.cursor()\n",
    "\n",
    "for i in bakery_final:\n",
    "    k = str(i)\n",
    "    print(k)\n",
    "    sql = \"\"\"\n",
    "    insert into cate_br values (\"bakery\", \"{0}\"\n",
    "    );\n",
    "    \"\"\".format(k)\n",
    "    cursor.execute(sql)\n",
    "    \n",
    "db.commit()\n",
    "db.close()"
   ]
  },
  {
   "cell_type": "code",
   "execution_count": 148,
   "id": "b074c1f0",
   "metadata": {},
   "outputs": [
    {
     "name": "stdout",
     "output_type": "stream",
     "text": [
      "스타벅스\n",
      "투썸플레이스\n",
      "설빙\n",
      "메가MGC커피\n",
      "이디야커피\n",
      "컴포즈커피\n",
      "공차\n",
      "빽다방\n",
      "폴 바셋\n",
      "할리스\n",
      "더벤티\n",
      "아티제\n",
      "파스쿠찌\n",
      "커피빈\n",
      "하삼동커피\n",
      "텐퍼센트커피\n",
      "아마스빈\n",
      "카페봄봄\n",
      "탐앤탐스\n",
      "엔제리너스\n",
      "더리터\n",
      "쥬씨\n",
      "요거프레소\n",
      "매머드커피\n",
      "매머드익스프레스\n",
      "팔공티\n",
      "커피베이\n",
      "커피에반하다\n",
      "달콤커피\n",
      "감성커피\n",
      "고디바(교환권)\n",
      "카페베네\n",
      "드롭탑\n",
      "카페게이트\n",
      "테라로사\n",
      "만랩커피\n",
      "에이바우트커피\n",
      "셀렉토커피\n",
      "마시그래이\n",
      "읍천리382\n",
      "잠바주스\n",
      "스무디킹\n",
      "커피스미스\n",
      "오설록(교환권)\n",
      "토프레소\n",
      "오가다\n",
      "꿀스커피\n",
      "79파운야드 \n",
      "카페인중독\n",
      "포비\n",
      "타이거슈가\n",
      "더치앤빈\n",
      "달리는 커피\n",
      "클로리스\n",
      "커피니\n",
      "빈스앤베리즈\n",
      "마호가니\n",
      "커핀그루나루\n",
      "카페띠아모\n",
      "커피나무\n",
      "복고다방\n",
      "커피홀\n",
      "놀숲\n",
      "주커피\n",
      "커피마마\n",
      "바빈스커피\n",
      "비엔나커피하우스\n",
      "홍콩다방\n",
      "빈스빈스\n",
      "지유명차\n",
      "카페데베르\n",
      "모리셔스브라운\n",
      "리나스\n",
      "레더라(교환권)\n",
      "조앤더주스\n",
      "더앨리\n",
      "디초콜릿커피앤드\n",
      "세라젬 웰카페\n",
      "흑화당\n",
      "텀브커피\n"
     ]
    }
   ],
   "source": [
    "db = pymysql.connect(host='localhost', port=3306, user='root', passwd='1234', db='mywork', charset='utf8')\n",
    "\n",
    "cursor = db.cursor()\n",
    "\n",
    "for i in cafe_final:\n",
    "    k = str(i)\n",
    "    print(k)\n",
    "    sql = \"\"\"\n",
    "    insert into cate_br values (\"cafe\", \"{0}\"\n",
    "    );\n",
    "    \"\"\".format(k)\n",
    "    cursor.execute(sql)\n",
    "    \n",
    "db.commit()\n",
    "db.close()"
   ]
  },
  {
   "cell_type": "code",
   "execution_count": 149,
   "id": "3f51ad31",
   "metadata": {},
   "outputs": [
    {
     "name": "stdout",
     "output_type": "stream",
     "text": [
      "배스킨라빈스\n",
      "설빙\n",
      "백미당\n",
      "나뚜루\n",
      "하겐다즈(교환권)\n",
      "빨라쪼델프레도\n",
      "도쿄빙수\n",
      "브알라 카페\n",
      "바세츠아이스크림\n",
      "소프트리\n",
      "스노우볼\n",
      "알라스카랩\n",
      "레미콘\n"
     ]
    }
   ],
   "source": [
    "db = pymysql.connect(host='localhost', port=3306, user='root', passwd='1234', db='mywork', charset='utf8')\n",
    "\n",
    "cursor = db.cursor()\n",
    "\n",
    "for i in icecream_final:\n",
    "    k = str(i)\n",
    "    print(k)\n",
    "    sql = \"\"\"\n",
    "    insert into cate_br values (\"icecream\", \"{0}\"\n",
    "    );\n",
    "    \"\"\".format(k)\n",
    "    cursor.execute(sql)\n",
    "    \n",
    "db.commit()\n",
    "db.close()"
   ]
  },
  {
   "cell_type": "code",
   "execution_count": 150,
   "id": "38d1ffa9",
   "metadata": {},
   "outputs": [
    {
     "name": "stdout",
     "output_type": "stream",
     "text": [
      "원할머니 보쌈족발\n",
      "가장맛있는족발\n",
      "명륜진사갈비\n",
      "이차돌\n",
      "마왕족발\n",
      "장충동왕족발\n",
      "족발야시장\n",
      "놀부보쌈족발\n",
      "하남돼지집\n",
      "투뿔등심(교환권)\n",
      "도쿄등심\n",
      "유가네\n",
      "새마을식당\n",
      "곱창고\n",
      "호세야오리바베큐\n",
      "짚신매운갈비찜\n",
      "육감만족\n",
      "도야족발보쌈\n",
      "세광양대창\n",
      "고기원칙\n",
      "연타발\n",
      "달구지막창\n",
      "토시래\n",
      "교대이층집\n",
      "미스터보쌈\n",
      "한와담\n",
      "남다른감자탕\n",
      "엉터리생고기\n",
      "돈통마늘보쌈\n",
      "콩불\n",
      "진대감\n",
      "차돌풍\n",
      "오목집\n",
      "서래갈매기\n",
      "후쿠오카함바그\n",
      "김충기꽃삼겹\n",
      "호박식당\n",
      "홍춘천 치즈닭갈비\n",
      "흑돼지 삼백식당\n",
      "닭갈비제작소\n"
     ]
    }
   ],
   "source": [
    "db = pymysql.connect(host='localhost', port=3306, user='root', passwd='1234', db='mywork', charset='utf8')\n",
    "\n",
    "cursor = db.cursor()\n",
    "\n",
    "for i in meat_final:\n",
    "    k = str(i)\n",
    "    print(k)\n",
    "    sql = \"\"\"\n",
    "    insert into cate_br values (\"meat\", \"{0}\"\n",
    "    );\n",
    "    \"\"\".format(k)\n",
    "    cursor.execute(sql)\n",
    "    \n",
    "db.commit()\n",
    "db.close()"
   ]
  },
  {
   "cell_type": "code",
   "execution_count": 151,
   "id": "3dbfcea6",
   "metadata": {},
   "outputs": [
    {
     "name": "stdout",
     "output_type": "stream",
     "text": [
      "BHC\n",
      "교촌치킨\n",
      "BBQ\n",
      "굽네치킨\n",
      "푸라닭\n",
      "네네치킨\n",
      "노랑통닭\n",
      "60계치킨\n",
      "자담치킨\n",
      "처갓집양념치킨\n",
      "페리카나\n",
      "호식이두마리치킨\n",
      "멕시카나치킨\n",
      "바른치킨\n",
      "꾸브라꼬숯불두마리치킨\n",
      "또래오래\n",
      "깐부치킨\n",
      "보드람치킨\n",
      "가마로강정\n",
      "땅땅치킨\n",
      "치킨플러스\n",
      "누구나홀딱반한닭\n",
      "치킨신드롬\n",
      "오꾸닭\n",
      "순수치킨\n",
      "동근이숯불두마리치킨\n",
      "티바두마리치킨\n",
      "충만치킨\n",
      "쌀통닭\n",
      "또봉이통닭\n",
      "치킨마루\n",
      "훌랄라치킨\n",
      "돈치킨\n",
      "호치킨\n",
      "오태식해바라기치킨\n",
      "아웃닭\n",
      "오빠닭\n",
      "코리엔탈 깻잎두마리치킨\n",
      "당신은지금치킨이땡긴다\n",
      "부어치킨\n",
      "철인7호치킨\n",
      "장모님치킨\n",
      "이춘봉치킨\n",
      "디디치킨\n",
      "투존치킨\n",
      "공만치킨\n",
      "컬투치킨\n",
      "치요남치킨\n",
      "678치킨\n",
      "쌀쌀맞은닭\n",
      "웰덤치킨\n",
      "모던통닭\n",
      "땡큐맘치킨\n",
      "치르치르\n",
      "기발한치킨\n",
      "야들리애치킨\n",
      "엔칙스치킨\n",
      "별별치킨\n",
      "못난감자앤치킨\n",
      "쏘닭\n"
     ]
    }
   ],
   "source": [
    "db = pymysql.connect(host='localhost', port=3306, user='root', passwd='1234', db='mywork', charset='utf8')\n",
    "\n",
    "cursor = db.cursor()\n",
    "\n",
    "for i in chicken_final:\n",
    "    k = str(i)\n",
    "    print(k)\n",
    "    sql = \"\"\"\n",
    "    insert into cate_br values (\"chicken\", \"{0}\"\n",
    "    );\n",
    "    \"\"\".format(k)\n",
    "    cursor.execute(sql)\n",
    "    \n",
    "db.commit()\n",
    "db.close()"
   ]
  },
  {
   "cell_type": "code",
   "execution_count": 152,
   "id": "ff0fe04d",
   "metadata": {},
   "outputs": [
    {
     "name": "stdout",
     "output_type": "stream",
     "text": [
      "맥도날드\n",
      "도미노피자\n",
      "맘스터치\n",
      "롯데리아\n",
      "피자헛\n",
      "써브웨이\n",
      "피자알볼로\n",
      "미스터피자\n",
      "버거킹\n",
      "파파존스\n",
      "반올림피자샵\n",
      "청년피자\n",
      "KFC\n",
      "이삭토스트\n",
      "쉐이크 쉑\n",
      "피자마루\n",
      "에그드랍\n",
      "7번가피자\n",
      "잭슨피자\n",
      "명랑핫도그\n",
      "피자에땅\n",
      "지정환피자\n",
      "빅스타피자\n",
      "피자헤븐\n",
      "퀴즈노스\n",
      "유로코피자\n",
      "선명희피자\n",
      "버거앤프라이즈\n",
      "뉴욕버거\n",
      "다운타우너\n",
      "고피자\n",
      "바스버거\n",
      "프레드피자\n",
      "모스버거\n",
      "에그슬럿\n",
      "타코벨\n",
      "뽕뜨락피자\n",
      "봉수아피자\n",
      "죠샌드위치\n",
      "피자이탈리\n",
      "피제이피자\n",
      "피자파는집\n",
      "네오피자\n",
      "빨간모자피자\n",
      "블리스버거\n",
      "버거307\n",
      "도니버거\n",
      "스테프핫도그\n",
      "에그셀런트\n",
      "아이엠어버거\n",
      "청춘감성쌀핫도그\n",
      "브라보치킨피자\n",
      "피자생각\n",
      "카니발피자\n",
      "오리지널시카고피자\n",
      "토스트럭\n",
      "플라잉볼익스프레스\n",
      "헌치스핫도그\n",
      "왓츠피데\n"
     ]
    }
   ],
   "source": [
    "db = pymysql.connect(host='localhost', port=3306, user='root', passwd='1234', db='mywork', charset='utf8')\n",
    "\n",
    "cursor = db.cursor()\n",
    "\n",
    "for i in burger_final:\n",
    "    k = str(i)\n",
    "    print(k)\n",
    "    sql = \"\"\"\n",
    "    insert into cate_br values (\"burger\", \"{0}\"\n",
    "    );\n",
    "    \"\"\".format(k)\n",
    "    cursor.execute(sql)\n",
    "    \n",
    "db.commit()\n",
    "db.close()"
   ]
  },
  {
   "cell_type": "code",
   "execution_count": 153,
   "id": "e3144766",
   "metadata": {},
   "outputs": [
    {
     "name": "stdout",
     "output_type": "stream",
     "text": [
      "CU\n",
      "GS25\n",
      "세븐일레븐\n",
      "이마트24\n",
      "미니스톱\n",
      "씨스페이스\n"
     ]
    }
   ],
   "source": [
    "db = pymysql.connect(host='localhost', port=3306, user='root', passwd='1234', db='mywork', charset='utf8')\n",
    "\n",
    "cursor = db.cursor()\n",
    "\n",
    "for i in convi:\n",
    "    k = str(i)\n",
    "    print(k)\n",
    "    sql = \"\"\"\n",
    "    insert into cate_br values (\"convenience\", \"{0}\"\n",
    "    );\n",
    "    \"\"\".format(k)\n",
    "    cursor.execute(sql)\n",
    "    \n",
    "db.commit()\n",
    "db.close()"
   ]
  },
  {
   "cell_type": "code",
   "execution_count": 154,
   "id": "e6dfe798",
   "metadata": {},
   "outputs": [
    {
     "name": "stdout",
     "output_type": "stream",
     "text": [
      "지호한방삼계탕\n",
      "두찜\n",
      "홍콩반점0410+\n",
      "상무초밥\n",
      "모던샤브하우스\n",
      "하이디라오 훠궈\n",
      "역전우동0410\n",
      "국수나무\n",
      "신선설농탕\n",
      "봉추찜닭\n",
      "긴자\n",
      "한촌설렁탕\n",
      "천지연\n",
      "미카도스시\n",
      "이비가짬뽕\n",
      "아워홈(인천공항)\n",
      "우설화\n",
      "피에프창\n",
      "강강술래(교환권)\n",
      "딘타이펑\n",
      "전주현대옥\n",
      "보돌미역\n",
      "보배반점\n",
      "정직유부\n",
      "송추가마골\n",
      "땅스부대찌개\n",
      "이화수전통육개장\n",
      "크래버 대게나라\n",
      "일미리금계찜닭\n",
      "아비꼬\n",
      "놀부부대찌개\n",
      "연안식당\n",
      "무공돈까스\n",
      "유미카츠\n",
      "백채김치찌개\n",
      "사보텐\n",
      "북창동순두부(교환권)\n",
      "크리스탈제이드\n",
      "고쿠텐\n",
      "부엉이돈가스\n",
      "코이라멘\n",
      "킹콩부대찌개\n",
      "고베규카츠\n",
      "원조쌈밥집\n",
      "박가부대\n",
      "북촌손만두\n",
      "하루엔소쿠\n",
      "어바웃샤브\n",
      "미정국수0410\n",
      "홍짜장\n",
      "탄탄면공방\n",
      "부산아지매국밥\n",
      "더 테이스트 고베\n",
      "시추안하우스\n",
      "배부장찌개\n",
      "슈퍼키친\n",
      "후쿠오카함바그\n",
      "제일제면소\n",
      "이자와\n",
      "한옥집김치찜\n",
      "돈돈정\n",
      "인기명\n",
      "제레미20\n",
      "발재반점\n",
      "이태리부대찌개\n",
      "쿠벤\n",
      "홀리차우\n",
      "153포인츠부대찌개\n",
      "멘야산다이메\n",
      "리얼안심탕수육\n",
      "멘무샤\n",
      "가츠몽\n",
      "아리가또맘마\n",
      "쉐프의부대찌개\n",
      "아빠곰탕\n"
     ]
    }
   ],
   "source": [
    "db = pymysql.connect(host='localhost', port=3306, user='root', passwd='1234', db='mywork', charset='utf8')\n",
    "\n",
    "cursor = db.cursor()\n",
    "\n",
    "for i in kor_chi_jap:\n",
    "    k = str(i)\n",
    "    print(k)\n",
    "    sql = \"\"\"\n",
    "    insert into cate_br values (\"kor_chi_jap\", \"{0}\"\n",
    "    );\n",
    "    \"\"\".format(k)\n",
    "    cursor.execute(sql)\n",
    "    \n",
    "db.commit()\n",
    "db.close()"
   ]
  },
  {
   "cell_type": "code",
   "execution_count": 155,
   "id": "e2b1035f",
   "metadata": {},
   "outputs": [
    {
     "name": "stdout",
     "output_type": "stream",
     "text": [
      "롤링파스타\n",
      "토끼정\n",
      "현대그린푸드\n",
      "포메인\n",
      "크리스피프레시\n",
      "미분당\n",
      "니뽕내뽕\n",
      "아그라\n",
      "닥터로빈\n",
      "더플레이스\n",
      "생어거스틴(교환권)\n",
      "반포식스\n",
      "피그인더가든\n",
      "블랙스테이크\n",
      "뉴욕야시장\n",
      "낙원타코\n",
      "캘리포니아피자키친\n",
      "Brunch37.5\n",
      "호아빈오리진\n",
      "케르반 레스토랑\n",
      "분짜라붐\n",
      "컨트리맨즈\n",
      "한스델리\n",
      "미태리\n",
      "강가\n",
      "리얼하노이\n",
      "더키친일뽀르노\n",
      "스탠딩스테이크\n",
      "토마틸로\n",
      "미스터케밥\n",
      "나인로드피제리아\n",
      "통파이브\n",
      "스트릿\n",
      "베라피자\n",
      "알로하포케\n",
      "도스타코스\n",
      "새우시대\n",
      "육전면사무소\n",
      "월남국수\n",
      "술탄케밥\n"
     ]
    }
   ],
   "source": [
    "db = pymysql.connect(host='localhost', port=3306, user='root', passwd='1234', db='mywork', charset='utf8')\n",
    "\n",
    "cursor = db.cursor()\n",
    "\n",
    "for i in fusion:\n",
    "    k = str(i)\n",
    "    print(k)\n",
    "    sql = \"\"\"\n",
    "    insert into cate_br values (\"fusion\", \"{0}\"\n",
    "    );\n",
    "    \"\"\".format(k)\n",
    "    cursor.execute(sql)\n",
    "    \n",
    "db.commit()\n",
    "db.close()"
   ]
  },
  {
   "cell_type": "code",
   "execution_count": 156,
   "id": "5e978a74",
   "metadata": {},
   "outputs": [
    {
     "name": "stdout",
     "output_type": "stream",
     "text": [
      "본죽\n",
      "본죽&비빔밥\n",
      "죽이야기\n",
      "청년다방\n",
      "죠스떡볶이\n",
      "응급실국물떡볶이, 응떡\n",
      "한솥도시락\n",
      "샐러디\n",
      "본도시락\n",
      "걸작떡볶이치킨\n",
      "두끼\n",
      "떡볶이참잘하는집, 떡참\n",
      "바르다김선생\n",
      "포케올데이\n",
      "할머니가래떡볶이\n",
      "감탄떡볶이\n",
      "신참떡볶이\n",
      "지지고\n",
      "오마뎅\n",
      "얌샘김밥\n",
      "선비꼬마김밥\n",
      "33떡볶이\n",
      "스쿨푸드\n",
      "오떡\n",
      "토마토김밥\n",
      "빨봉분식\n",
      "청담동 마녀김밥\n",
      "스노우폭스\n",
      "토마토도시락\n",
      "김밥킹\n",
      "석관동떡볶이\n",
      "이소떡\n",
      "국대떡볶이\n",
      "로봇김밥\n",
      "김피라\n",
      "여우애김밥\n",
      "열정분식소\n",
      "크레이지후라이\n",
      "반장떡볶이\n",
      "개념떡볶이\n",
      "창화당(교환권)\n",
      "삼청동궁물떡복이\n",
      "소소떡볶이\n",
      "K.콜라보김밥\n",
      "무한우주별떡볶이\n"
     ]
    }
   ],
   "source": [
    "db = pymysql.connect(host='localhost', port=3306, user='root', passwd='1234', db='mywork', charset='utf8')\n",
    "\n",
    "cursor = db.cursor()\n",
    "\n",
    "for i in boonsik:\n",
    "    k = str(i)\n",
    "    print(k)\n",
    "    sql = \"\"\"\n",
    "    insert into cate_br values (\"boonsik\", \"{0}\"\n",
    "    );\n",
    "    \"\"\".format(k)\n",
    "    cursor.execute(sql)\n",
    "    \n",
    "db.commit()\n",
    "db.close()"
   ]
  },
  {
   "cell_type": "code",
   "execution_count": 157,
   "id": "be9bb6ca",
   "metadata": {},
   "outputs": [
    {
     "name": "stdout",
     "output_type": "stream",
     "text": [
      "아웃백\n",
      "빕스\n",
      "롯데호텔\n",
      "애슐리\n",
      "매드포갈릭\n",
      "조선호텔\n",
      "서가앤쿡(교환권)\n",
      "인터컨티넨탈 호텔 서울\n",
      "메리어트\n",
      "워커힐호텔\n",
      "라라코스트\n",
      "텍사스데브라질\n",
      "파라다이스호텔앤리조트\n",
      "63레스토랑\n",
      "울프강스테이크하우스\n",
      "제주신화월드\n",
      "붓처스컷\n",
      "신라스테이\n",
      "온더보더\n",
      "메이필드호텔\n",
      "마키노차야\n",
      "글래드호텔(교환권)\n",
      "TGIF\n",
      "라그릴리아\n",
      "디오디아\n",
      "노보텔 앰배서더 동대문 푸드익스체인지\n",
      "켄싱턴호텔\n",
      "그랜드하얏트인천\n",
      "마켓오\n",
      "노보텔앰배서더 서울 강남\n",
      "L7강남플로팅\n",
      "탑클라우드코퍼레이션\n",
      "더플라자호텔\n",
      "ebt\n"
     ]
    }
   ],
   "source": [
    "db = pymysql.connect(host='localhost', port=3306, user='root', passwd='1234', db='mywork', charset='utf8')\n",
    "\n",
    "cursor = db.cursor()\n",
    "\n",
    "for i in family:\n",
    "    k = str(i)\n",
    "    print(k)\n",
    "    sql = \"\"\"\n",
    "    insert into cate_br values (\"family\", \"{0}\"\n",
    "    );\n",
    "    \"\"\".format(k)\n",
    "    cursor.execute(sql)\n",
    "    \n",
    "db.commit()\n",
    "db.close()"
   ]
  },
  {
   "cell_type": "markdown",
   "id": "0d4b39ee",
   "metadata": {},
   "source": [
    "# 많이 선물한 선물 테이블에 데이터 삽입"
   ]
  },
  {
   "cell_type": "code",
   "execution_count": 159,
   "id": "11d1b7a3",
   "metadata": {},
   "outputs": [
    {
     "name": "stdout",
     "output_type": "stream",
     "text": [
      "오리온마이구미1000\n",
      "롯데2부족할때복숭아240ML\n",
      "카페모카IceTAKEOUT\n",
      "더블마이쮸세트크라운마이쮸딸기크라운마이쮸포도\n",
      "아이스카페아메리카노T\n",
      "동원네스퀵초코180ML\n",
      "모구모구리치320ML\n",
      "녹차빽스치노소프트\n",
      "농심바나나킥75g\n",
      "동서스타벅스라떼컵270ml\n",
      "플레인요거트스무디\n",
      "쉐프엠젤리블리애플망고60G\n",
      "피카피카피카츄블록팩110ml\n",
      "매일킨더초코릿50g4입\n",
      "롯데아몬드빼빼로37G\n",
      "아이스모찌스트로베리\n",
      "롯데푸드돼지바\n",
      "쿠키초코프라페OnlyIceTAKEOUT\n",
      "아메리카노R\n",
      "크라운새콤달콤딸기500\n"
     ]
    }
   ],
   "source": [
    "db = pymysql.connect(host='localhost', port=3306, user='root', passwd='1234', db='mywork', charset='utf8')\n",
    "\n",
    "cursor = db.cursor()\n",
    "\n",
    "for i, (give_present, give_brand) in enumerate(zip(give_presents1, give_brands1)):\n",
    "    k = str(give_present)\n",
    "    t = str(give_brand)\n",
    "    print(k)\n",
    "    sql = \"\"\"\n",
    "    insert into give_present values (\"{0}\", \"1만원미만\", {1}, \"{2}\"\n",
    "    );\n",
    "    \"\"\".format(k, i+1, t)\n",
    "    cursor.execute(sql)\n",
    "    \n",
    "db.commit()\n",
    "db.close()"
   ]
  },
  {
   "cell_type": "code",
   "execution_count": 170,
   "id": "f26bb2c6",
   "metadata": {},
   "outputs": [
    {
     "name": "stdout",
     "output_type": "stream",
     "text": [
      "취업이직생일선물그라펜제주해수바디스프레이250ml3종택1\n",
      "교촌콤보퐁듀치즈볼세트\n",
      "통합모바일문화상품권20000원권교환권\n",
      "모바일교환권10000원권\n",
      "롯데시네마2D영화관람권\n",
      "통합모바일문화상품권10000원권교환권\n",
      "디지털상품권2만원권\n",
      "하귀농협22년첫출하달콤한제주하우스감귤15kg로얄과12Brix이상\n",
      "블루베리듬뿍롤케익배달가능\n",
      "답례품감사해요오설록웨딩그린티웨하스세트\n",
      "4DX관람권\n",
      "1만원금액권\n",
      "카카오페이상품권1만원권교환권\n",
      "디지털상품권1만원권\n",
      "생일선물이게진짜힙한건가레인보우프렌즈인형친구들\n",
      "부드러운디저트아이스카페아메리카노T2잔부드러운생크림카스텔라\n",
      "더벤티1만원권\n",
      "선물추천러블리티박스LovelyTeaBox4종x3입\n",
      "황금올리브치킨크림치즈볼\n",
      "선불번호1만원권교환권\n"
     ]
    }
   ],
   "source": [
    "db = pymysql.connect(host='localhost', port=3306, user='root', passwd='1234', db='mywork', charset='utf8')\n",
    "\n",
    "cursor = db.cursor()\n",
    "\n",
    "for i, (give_present,give_brand) in enumerate(zip(give_presents2, give_brands2)):\n",
    "    k = str(give_present)\n",
    "    t = str(give_brand)\n",
    "    print(k)\n",
    "    sql = \"\"\"\n",
    "    insert into give_present values (\"{0}\", \"1_2만원대\", {1}, \"{2}\"\n",
    "    );\n",
    "    \"\"\".format(k, i+1, t)\n",
    "    cursor.execute(sql)\n",
    "    \n",
    "db.commit()\n",
    "db.close()"
   ]
  },
  {
   "cell_type": "code",
   "execution_count": 171,
   "id": "a087995c",
   "metadata": {},
   "outputs": [
    {
     "name": "stdout",
     "output_type": "stream",
     "text": [
      "출산백일돌선물아토팜크림로션워시3종세트\n",
      "감각적인선물티로직계수나무머그2P우드받침2P세트2종택1\n",
      "오리지널존스페이버릿L파파스파스타미트코카콜라500ml\n",
      "달콤한애플망고과일선물세트18KG이상45입로얄과\n",
      "사미헌갈비탕4팩1kg4팩사미헌갈비탕1kg\n",
      "지금은힘낼시간GNM조정석간건강밀크씨슬실리마린선물세트총6개월분밀크시슬\n",
      "탐라왕갓따온제주하우스감귤45kg로얄과12brix이상\n",
      "건강을선물하세요잇츠넛프리미엄60봉하루한줌견과선물세트30봉x2세트\n",
      "스타벅스화이트머그선물세트머그2개VIA커피2개입카드택1\n",
      "볼빅X츄파춥스12알골프공비비드컬러볼2피스\n",
      "직화불고기리치골드L펩시125L\n",
      "친구맺고3적립단독록시땅홈핸드워시기프트핸드워시솝트레이특별한선물톡별\n",
      "양키캔들라지자623g선샤인캔들워머세트\n",
      "취업이직생일선물빈지노PICK그라펜타투퍼퓸원우드50ml파우치증정\n",
      "엄마를위한출산선물센스있는출산선물이지맘멀티비타민수유부출산후영양제종합비타민\n",
      "횡성한우세트1등급한우갈비등심채끝선택소스증정\n",
      "5만원권\n",
      "항공직수입워싱턴싱싱점보체리1kg95row\n",
      "누적판매1000만개클럭마사지기선물세트건강선물EMS저주파안마기부모님선물\n",
      "블랑101출산선물세트3종세제유연제젖병세정제\n"
     ]
    }
   ],
   "source": [
    "db = pymysql.connect(host='localhost', port=3306, user='root', passwd='1234', db='mywork', charset='utf8')\n",
    "\n",
    "cursor = db.cursor()\n",
    "\n",
    "for i, (give_present,give_brand) in enumerate(zip(give_presents3, give_brands3)):\n",
    "    k = str(give_present)\n",
    "    t = str(give_brand)\n",
    "    print(k)\n",
    "    sql = \"\"\"\n",
    "    insert into give_present values (\"{0}\", \"3_4만원대\", {1}, \"{2}\"\n",
    "    );\n",
    "    \"\"\".format(k, i+1, t)\n",
    "    cursor.execute(sql)\n",
    "    \n",
    "db.commit()\n",
    "db.close()"
   ]
  },
  {
   "cell_type": "code",
   "execution_count": 161,
   "id": "31e71d85",
   "metadata": {},
   "outputs": [
    {
     "name": "stdout",
     "output_type": "stream",
     "text": [
      "임신출산선물12종오가닉출산선물세트톡별\n",
      "기프트코드100000원권교환권\n",
      "듀오립세트D1베이비백립400g투움바파스타산펠레그리노1딜리버리전용\n",
      "품격담은대왕애플망고선물세트33KG6입\n",
      "5만원모바일상품권\n",
      "1등급한우선물세트금바구니1kg등심채끝특수부위국거리\n",
      "롯데백화점쓰리나인새차선물차량용방향제3종세트당일발송\n",
      "10만원권\n",
      "선물포장메종마르지엘라EDT30ml택1\n",
      "APP전용e카드5만원교환권\n",
      "신세계상품권모바일교환권100000원\n",
      "5만원권\n",
      "신선한전복1kg선물세트810미가방포함\n",
      "모바일금액권5만원권\n",
      "축하해우대구축산농협1등급한우실속구이선물세트등심채끝각300g\n",
      "선물포장메종마르지엘라레이지선데이모닝EDT30ml\n",
      "모바일금액권5만원권\n",
      "조카선물출산선물백일선물피셔프라이스디럭스피아노아기체육관블루핑크FWT19GFN88\n",
      "NEW센트선물포장디퓨저165ML\n",
      "신세계상품권모바일교환권50000원\n"
     ]
    }
   ],
   "source": [
    "db = pymysql.connect(host='localhost', port=3306, user='root', passwd='1234', db='mywork', charset='utf8')\n",
    "\n",
    "cursor = db.cursor()\n",
    "\n",
    "for i, (give_present,give_brand) in enumerate(zip(give_presents5, give_brands5)):\n",
    "    k = str(give_present)\n",
    "    t = str(give_brand)\n",
    "    print(k)\n",
    "    sql = \"\"\"\n",
    "    insert into give_present values (\"{0}\", \"5만원이상\", {1}, \"{2}\"\n",
    "    );\n",
    "    \"\"\".format(k, i+1, t)\n",
    "    cursor.execute(sql)\n",
    "    \n",
    "db.commit()\n",
    "db.close()"
   ]
  },
  {
   "cell_type": "markdown",
   "id": "4a011603",
   "metadata": {},
   "source": [
    "# 받고 싶어한 선물 테이블에 데이터 삽입"
   ]
  },
  {
   "cell_type": "code",
   "execution_count": 163,
   "id": "408e8839",
   "metadata": {},
   "outputs": [
    {
     "name": "stdout",
     "output_type": "stream",
     "text": [
      "쓸모없는선물타투쿨토시팔토시시원한생일선물쓸데없는신박한선물\n",
      "아이스카페라떼T\n",
      "인절미설빙\n",
      "아이스카페아메리카노T\n",
      "말랑아기고양이LED무드등취침모드\n",
      "이탈리아명품캔디포지타노과일캔디레몬오렌지200g택1임덧임산부수험생졸음사탕\n",
      "민트초콜릿칩블렌디드T\n",
      "빙그레바나나우유240ML\n",
      "집순이선물New춘식이피규어유리머그2종택1톡별\n",
      "방구석여행미니빔프로젝터무드세트건전지타입감성집들이홈파티포토존인테리어생일선물\n",
      "몬스터울트라에너지355ML\n",
      "시원하게함께아이스카페아메리카노T2잔\n",
      "버블윙스틱비누방울블링블링요술봉공주님들의비눗방울놀이\n",
      "싱글레귤러아이스크림\n",
      "채워지는귀여움라이언춘식이내열이중유리컵2종택1톡별\n",
      "헬리콥터프로펠러모자\n",
      "너에게간다행운행운의네잎클로버클로버1봉투1위로응원선물\n",
      "자바칩프라푸치노T\n",
      "만수르부럽지않아돈티슈집들이자취생일선물쓸데없는신박한선물\n",
      "아이스티샷추가아샷추\n"
     ]
    }
   ],
   "source": [
    "db = pymysql.connect(host='localhost', port=3306, user='root', passwd='1234', db='mywork', charset='utf8')\n",
    "\n",
    "cursor = db.cursor()\n",
    "\n",
    "for i, (want_present, want_brand) in enumerate(zip(want_presents1, want_brands1)):\n",
    "    k = str(want_present)\n",
    "    t = str(want_brand)\n",
    "    print(k)\n",
    "    sql = \"\"\"\n",
    "    insert into want_present values (\"{0}\", \"1만원미만\", {1}, \"{2}\"\n",
    "    );\n",
    "    \"\"\".format(k, i+1, t)\n",
    "    cursor.execute(sql)\n",
    "    \n",
    "db.commit()\n",
    "db.close()"
   ]
  },
  {
   "cell_type": "code",
   "execution_count": 164,
   "id": "cab4fb02",
   "metadata": {},
   "outputs": [
    {
     "name": "stdout",
     "output_type": "stream",
     "text": [
      "취향을찾는즐거움선물포장5종세트콜린스올인원인센스스틱MIX라이터홀더트레이\n",
      "후기가말해주는아이코닉레터링네컷앨범커플셀프사진첩인생선물포토북바인더접착식셀픽스\n",
      "짱구라인쿠션유리토끼\n",
      "부드러운디저트아이스카페아메리카노T2잔부드러운생크림카스텔라\n",
      "나이키파크3니트쇼트NB반바지BV6855010반바지쇼츠츄리닝운동헬스\n",
      "5초간후부세요모두의안전을위한음주측정기\n",
      "스마트워치충전거치대코인런드리\n",
      "포켓몬스터메타몽인형30cm퍼플\n",
      "이건눈물이아니야슬픈눈개구리세트안대세안밴드생일선물쓸데없는신박한선물\n",
      "뿌링클콤보콜라125L\n",
      "호랑이치킨포테이토치즈스틱콜라\n",
      "예약판매오둥이입니다만오둥이모찌바디필로우톡별\n",
      "황금올리브핫윙콜라125L\n",
      "안아주라구스New로라네애착구스바디필로우쿠션130cm2종택1톡별\n",
      "유유자적DUCK오리애착인형바디필로우60cm\n",
      "귀차니즘을위한누워서보는안경\n",
      "메세지서비스핸드크림60g4종중택1\n",
      "기프트박스코코도르디퓨저캔들3종선물세트디퓨저리필액프리미엄자캔들기프트박스\n",
      "행복당충전디디얌수제뚱카롱마카롱12구세트\n",
      "밤과음악사이로이체LED무드등블루투스스피커집순이용수유등BTS250KAKAO\n"
     ]
    }
   ],
   "source": [
    "db = pymysql.connect(host='localhost', port=3306, user='root', passwd='1234', db='mywork', charset='utf8')\n",
    "\n",
    "cursor = db.cursor()\n",
    "\n",
    "for i, (want_present, want_brand) in enumerate(zip(want_presents2, want_brands2)):\n",
    "    k = str(want_present)\n",
    "    t = str(want_brand)\n",
    "    print(k)\n",
    "    sql = \"\"\"\n",
    "    insert into want_present values (\"{0}\", \"1_2만원대\", {1}, \"{2}\"\n",
    "    );\n",
    "    \"\"\".format(k, i+1, t)\n",
    "    cursor.execute(sql)\n",
    "    \n",
    "db.commit()\n",
    "db.close()"
   ]
  },
  {
   "cell_type": "code",
   "execution_count": 165,
   "id": "f02b6b0f",
   "metadata": {},
   "outputs": [
    {
     "name": "stdout",
     "output_type": "stream",
     "text": [
      "조선호텔베스트셀러프리미엄뉴욕치즈케이크\n",
      "셀럽착용남여공용밀로홀리데이시그니처볼캡20컬러택1포장패키지\n",
      "코닥선물박스M35필름다회용토이카메라코닥컬러필름1롤Set모음전\n",
      "진로한잠어때진로소주병바디필로우100cm톡별\n",
      "선물포장핸드크림50ML\n",
      "트리플애플충전거치대라이언춘식이\n",
      "피타홈카페컵유리컵2인조선물세트유리컵2우드소서2스푼2엽서\n",
      "선물포장립맥시마이저\n",
      "선물포장바디로션300ML6종중택1\n",
      "e기프트카드3만원권교환권\n",
      "신선냉장모듬구이선물세트800g본갈비살살치살부채살척아이롤\n",
      "선물포장바디워시300ML6종중택1\n",
      "친구맺고3적립숙면선물록시땅릴랙싱필로우미스트패키지특별한선물톡별\n",
      "넉넉한벤티SS콩코드사이렌화이트텀블러591ml무료음료쿠폰\n",
      "고추바사삭시카고피자콜라125L\n",
      "디프로젝트디불차량용방향제디불방향제\n",
      "마음을담은소식2푸드장스테이크3종선물세트톡별\n",
      "선물제격콜드브루12종SET25ml24개보르딘FB\n",
      "컬쳐랜드PIN30000원권교환권\n",
      "민트초록선물SS미르사이렌민트텀블러591ml무료음료쿠폰\n"
     ]
    }
   ],
   "source": [
    "db = pymysql.connect(host='localhost', port=3306, user='root', passwd='1234', db='mywork', charset='utf8')\n",
    "\n",
    "cursor = db.cursor()\n",
    "\n",
    "for i, (want_present, want_brand) in enumerate(zip(want_presents3, want_brands3)):\n",
    "    k = str(want_present)\n",
    "    t = str(want_brand)\n",
    "    print(k)\n",
    "    sql = \"\"\"\n",
    "    insert into want_present values (\"{0}\", \"3_4만원대\", {1}, \"{2}\"\n",
    "    );\n",
    "    \"\"\".format(k, i+1, t)\n",
    "    cursor.execute(sql)\n",
    "    \n",
    "db.commit()\n",
    "db.close()"
   ]
  },
  {
   "cell_type": "code",
   "execution_count": 167,
   "id": "f49779f3",
   "metadata": {},
   "outputs": [
    {
     "name": "stdout",
     "output_type": "stream",
     "text": [
      "신세계상품권모바일교환권50000원\n",
      "기프트카드10만원권\n",
      "선물포장미스디올뷰티리추얼립글로우향수핸드크림\n",
      "신세계상품권모바일교환권100000원\n",
      "SNS인기아이템9가지불빛렉슨미나M사이즈\n",
      "단독선물포장센트페어링코롱듀오\n",
      "선물포장오드뚜왈렛50ml8종택1\n",
      "폴로랄프로렌코튼치노베이스볼캡13color\n",
      "한정인스탁스미니11디자인필름10매덴스스티커2종\n",
      "카카오페이상품권5만원권교환권\n",
      "선물세트바디워시바디로션세트6종중택1\n",
      "카카오페이상품권10만원권\n",
      "요기요상품권5만원권교환권\n",
      "디지털상품권5만원권\n",
      "KodakUltraF9필름다회용카메라코닥컬러필름1롤Set모음전\n",
      "인테리어부터캠핑까지리뷰선물레트로감성폭발인사이디블루투스LP턴테이블\n",
      "바디클렌저\n",
      "블랙앵거스명품구이선물세트11kg소갈비살300g2살치살200g부채살300g\n",
      "컬쳐랜드PIN50000원권교환권\n",
      "롯데모바일교환권50000원\n"
     ]
    }
   ],
   "source": [
    "db = pymysql.connect(host='localhost', port=3306, user='root', passwd='1234', db='mywork', charset='utf8')\n",
    "\n",
    "cursor = db.cursor()\n",
    "\n",
    "for i, (want_present, want_brand) in enumerate(zip(want_presents5, want_brands5)):\n",
    "    k = str(want_present)\n",
    "    t = str(want_brand)\n",
    "    print(k)\n",
    "    sql = \"\"\"\n",
    "    insert into want_present values (\"{0}\", \"5만원이상\", {1}, \"{2}\"\n",
    "    );\n",
    "    \"\"\".format(k, i+1, t)\n",
    "    cursor.execute(sql)\n",
    "    \n",
    "db.commit()\n",
    "db.close()"
   ]
  },
  {
   "cell_type": "markdown",
   "id": "1ae51395",
   "metadata": {},
   "source": [
    "# 많이 선물한 배송상품 top100 테이블에 데이터 삽입"
   ]
  },
  {
   "cell_type": "code",
   "execution_count": 168,
   "id": "071ca73a",
   "metadata": {},
   "outputs": [
    {
     "name": "stdout",
     "output_type": "stream",
     "text": [
      "푸드장프리미엄구이선물세트115kg부채살살치살토시살척아이롤 49900 푸드장\n",
      "\n",
      "    insert into delivery100 values ('1', '푸드장프리미엄구이선물세트115kg부채살살치살토시살척아이롤', '49900', '푸드장' \n",
      "    );\n",
      "    \n",
      "에너지선물정관장활기력20mlx10병 29000 정관장\n",
      "\n",
      "    insert into delivery100 values ('2', '에너지선물정관장활기력20mlx10병', '29000', '정관장' \n",
      "    );\n",
      "    \n",
      "감동혜택각인선물포장립글로우미스디올헤어듀오샘플증정 47000 디올\n",
      "\n",
      "    insert into delivery100 values ('3', '감동혜택각인선물포장립글로우미스디올헤어듀오샘플증정', '47000', '디올' \n",
      "    );\n",
      "    \n",
      "선물포장바디앤핸드워시100ML 35000 조말론런던\n",
      "\n",
      "    insert into delivery100 values ('4', '선물포장바디앤핸드워시100ML', '35000', '조말론런던' \n",
      "    );\n",
      "    \n",
      "갈비살300g부채살300g외9종 29900 푸드랩플러스\n",
      "\n",
      "    insert into delivery100 values ('5', '갈비살300g부채살300g외9종', '29900', '푸드랩플러스' \n",
      "    );\n",
      "    \n",
      "에너지선물정관장활기력에너지박스20ml20병특별한선물스탠드형 42350 정관장\n",
      "\n",
      "    insert into delivery100 values ('6', '에너지선물정관장활기력에너지박스20ml20병특별한선물스탠드형', '42350', '정관장' \n",
      "    );\n",
      "    \n",
      "센트룸멀티비타민6종택1맨우먼칼슘D에너지B 24000 센트룸\n",
      "\n",
      "    insert into delivery100 values ('7', '센트룸멀티비타민6종택1맨우먼칼슘D에너지B', '24000', '센트룸' \n",
      "    );\n",
      "    \n",
      "레저렉션아로마틱핸드밤 31000 이솝\n",
      "\n",
      "    insert into delivery100 values ('8', '레저렉션아로마틱핸드밤', '31000', '이솝' \n",
      "    );\n",
      "    \n",
      "레모나프렌즈카카오레모나산하트캔2gx70포선물용쇼핑백증정 16900 경남제약\n",
      "\n",
      "    insert into delivery100 values ('9', '레모나프렌즈카카오레모나산하트캔2gx70포선물용쇼핑백증정', '16900', '경남제약' \n",
      "    );\n",
      "    \n",
      "선물하기단독NEW달바보습명가미스트세럼핸드세럼기프트세트 25900 달바\n",
      "\n",
      "    insert into delivery100 values ('10', '선물하기단독NEW달바보습명가미스트세럼핸드세럼기프트세트', '25900', '달바' \n",
      "    );\n",
      "    \n",
      "면역력을1포하라정관장홍삼정에브리타임밸런스30일분 81000 정관장\n",
      "\n",
      "    insert into delivery100 values ('11', '면역력을1포하라정관장홍삼정에브리타임밸런스30일분', '81000', '정관장' \n",
      "    );\n",
      "    \n",
      "신규향추가선물포장핸드크림50ML6종중택1 21000 논픽션\n",
      "\n",
      "    insert into delivery100 values ('12', '신규향추가선물포장핸드크림50ML6종중택1', '21000', '논픽션' \n",
      "    );\n",
      "    \n",
      "농협안심한우고마워서어찌하누1등급일품구이채반1kg등심채끝안심 109000 농협안심한우\n",
      "\n",
      "    insert into delivery100 values ('13', '농협안심한우고마워서어찌하누1등급일품구이채반1kg등심채끝안심', '109000', '농협안심한우' \n",
      "    );\n",
      "    \n",
      "하겐다즈프리미엄수제아이스크림케이크리얼블랑바닐라초코 29900 하겐다즈(케이크)\n",
      "\n",
      "    insert into delivery100 values ('14', '하겐다즈프리미엄수제아이스크림케이크리얼블랑바닐라초코', '29900', '하겐다즈(케이크)' \n",
      "    );\n",
      "    \n",
      "선물포장엽서미니퍼퓸핸드크림5종택1 18000 탬버린즈\n",
      "\n",
      "    insert into delivery100 values ('15', '선물포장엽서미니퍼퓸핸드크림5종택1', '18000', '탬버린즈' \n",
      "    );\n",
      "    \n",
      "아프다고굶지마요본죽14종장조림set총7팩10팩 19900 본죽식품\n",
      "\n",
      "    insert into delivery100 values ('16', '아프다고굶지마요본죽14종장조림set총7팩10팩', '19900', '본죽식품' \n",
      "    );\n",
      "    \n",
      "무료각인선물포장입생로랑1위벨벳틴트세트리브르12ml향수톡별 49000 입생로랑\n",
      "\n",
      "    insert into delivery100 values ('17', '무료각인선물포장입생로랑1위벨벳틴트세트리브르12ml향수톡별', '49000', '입생로랑' \n",
      "    );\n",
      "    \n",
      "센트룸멀티비타민미네랄구미80구미 24000 센트룸\n",
      "\n",
      "    insert into delivery100 values ('18', '센트룸멀티비타민미네랄구미80구미', '24000', '센트룸' \n",
      "    );\n",
      "    \n",
      "여름에만나는달콤한향이가득한백도복숭아15kg과일선물56입 16500 수플린 \n",
      "\n",
      "    insert into delivery100 values ('19', '여름에만나는달콤한향이가득한백도복숭아15kg과일선물56입', '16500', '수플린 ' \n",
      "    );\n",
      "    \n",
      "친구맺고3적립여름선물록시땅샤워젤250ml12종중택1 29000 록시땅\n",
      "\n",
      "    insert into delivery100 values ('20', '친구맺고3적립여름선물록시땅샤워젤250ml12종중택1', '29000', '록시땅' \n",
      "    );\n",
      "    \n",
      "단독각인서비스헤라센슈얼쉬어스테인미니쿠션증정톡별 33300 헤라\n",
      "\n",
      "    insert into delivery100 values ('21', '단독각인서비스헤라센슈얼쉬어스테인미니쿠션증정톡별', '33300', '헤라' \n",
      "    );\n",
      "    \n",
      "추천선물하루한포건강배를품은도라지스틱30포x12g국산도라지배함유 18900 위블리즈\n",
      "\n",
      "    insert into delivery100 values ('22', '추천선물하루한포건강배를품은도라지스틱30포x12g국산도라지배함유', '18900', '위블리즈' \n",
      "    );\n",
      "    \n",
      "추천선물면역력증진정원삼6년근고려홍삼정365스틱30포3포증정 27800 정원삼\n",
      "\n",
      "    insert into delivery100 values ('23', '추천선물면역력증진정원삼6년근고려홍삼정365스틱30포3포증정', '27800', '정원삼' \n",
      "    );\n",
      "    \n",
      "선물포장핸드크림50ML 43000 조말론런던\n",
      "\n",
      "    insert into delivery100 values ('24', '선물포장핸드크림50ML', '43000', '조말론런던' \n",
      "    );\n",
      "    \n",
      "프랑스프리미엄마카롱12입선물세트 13900 파스키에\n",
      "\n",
      "    insert into delivery100 values ('25', '프랑스프리미엄마카롱12입선물세트', '13900', '파스키에' \n",
      "    );\n",
      "    \n",
      "짱구라인쿠션유리토끼 22500 누리토이즈\n",
      "\n",
      "    insert into delivery100 values ('26', '짱구라인쿠션유리토끼', '22500', '누리토이즈' \n",
      "    );\n",
      "    \n",
      "취향을찾는즐거움선물포장5종세트콜린스올인원인센스스틱MIX라이터홀더트레이 20000 콜린스\n",
      "\n",
      "    insert into delivery100 values ('27', '취향을찾는즐거움선물포장5종세트콜린스올인원인센스스틱MIX라이터홀더트레이', '20000', '콜린스' \n",
      "    );\n",
      "    \n",
      "선물포장핸드워시300ML6종중택1 32000 논픽션\n",
      "\n",
      "    insert into delivery100 values ('28', '선물포장핸드워시300ML6종중택1', '32000', '논픽션' \n",
      "    );\n",
      "    \n",
      "감동혜택각인섀도우증정품절벨벳틴트헤라센슈얼파우더매트리퀴드 31500 헤라\n",
      "\n",
      "    insert into delivery100 values ('29', '감동혜택각인섀도우증정품절벨벳틴트헤라센슈얼파우더매트리퀴드', '31500', '헤라' \n",
      "    );\n",
      "    \n",
      "잘자요꿀린이꿀잠타는기린이모찌바디필로우톡별 29900 캐릭터침구\n",
      "\n",
      "    insert into delivery100 values ('30', '잘자요꿀린이꿀잠타는기린이모찌바디필로우톡별', '29900', '캐릭터침구' \n",
      "    );\n",
      "    \n",
      "여름에시원하고더맛있는오설록녹차치즈케이크 29800 오설록 디저트\n",
      "\n",
      "    insert into delivery100 values ('31', '여름에시원하고더맛있는오설록녹차치즈케이크', '29800', '오설록 디저트' \n",
      "    );\n",
      "    \n",
      "마음의선물힘내라홍삼정ForYou10mlx30포리뉴얼ver 15900 인삼/홍삼\n",
      "\n",
      "    insert into delivery100 values ('32', '마음의선물힘내라홍삼정ForYou10mlx30포리뉴얼ver', '15900', '인삼/홍삼' \n",
      "    );\n",
      "    \n",
      "유목에키워더맛있는괴산부드러운복숭아27kg이상811입 24800 온브릭스\n",
      "\n",
      "    insert into delivery100 values ('33', '유목에키워더맛있는괴산부드러운복숭아27kg이상811입', '24800', '온브릭스' \n",
      "    );\n",
      "    \n",
      "단독선물포장센트페어링코롱듀오 58000 조말론런던\n",
      "\n",
      "    insert into delivery100 values ('34', '단독선물포장센트페어링코롱듀오', '58000', '조말론런던' \n",
      "    );\n",
      "    \n",
      "농협안심한우소한마리한우선물세트1등급14kg 119000 농협안심한우\n",
      "\n",
      "    insert into delivery100 values ('35', '농협안심한우소한마리한우선물세트1등급14kg', '119000', '농협안심한우' \n",
      "    );\n",
      "    \n",
      "무료각인선물포장리브르헤어미스트30ml 65000 입생로랑\n",
      "\n",
      "    insert into delivery100 values ('36', '무료각인선물포장리브르헤어미스트30ml', '65000', '입생로랑' \n",
      "    );\n",
      "    \n",
      "친구맺고3적립여름베스트록시땅핸드바디샤워3종세트4종택1 26000 록시땅\n",
      "\n",
      "    insert into delivery100 values ('37', '친구맺고3적립여름베스트록시땅핸드바디샤워3종세트4종택1', '26000', '록시땅' \n",
      "    );\n",
      "    \n",
      "레저렉션아로마틱핸드워시 47000 이솝\n",
      "\n",
      "    insert into delivery100 values ('38', '레저렉션아로마틱핸드워시', '47000', '이솝' \n",
      "    );\n",
      "    \n",
      "명품비타민오쏘몰이뮨멀티비타민미네랄30일분 129000 동아제약\n",
      "\n",
      "    insert into delivery100 values ('39', '명품비타민오쏘몰이뮨멀티비타민미네랄30일분', '129000', '동아제약' \n",
      "    );\n",
      "    \n",
      "프리미엄샤인머스캣애플망고선물세트18kg4입 48500 원월드\n",
      "\n",
      "    insert into delivery100 values ('40', '프리미엄샤인머스캣애플망고선물세트18kg4입', '48500', '원월드' \n",
      "    );\n",
      "    \n",
      "프리미엄고당도머스크메론2수과일선물세트총4kg1수2kg 26900 수플린 \n",
      "\n",
      "    insert into delivery100 values ('41', '프리미엄고당도머스크메론2수과일선물세트총4kg1수2kg', '26900', '수플린 ' \n",
      "    );\n",
      "    \n",
      "맛있는인기건강선물니몸내몸영양젤리3종선물세트비타민C비타민D루테인선물포장 29900 니몸내몸\n",
      "\n",
      "    insert into delivery100 values ('42', '맛있는인기건강선물니몸내몸영양젤리3종선물세트비타민C비타민D루테인선물포장', '29900', '니몸내몸' \n",
      "    );\n",
      "    \n",
      "센스있는선물추천곰돌이브릭베어차량용방향제선물패키지2가지향증정 22000 말라코\n",
      "\n",
      "    insert into delivery100 values ('43', '센스있는선물추천곰돌이브릭베어차량용방향제선물패키지2가지향증정', '22000', '말라코' \n",
      "    );\n",
      "    \n",
      "선물포장무료각인맥립스틱3G 33000 맥(MAC)\n",
      "\n",
      "    insert into delivery100 values ('44', '선물포장무료각인맥립스틱3G', '33000', '맥(MAC)' \n",
      "    );\n",
      "    \n",
      "탐라왕제주그대로하우스귤선물세트3kg로얄과12brix이상 29900 탐라왕\n",
      "\n",
      "    insert into delivery100 values ('45', '탐라왕제주그대로하우스귤선물세트3kg로얄과12brix이상', '29900', '탐라왕' \n",
      "    );\n",
      "    \n",
      "행운선물비타500데일리스틱30포10포추가선물엽서쇼핑백스타벅스추첨증정 9900 광동생활건강\n",
      "\n",
      "    insert into delivery100 values ('46', '행운선물비타500데일리스틱30포10포추가선물엽서쇼핑백스타벅스추첨증정', '9900', '광동생활건강' \n",
      "    );\n",
      "    \n",
      "카카오단독파우치증정바디오일우드괄사세트4종중택1 35000 아로마티카\n",
      "\n",
      "    insert into delivery100 values ('47', '카카오단독파우치증정바디오일우드괄사세트4종중택1', '35000', '아로마티카' \n",
      "    );\n",
      "    \n",
      "각인선물포장NEW디올어딕트립스틱 51000 디올\n",
      "\n",
      "    insert into delivery100 values ('48', '각인선물포장NEW디올어딕트립스틱', '51000', '디올' \n",
      "    );\n",
      "    \n",
      "MLB루키언스트럭쳐볼캡21종택1 36000 MLB\n",
      "\n",
      "    insert into delivery100 values ('49', 'MLB루키언스트럭쳐볼캡21종택1', '36000', 'MLB' \n",
      "    );\n",
      "    \n",
      "선물포장무료각인맥베스트텐더토크립밤3G 34000 맥(MAC)\n",
      "\n",
      "    insert into delivery100 values ('50', '선물포장무료각인맥베스트텐더토크립밤3G', '34000', '맥(MAC)' \n",
      "    );\n",
      "    \n",
      "향기로운선물옵타움페이퍼인센스세트트레이성냥집게톡별 20000 옵타움\n",
      "\n",
      "    insert into delivery100 values ('51', '향기로운선물옵타움페이퍼인센스세트트레이성냥집게톡별', '20000', '옵타움' \n",
      "    );\n",
      "    \n",
      "선물포장엽서멀티밤 29400 가히\n",
      "\n",
      "    insert into delivery100 values ('52', '선물포장엽서멀티밤', '29400', '가히' \n",
      "    );\n",
      "    \n",
      "프리미엄샤인머스캣과일선물세트13KG이상2송이특품 43900 수플린 \n",
      "\n",
      "    insert into delivery100 values ('53', '프리미엄샤인머스캣과일선물세트13KG이상2송이특품', '43900', '수플린 ' \n",
      "    );\n",
      "    \n",
      "활력이필요한당신에게GNC멀티비타민밀크씨슬선물세트 29900 GNC\n",
      "\n",
      "    insert into delivery100 values ('54', '활력이필요한당신에게GNC멀티비타민밀크씨슬선물세트', '29900', 'GNC' \n",
      "    );\n",
      "    \n",
      "경복궁한우사골실속세트한우사골고기곰탕2팩한우사골곰탕 25000 경복궁\n",
      "\n",
      "    insert into delivery100 values ('55', '경복궁한우사골실속세트한우사골고기곰탕2팩한우사골곰탕', '25000', '경복궁' \n",
      "    );\n",
      "    \n",
      "고디바다크초콜릿케이크 39000 고디바\n",
      "\n",
      "    insert into delivery100 values ('56', '고디바다크초콜릿케이크', '39000', '고디바' \n",
      "    );\n",
      "    \n",
      "교보문고시그니처향TheScentofPAGE룸스프레이60ml 19000 북아이템\n",
      "\n",
      "    insert into delivery100 values ('57', '교보문고시그니처향TheScentofPAGE룸스프레이60ml', '19000', '북아이템' \n",
      "    );\n",
      "    \n",
      "선물제격보르딘콜드브루12종SET25ml12개 21900 커피/차음료\n",
      "\n",
      "    insert into delivery100 values ('58', '선물제격보르딘콜드브루12종SET25ml12개', '21900', '커피/차음료' \n",
      "    );\n",
      "    \n",
      "친구맺고3적립숙면선물록시땅릴랙싱필로우미스트패키지특별한선물톡별 36000 록시땅\n",
      "\n",
      "    insert into delivery100 values ('59', '친구맺고3적립숙면선물록시땅릴랙싱필로우미스트패키지특별한선물톡별', '36000', '록시땅' \n",
      "    );\n",
      "    \n",
      "행복당충전디디얌수제뚱카롱마카롱12구세트 23900 디디얌\n",
      "\n",
      "    insert into delivery100 values ('60', '행복당충전디디얌수제뚱카롱마카롱12구세트', '23900', '디디얌' \n",
      "    );\n",
      "    \n",
      "마음을담은소식2푸드장스테이크3종선물세트톡별 39900 푸드장\n",
      "\n",
      "    insert into delivery100 values ('61', '마음을담은소식2푸드장스테이크3종선물세트톡별', '39900', '푸드장' \n",
      "    );\n",
      "    \n",
      "지금은힘낼시간GNM조정석간건강밀크씨슬실리마린선물세트총4개월분 21900 GNM자연의품격\n",
      "\n",
      "    insert into delivery100 values ('62', '지금은힘낼시간GNM조정석간건강밀크씨슬실리마린선물세트총4개월분', '21900', 'GNM자연의품격' \n",
      "    );\n",
      "    \n",
      "노티드봉봉초콜릿1팩9개입 19900 노티드\n",
      "\n",
      "    insert into delivery100 values ('63', '노티드봉봉초콜릿1팩9개입', '19900', '노티드' \n",
      "    );\n",
      "    \n",
      "선물하기단독달바비건화이트트러플미스트세럼세트100ml50ml 30900 달바\n",
      "\n",
      "    insert into delivery100 values ('64', '선물하기단독달바비건화이트트러플미스트세럼세트100ml50ml', '30900', '달바' \n",
      "    );\n",
      "    \n",
      "먹방꿈나무New춘식이손잡이앞접시2P세트톡별 14800 프렌즈리빙LC\n",
      "\n",
      "    insert into delivery100 values ('65', '먹방꿈나무New춘식이손잡이앞접시2P세트톡별', '14800', '프렌즈리빙LC' \n",
      "    );\n",
      "    \n",
      "기분에따라골라쓰는솔리드퍼퓸8종택1생일선물 22000 러쉬퍼퓸\n",
      "\n",
      "    insert into delivery100 values ('66', '기분에따라골라쓰는솔리드퍼퓸8종택1생일선물', '22000', '러쉬퍼퓸' \n",
      "    );\n",
      "    \n",
      "취향저격선물포장버버리허디스커버리세트5ML3 39000 버버리(뷰티)\n",
      "\n",
      "    insert into delivery100 values ('67', '취향저격선물포장버버리허디스커버리세트5ML3', '39000', '버버리(뷰티)' \n",
      "    );\n",
      "    \n",
      "24시피부케어선물포장멀티밤아이밤 39800 가히\n",
      "\n",
      "    insert into delivery100 values ('68', '24시피부케어선물포장멀티밤아이밤', '39800', '가히' \n",
      "    );\n",
      "    \n",
      "촉촉함이가득수제티라미수케이크 22900 케이크(배송)\n",
      "\n",
      "    insert into delivery100 values ('69', '촉촉함이가득수제티라미수케이크', '22900', '케이크(배송)' \n",
      "    );\n",
      "    \n",
      "블랙앵거스명품구이선물세트11kg소갈비살300g2살치살200g부채살300g 59800 푸드장\n",
      "\n",
      "    insert into delivery100 values ('70', '블랙앵거스명품구이선물세트11kg소갈비살300g2살치살200g부채살300g', '59800', '푸드장' \n",
      "    );\n",
      "    \n",
      "고려은단비타민C1000이지비타민D180정 18000 고려은단\n",
      "\n",
      "    insert into delivery100 values ('71', '고려은단비타민C1000이지비타민D180정', '18000', '고려은단' \n",
      "    );\n",
      "    \n",
      "SNS인기아이템2가지불빛미니조명렉슨미나S사이즈 37600 렉슨\n",
      "\n",
      "    insert into delivery100 values ('72', 'SNS인기아이템2가지불빛미니조명렉슨미나S사이즈', '37600', '렉슨' \n",
      "    );\n",
      "    \n",
      "샘플2종쿨한피부를위해마스크오브매그너민티팩125g생일선물 22000 러쉬\n",
      "\n",
      "    insert into delivery100 values ('73', '샘플2종쿨한피부를위해마스크오브매그너민티팩125g생일선물', '22000', '러쉬' \n",
      "    );\n",
      "    \n",
      "22년호랑이띠맞춤3종선물세트호랑이인형옷모자선물포장 31800 이키\n",
      "\n",
      "    insert into delivery100 values ('74', '22년호랑이띠맞춤3종선물세트호랑이인형옷모자선물포장', '31800', '이키' \n",
      "    );\n",
      "    \n",
      "선물포장단독모로칸오일트리트먼트50ml증정2종 37000 모로칸오일\n",
      "\n",
      "    insert into delivery100 values ('75', '선물포장단독모로칸오일트리트먼트50ml증정2종', '37000', '모로칸오일' \n",
      "    );\n",
      "    \n",
      "당신의건강을밝혀드릴게요비타민C50포톡별 13900 건강식품\n",
      "\n",
      "    insert into delivery100 values ('76', '당신의건강을밝혀드릴게요비타민C50포톡별', '13900', '건강식품' \n",
      "    );\n",
      "    \n",
      "선물포장장미수토너아쿠아디로즈250ml선물세트 38000 산타마리아노벨라\n",
      "\n",
      "    insert into delivery100 values ('77', '선물포장장미수토너아쿠아디로즈250ml선물세트', '38000', '산타마리아노벨라' \n",
      "    );\n",
      "    \n",
      "NEW소주메이트수고한당신을위한혼술로이체자동소주디스펜서소주잔톡별 25900 로이체\n",
      "\n",
      "    insert into delivery100 values ('78', 'NEW소주메이트수고한당신을위한혼술로이체자동소주디스펜서소주잔톡별', '25900', '로이체' \n",
      "    );\n",
      "    \n",
      "선물포장바디크림50ML 43000 조말론런던\n",
      "\n",
      "    insert into delivery100 values ('79', '선물포장바디크림50ML', '43000', '조말론런던' \n",
      "    );\n",
      "    \n",
      "탐라왕갓따온제주하우스감귤15kg로얄과12brix이상 14900 탐라왕\n",
      "\n",
      "    insert into delivery100 values ('80', '탐라왕갓따온제주하우스감귤15kg로얄과12brix이상', '14900', '탐라왕' \n",
      "    );\n",
      "    \n",
      "행복당충전디디얌인기최고뚱카롱마카롱6구세트 15200 디디얌\n",
      "\n",
      "    insert into delivery100 values ('81', '행복당충전디디얌인기최고뚱카롱마카롱6구세트', '15200', '디디얌' \n",
      "    );\n",
      "    \n",
      "쫀득한식감달콤한향이가득한황도복숭아15kg과일선물56입 17900 수플린 \n",
      "\n",
      "    insert into delivery100 values ('82', '쫀득한식감달콤한향이가득한황도복숭아15kg과일선물56입', '17900', '수플린 ' \n",
      "    );\n",
      "    \n",
      "장수와부의상징스페로스페라크레페케이크톡별 29900 케이크(배송)\n",
      "\n",
      "    insert into delivery100 values ('83', '장수와부의상징스페로스페라크레페케이크톡별', '29900', '케이크(배송)' \n",
      "    );\n",
      "    \n",
      "코코도르프리즘워머프리미엄자캔들향초세트미세빛조절가능 25900 코코도르\n",
      "\n",
      "    insert into delivery100 values ('84', '코코도르프리즘워머프리미엄자캔들향초세트미세빛조절가능', '25900', '코코도르' \n",
      "    );\n",
      "    \n",
      "달콤한향이가득한백도복숭아과일선물3kg812입 29800 수플린 \n",
      "\n",
      "    insert into delivery100 values ('85', '달콤한향이가득한백도복숭아과일선물3kg812입', '29800', '수플린 ' \n",
      "    );\n",
      "    \n",
      "친구맺고3적립홈핸드바디워시300ml4종택1 28000 록시땅\n",
      "\n",
      "    insert into delivery100 values ('86', '친구맺고3적립홈핸드바디워시300ml4종택1', '28000', '록시땅' \n",
      "    );\n",
      "    \n",
      "조선호텔베스트셀러프리미엄뉴욕치즈케이크 39900 조선호텔델리\n",
      "\n",
      "    insert into delivery100 values ('87', '조선호텔베스트셀러프리미엄뉴욕치즈케이크', '39900', '조선호텔델리' \n",
      "    );\n",
      "    \n",
      "마이버디유리컵2p세트네컷앨범사은품증정 14900 데일리라이크 (키친)\n",
      "\n",
      "    insert into delivery100 values ('88', '마이버디유리컵2p세트네컷앨범사은품증정', '14900', '데일리라이크 (키친)' \n",
      "    );\n",
      "    \n",
      "추천선물면역력과피로개선6년근홍삼정에버타임스탠다드홍삼스틱30포원통 18900 려원담\n",
      "\n",
      "    insert into delivery100 values ('89', '추천선물면역력과피로개선6년근홍삼정에버타임스탠다드홍삼스틱30포원통', '18900', '려원담' \n",
      "    );\n",
      "    \n",
      "누적판매77만개최고인기선물밀크앤허니호두파이 15300 신세계푸드\n",
      "\n",
      "    insert into delivery100 values ('90', '누적판매77만개최고인기선물밀크앤허니호두파이', '15300', '신세계푸드' \n",
      "    );\n",
      "    \n",
      "출산선물네이처메이드기저귀밴드팬티13단계 42900 하기스\n",
      "\n",
      "    insert into delivery100 values ('91', '출산선물네이처메이드기저귀밴드팬티13단계', '42900', '하기스' \n",
      "    );\n",
      "    \n",
      "기분좋은힐링홍대맛집코만스티라미수케이크4종선물세트톡별 24900 케이크(배송)\n",
      "\n",
      "    insert into delivery100 values ('92', '기분좋은힐링홍대맛집코만스티라미수케이크4종선물세트톡별', '24900', '케이크(배송)' \n",
      "    );\n",
      "    \n",
      "추천선물하루한포건강습관도라지배즙1박스배도라지즙국산도라지배함유 9900 순수식품\n",
      "\n",
      "    insert into delivery100 values ('93', '추천선물하루한포건강습관도라지배즙1박스배도라지즙국산도라지배함유', '9900', '순수식품' \n",
      "    );\n",
      "    \n",
      "하귀농협22년첫출하달콤한제주하우스감귤25kg로얄과12Brix이상 19800 제주-감귤\n",
      "\n",
      "    insert into delivery100 values ('94', '하귀농협22년첫출하달콤한제주하우스감귤25kg로얄과12Brix이상', '19800', '제주-감귤' \n",
      "    );\n",
      "    \n",
      "집순이선물New춘식이피규어유리머그2종택1톡별 9900 프렌즈리빙LC\n",
      "\n",
      "    insert into delivery100 values ('95', '집순이선물New춘식이피규어유리머그2종택1톡별', '9900', '프렌즈리빙LC' \n",
      "    );\n",
      "    \n",
      "기분좋은하루해삐상큼한딸기가그대로쏙잔망루피딸기크림떡 16400 청년떡집\n",
      "\n",
      "    insert into delivery100 values ('96', '기분좋은하루해삐상큼한딸기가그대로쏙잔망루피딸기크림떡', '16400', '청년떡집' \n",
      "    );\n",
      "    \n",
      "건강배달왔도라지GNM국산배도라지청스틱선물세트쇼핑백증정도라지배즙도라지청 19900 GNM자연의품격\n",
      "\n",
      "    insert into delivery100 values ('97', '건강배달왔도라지GNM국산배도라지청스틱선물세트쇼핑백증정도라지배즙도라지청', '19900', 'GNM자연의품격' \n",
      "    );\n",
      "    \n",
      "오트밀크로만든카카올라생초콜릿5종유기농우유로만든꼬르지엘모생초콜릿4종 16900 초콜릿\n",
      "\n",
      "    insert into delivery100 values ('98', '오트밀크로만든카카올라생초콜릿5종유기농우유로만든꼬르지엘모생초콜릿4종', '16900', '초콜릿' \n",
      "    );\n",
      "    \n",
      "신선냉장모듬구이선물세트800g본갈비살살치살부채살척아이롤 42900 푸드장\n",
      "\n",
      "    insert into delivery100 values ('99', '신선냉장모듬구이선물세트800g본갈비살살치살부채살척아이롤', '42900', '푸드장' \n",
      "    );\n",
      "    \n",
      "춘식이미니페이스쿠션 15000 프렌즈인형/피규어\n",
      "\n",
      "    insert into delivery100 values ('100', '춘식이미니페이스쿠션', '15000', '프렌즈인형/피규어' \n",
      "    );\n",
      "    \n"
     ]
    }
   ],
   "source": [
    "db = pymysql.connect(host='localhost', port=3306, user='root', passwd='1234', db='mywork', charset='utf8')\n",
    "\n",
    "cursor = db.cursor()\n",
    "\n",
    "for i, (x,y,z) in enumerate(zip(give_delivery100_name, give_delivery100_price, give_delivery100_brand)):\n",
    "    xx = str(x)\n",
    "    y1 = y.replace('원', '')\n",
    "    y2 = y1.replace(',', '')\n",
    "    yy = int(y2)\n",
    "    zz = str(z)\n",
    "    print(xx, yy, zz)\n",
    "    sql = r\"\"\"\n",
    "    insert into delivery100 values ('{0}', '{1}', '{2}', '{3}' \n",
    "    );\n",
    "    \"\"\".format(i+1, xx, yy, zz)\n",
    "    print(sql)\n",
    "    cursor.execute(sql)\n",
    "    \n",
    "db.commit()\n",
    "db.close()"
   ]
  },
  {
   "cell_type": "markdown",
   "id": "b86d5882",
   "metadata": {},
   "source": [
    "# 많이 선물한 교환권 카테고리별 top20 테이블에 데이터 삽입 "
   ]
  },
  {
   "cell_type": "code",
   "execution_count": 169,
   "id": "fdba081f",
   "metadata": {},
   "outputs": [
    {
     "name": "stdout",
     "output_type": "stream",
     "text": [
      "파인트아이스크림 8900 배스킨라빈스\n",
      "\n",
      "    insert into coupon values ('1', '파인트아이스크림', '8900', '배스킨라빈스' \n",
      "    );\n",
      "    \n",
      "쿼터아이스크림배달가능 17000 배스킨라빈스\n",
      "\n",
      "    insert into coupon values ('2', '쿼터아이스크림배달가능', '17000', '배스킨라빈스' \n",
      "    );\n",
      "    \n",
      "골라먹는와츄원배달가능 26000 배스킨라빈스\n",
      "\n",
      "    insert into coupon values ('3', '골라먹는와츄원배달가능', '26000', '배스킨라빈스' \n",
      "    );\n",
      "    \n",
      "버라이어티팩배달가능 20000 배스킨라빈스\n",
      "\n",
      "    insert into coupon values ('4', '버라이어티팩배달가능', '20000', '배스킨라빈스' \n",
      "    );\n",
      "    \n",
      "나눠먹는와츄원배달가능 32000 배스킨라빈스\n",
      "\n",
      "    insert into coupon values ('5', '나눠먹는와츄원배달가능', '32000', '배스킨라빈스' \n",
      "    );\n",
      "    \n",
      "듀얼와츄원NO9배달가능 30000 배스킨라빈스\n",
      "\n",
      "    insert into coupon values ('6', '듀얼와츄원NO9배달가능', '30000', '배스킨라빈스' \n",
      "    );\n",
      "    \n",
      "모바일금액권3만원권 30000 배스킨라빈스\n",
      "\n",
      "    insert into coupon values ('7', '모바일금액권3만원권', '30000', '배스킨라빈스' \n",
      "    );\n",
      "    \n",
      "패밀리아이스크림배달가능 24000 배스킨라빈스\n",
      "\n",
      "    insert into coupon values ('8', '패밀리아이스크림배달가능', '24000', '배스킨라빈스' \n",
      "    );\n",
      "    \n",
      "싱글레귤러아이스크림 3500 배스킨라빈스\n",
      "\n",
      "    insert into coupon values ('9', '싱글레귤러아이스크림', '3500', '배스킨라빈스' \n",
      "    );\n",
      "    \n",
      "NEW해피버스데이배달가능 27000 배스킨라빈스\n",
      "\n",
      "    insert into coupon values ('10', 'NEW해피버스데이배달가능', '27000', '배스킨라빈스' \n",
      "    );\n",
      "    \n",
      "리얼27큐브배달가능 28000 배스킨라빈스\n",
      "\n",
      "    insert into coupon values ('11', '리얼27큐브배달가능', '28000', '배스킨라빈스' \n",
      "    );\n",
      "    \n",
      "아빠왔다팩배달가능 13500 배스킨라빈스\n",
      "\n",
      "    insert into coupon values ('12', '아빠왔다팩배달가능', '13500', '배스킨라빈스' \n",
      "    );\n",
      "    \n",
      "해피데이카카오프렌즈배달가능 29000 배스킨라빈스\n",
      "\n",
      "    insert into coupon values ('13', '해피데이카카오프렌즈배달가능', '29000', '배스킨라빈스' \n",
      "    );\n",
      "    \n",
      "바로먹는와츄원배달가능 31000 배스킨라빈스\n",
      "\n",
      "    insert into coupon values ('14', '바로먹는와츄원배달가능', '31000', '배스킨라빈스' \n",
      "    );\n",
      "    \n",
      "모바일금액권5만원권 50000 배스킨라빈스\n",
      "\n",
      "    insert into coupon values ('15', '모바일금액권5만원권', '50000', '배스킨라빈스' \n",
      "    );\n",
      "    \n",
      "하프갤론아이스크림배달가능 29000 배스킨라빈스\n",
      "\n",
      "    insert into coupon values ('16', '하프갤론아이스크림배달가능', '29000', '배스킨라빈스' \n",
      "    );\n",
      "    \n",
      "피카피카피카츄케이크배달가능 25000 배스킨라빈스\n",
      "\n",
      "    insert into coupon values ('17', '피카피카피카츄케이크배달가능', '25000', '배스킨라빈스' \n",
      "    );\n",
      "    \n",
      "싱글킹아이스크림 4300 배스킨라빈스\n",
      "\n",
      "    insert into coupon values ('18', '싱글킹아이스크림', '4300', '배스킨라빈스' \n",
      "    );\n",
      "    \n",
      "옹기종기팩배달가능 26500 배스킨라빈스\n",
      "\n",
      "    insert into coupon values ('19', '옹기종기팩배달가능', '26500', '배스킨라빈스' \n",
      "    );\n",
      "    \n",
      "골라먹는스노우볼배달가능 28000 배스킨라빈스\n",
      "\n",
      "    insert into coupon values ('20', '골라먹는스노우볼배달가능', '28000', '배스킨라빈스' \n",
      "    );\n",
      "    \n",
      "부드러운디저트아이스카페아메리카노T2잔부드러운생크림카스텔라 13500 스타벅스\n",
      "\n",
      "    insert into coupon values ('1', '부드러운디저트아이스카페아메리카노T2잔부드러운생크림카스텔라', '13500', '스타벅스' \n",
      "    );\n",
      "    \n",
      "아이스카페아메리카노T 4500 스타벅스\n",
      "\n",
      "    insert into coupon values ('2', '아이스카페아메리카노T', '4500', '스타벅스' \n",
      "    );\n",
      "    \n",
      "오늘도달콤하게아이스카페아메리카노T7레이어가나슈케이크 10200 스타벅스\n",
      "\n",
      "    insert into coupon values ('3', '오늘도달콤하게아이스카페아메리카노T7레이어가나슈케이크', '10200', '스타벅스' \n",
      "    );\n",
      "    \n",
      "APP전용e카드3만원교환권 30000 스타벅스\n",
      "\n",
      "    insert into coupon values ('4', 'APP전용e카드3만원교환권', '30000', '스타벅스' \n",
      "    );\n",
      "    \n",
      "APP전용e카드3만원교환권 30000 스타벅스 상품권\n",
      "\n",
      "    insert into coupon values ('5', 'APP전용e카드3만원교환권', '30000', '스타벅스 상품권' \n",
      "    );\n",
      "    \n",
      "APP전용e카드5만원교환권 50000 스타벅스\n",
      "\n",
      "    insert into coupon values ('6', 'APP전용e카드5만원교환권', '50000', '스타벅스' \n",
      "    );\n",
      "    \n",
      "시원하게함께아이스카페아메리카노T2잔 9000 스타벅스\n",
      "\n",
      "    insert into coupon values ('7', '시원하게함께아이스카페아메리카노T2잔', '9000', '스타벅스' \n",
      "    );\n",
      "    \n",
      "서머바캉스세트아이스카페아메리카노T2잔상큼한샤인머스캣스윗박스 16900 스타벅스\n",
      "\n",
      "    insert into coupon values ('8', '서머바캉스세트아이스카페아메리카노T2잔상큼한샤인머스캣스윗박스', '16900', '스타벅스' \n",
      "    );\n",
      "    \n",
      "스트로베리초콜릿생크림 35000 투썸플레이스\n",
      "\n",
      "    insert into coupon values ('9', '스트로베리초콜릿생크림', '35000', '투썸플레이스' \n",
      "    );\n",
      "    \n",
      "생일축하합니다아이스카페아메리카노T2잔블루베리쿠키치즈케이크 15900 스타벅스\n",
      "\n",
      "    insert into coupon values ('10', '생일축하합니다아이스카페아메리카노T2잔블루베리쿠키치즈케이크', '15900', '스타벅스' \n",
      "    );\n",
      "    \n",
      "힘이나는세트아이스카페아메리카노T2잔슈크림가득바움쿠헨The촉촉초콜릿생크림케이크 21800 스타벅스\n",
      "\n",
      "    insert into coupon values ('11', '힘이나는세트아이스카페아메리카노T2잔슈크림가득바움쿠헨The촉촉초콜릿생크림케이크', '21800', '스타벅스' \n",
      "    );\n",
      "    \n",
      "기분좋은시작떠먹는스트로베리초콜릿생크림아메리카노R2잔 15700 투썸플레이스\n",
      "\n",
      "    insert into coupon values ('12', '기분좋은시작떠먹는스트로베리초콜릿생크림아메리카노R2잔', '15700', '투썸플레이스' \n",
      "    );\n",
      "    \n",
      "행복한기운아이스카페라떼T2잔슈크림가득바움쿠헨 16900 스타벅스\n",
      "\n",
      "    insert into coupon values ('13', '행복한기운아이스카페라떼T2잔슈크림가득바움쿠헨', '16900', '스타벅스' \n",
      "    );\n",
      "    \n",
      "애플망고치즈설빙 12900 설빙\n",
      "\n",
      "    insert into coupon values ('14', '애플망고치즈설빙', '12900', '설빙' \n",
      "    );\n",
      "    \n",
      "아이스카페라떼T 5000 스타벅스\n",
      "\n",
      "    insert into coupon values ('15', '아이스카페라떼T', '5000', '스타벅스' \n",
      "    );\n",
      "    \n",
      "눈부신여름휴가제주청귤라임에이드T2잔블루베리쏙수플레치즈케이크 19500 스타벅스\n",
      "\n",
      "    insert into coupon values ('16', '눈부신여름휴가제주청귤라임에이드T2잔블루베리쏙수플레치즈케이크', '19500', '스타벅스' \n",
      "    );\n",
      "    \n",
      "기분좋은하루아이스카페아메리카노T2잔클라우드치즈케이크 14500 스타벅스\n",
      "\n",
      "    insert into coupon values ('17', '기분좋은하루아이스카페아메리카노T2잔클라우드치즈케이크', '14500', '스타벅스' \n",
      "    );\n",
      "    \n",
      "축하합니다아이스카페아메리카노T2잔7레이어가나슈케이크클라우드치즈케이크 20200 스타벅스\n",
      "\n",
      "    insert into coupon values ('18', '축하합니다아이스카페아메리카노T2잔7레이어가나슈케이크클라우드치즈케이크', '20200', '스타벅스' \n",
      "    );\n",
      "    \n",
      "아이스자몽허니블랙티T 5700 스타벅스\n",
      "\n",
      "    insert into coupon values ('19', '아이스자몽허니블랙티T', '5700', '스타벅스' \n",
      "    );\n",
      "    \n",
      "Summer제주청귤라임에이드T 6300 스타벅스\n",
      "\n",
      "    insert into coupon values ('20', 'Summer제주청귤라임에이드T', '6300', '스타벅스' \n",
      "    );\n",
      "    \n",
      "뿌링클콜라125L 20000 BHC\n",
      "\n",
      "    insert into coupon values ('1', '뿌링클콜라125L', '20000', 'BHC' \n",
      "    );\n",
      "    \n",
      "황금올리브치킨콜라125L 22500 BBQ\n",
      "\n",
      "    insert into coupon values ('2', '황금올리브치킨콜라125L', '22500', 'BBQ' \n",
      "    );\n",
      "    \n",
      "허니콤보웨지감자세트 26000 교촌치킨\n",
      "\n",
      "    insert into coupon values ('3', '허니콤보웨지감자세트', '26000', '교촌치킨' \n",
      "    );\n",
      "    \n",
      "뿌링클치즈볼콜라125L 25000 BHC\n",
      "\n",
      "    insert into coupon values ('4', '뿌링클치즈볼콜라125L', '25000', 'BHC' \n",
      "    );\n",
      "    \n",
      "고추바사삭콜라125L 20000 굽네치킨\n",
      "\n",
      "    insert into coupon values ('5', '고추바사삭콜라125L', '20000', '굽네치킨' \n",
      "    );\n",
      "    \n",
      "반반오리지날웨지감자세트 23000 교촌치킨\n",
      "\n",
      "    insert into coupon values ('6', '반반오리지날웨지감자세트', '23000', '교촌치킨' \n",
      "    );\n",
      "    \n",
      "황금올리브반반콜라125L 23500 BBQ\n",
      "\n",
      "    insert into coupon values ('7', '황금올리브반반콜라125L', '23500', 'BBQ' \n",
      "    );\n",
      "    \n",
      "교촌오리지날웨지감자세트 22000 교촌치킨\n",
      "\n",
      "    insert into coupon values ('8', '교촌오리지날웨지감자세트', '22000', '교촌치킨' \n",
      "    );\n",
      "    \n",
      "골드킹콤보뿌링치즈볼케이준프라이콜라125L 31500 BHC\n",
      "\n",
      "    insert into coupon values ('9', '골드킹콤보뿌링치즈볼케이준프라이콜라125L', '31500', 'BHC' \n",
      "    );\n",
      "    \n",
      "고추바사삭모짜치즈볼콜라125L 25000 굽네치킨\n",
      "\n",
      "    insert into coupon values ('10', '고추바사삭모짜치즈볼콜라125L', '25000', '굽네치킨' \n",
      "    );\n",
      "    \n",
      "후라이드반양념반콜라125L 20000 BHC\n",
      "\n",
      "    insert into coupon values ('11', '후라이드반양념반콜라125L', '20000', 'BHC' \n",
      "    );\n",
      "    \n",
      "황금올리브치킨황금치즈볼5개콜라125L 27500 BBQ\n",
      "\n",
      "    insert into coupon values ('12', '황금올리브치킨황금치즈볼5개콜라125L', '27500', 'BBQ' \n",
      "    );\n",
      "    \n",
      "반반콤보웨지감자세트 26000 교촌치킨\n",
      "\n",
      "    insert into coupon values ('13', '반반콤보웨지감자세트', '26000', '교촌치킨' \n",
      "    );\n",
      "    \n",
      "오리지널블록버스터4피자L콜라125L 35280 도미노피자\n",
      "\n",
      "    insert into coupon values ('14', '오리지널블록버스터4피자L콜라125L', '35280', '도미노피자' \n",
      "    );\n",
      "    \n",
      "블랙알리오블랙치즈볼콜라125L 25800 푸라닭\n",
      "\n",
      "    insert into coupon values ('15', '블랙알리오블랙치즈볼콜라125L', '25800', '푸라닭' \n",
      "    );\n",
      "    \n",
      "고추마요치킨콜라125L 20900 푸라닭\n",
      "\n",
      "    insert into coupon values ('16', '고추마요치킨콜라125L', '20900', '푸라닭' \n",
      "    );\n",
      "    \n",
      "뿌링클콤보콜라125L 22000 BHC\n",
      "\n",
      "    insert into coupon values ('17', '뿌링클콤보콜라125L', '22000', 'BHC' \n",
      "    );\n",
      "    \n",
      "레드콤보웨지감자세트 26000 교촌치킨\n",
      "\n",
      "    insert into coupon values ('18', '레드콤보웨지감자세트', '26000', '교촌치킨' \n",
      "    );\n",
      "    \n",
      "레드콤보12교촌오리웨지감자세트 33000 교촌치킨\n",
      "\n",
      "    insert into coupon values ('19', '레드콤보12교촌오리웨지감자세트', '33000', '교촌치킨' \n",
      "    );\n",
      "    \n",
      "허니콤보퐁듀치즈볼세트 28000 교촌치킨\n",
      "\n",
      "    insert into coupon values ('20', '허니콤보퐁듀치즈볼세트', '28000', '교촌치킨' \n",
      "    );\n",
      "    \n",
      "시그니처생딸기우유생크림케이크 31000 파리바게뜨\n",
      "\n",
      "    insert into coupon values ('1', '시그니처생딸기우유생크림케이크', '31000', '파리바게뜨' \n",
      "    );\n",
      "    \n",
      "모바일금액권3만원권 30000 파리바게뜨\n",
      "\n",
      "    insert into coupon values ('2', '모바일금액권3만원권', '30000', '파리바게뜨' \n",
      "    );\n",
      "    \n",
      "마이넘버원3배달가능 27000 파리바게뜨\n",
      "\n",
      "    insert into coupon values ('3', '마이넘버원3배달가능', '27000', '파리바게뜨' \n",
      "    );\n",
      "    \n",
      "모바일금액권5만원권 50000 파리바게뜨\n",
      "\n",
      "    insert into coupon values ('4', '모바일금액권5만원권', '50000', '파리바게뜨' \n",
      "    );\n",
      "    \n",
      "치즈반티라미수반케이크배달가능 27000 파리바게뜨\n",
      "\n",
      "    insert into coupon values ('5', '치즈반티라미수반케이크배달가능', '27000', '파리바게뜨' \n",
      "    );\n",
      "    \n",
      "시그니처샤인머스캣우유생크림케이크12cm 35000 파리바게뜨\n",
      "\n",
      "    insert into coupon values ('6', '시그니처샤인머스캣우유생크림케이크12cm', '35000', '파리바게뜨' \n",
      "    );\n",
      "    \n",
      "뚜레쥬르올스타케이크 30000 뚜레쥬르\n",
      "\n",
      "    insert into coupon values ('7', '뚜레쥬르올스타케이크', '30000', '뚜레쥬르' \n",
      "    );\n",
      "    \n",
      "우유가득생크림케이크 31000 파리바게뜨\n",
      "\n",
      "    insert into coupon values ('8', '우유가득생크림케이크', '31000', '파리바게뜨' \n",
      "    );\n",
      "    \n",
      "클래식고구마케이크 27000 파리바게뜨\n",
      "\n",
      "    insert into coupon values ('9', '클래식고구마케이크', '27000', '파리바게뜨' \n",
      "    );\n",
      "    \n",
      "해피스마일케이크 23000 파리바게뜨\n",
      "\n",
      "    insert into coupon values ('10', '해피스마일케이크', '23000', '파리바게뜨' \n",
      "    );\n",
      "    \n",
      "모바일금액권1만원권 10000 파리바게뜨\n",
      "\n",
      "    insert into coupon values ('11', '모바일금액권1만원권', '10000', '파리바게뜨' \n",
      "    );\n",
      "    \n",
      "상큼한블루베리쉬폰케이크배달가능 31000 파리바게뜨\n",
      "\n",
      "    insert into coupon values ('12', '상큼한블루베리쉬폰케이크배달가능', '31000', '파리바게뜨' \n",
      "    );\n",
      "    \n",
      "여름한정시그니처우유생크림케이크 31000 파리바게뜨\n",
      "\n",
      "    insert into coupon values ('13', '여름한정시그니처우유생크림케이크', '31000', '파리바게뜨' \n",
      "    );\n",
      "    \n",
      "잔액관리교환권3만원권 30000 뚜레쥬르\n",
      "\n",
      "    insert into coupon values ('14', '잔액관리교환권3만원권', '30000', '뚜레쥬르' \n",
      "    );\n",
      "    \n",
      "여름한정블레싱레드베리케이크배달가능 33000 파리바게뜨\n",
      "\n",
      "    insert into coupon values ('15', '여름한정블레싱레드베리케이크배달가능', '33000', '파리바게뜨' \n",
      "    );\n",
      "    \n",
      "실키롤케익 11000 파리바게뜨\n",
      "\n",
      "    insert into coupon values ('16', '실키롤케익', '11000', '파리바게뜨' \n",
      "    );\n",
      "    \n",
      "여름한정블레싱초코베리케이크배달가능 33000 파리바게뜨\n",
      "\n",
      "    insert into coupon values ('17', '여름한정블레싱초코베리케이크배달가능', '33000', '파리바게뜨' \n",
      "    );\n",
      "    \n",
      "선물하기단독고구마가좋아춘식이고구마케이크 31000 파리바게뜨\n",
      "\n",
      "    insert into coupon values ('18', '선물하기단독고구마가좋아춘식이고구마케이크', '31000', '파리바게뜨' \n",
      "    );\n",
      "    \n",
      "뽀로로의해피데이배달가능 26000 파리바게뜨\n",
      "\n",
      "    insert into coupon values ('19', '뽀로로의해피데이배달가능', '26000', '파리바게뜨' \n",
      "    );\n",
      "    \n",
      "블루베리듬뿍롤케익배달가능 13000 파리바게뜨\n",
      "\n",
      "    insert into coupon values ('20', '블루베리듬뿍롤케익배달가능', '13000', '파리바게뜨' \n",
      "    );\n",
      "    \n",
      "건강보양선물보양엔전복죽 12000 본죽\n",
      "\n",
      "    insert into coupon values ('1', '건강보양선물보양엔전복죽', '12000', '본죽' \n",
      "    );\n",
      "    \n",
      "건강보양선물건강보양삼계전복죽 15000 본죽\n",
      "\n",
      "    insert into coupon values ('2', '건강보양선물건강보양삼계전복죽', '15000', '본죽' \n",
      "    );\n",
      "    \n",
      "건강보양선물모바일금액권3만원권 30000 본죽\n",
      "\n",
      "    insert into coupon values ('3', '건강보양선물모바일금액권3만원권', '30000', '본죽' \n",
      "    );\n",
      "    \n",
      "건강선물남녀노소쇠고기야채죽 10000 본죽\n",
      "\n",
      "    insert into coupon values ('4', '건강선물남녀노소쇠고기야채죽', '10000', '본죽' \n",
      "    );\n",
      "    \n",
      "기프트카드10만원권 100000 아웃백\n",
      "\n",
      "    insert into coupon values ('5', '기프트카드10만원권', '100000', '아웃백' \n",
      "    );\n",
      "    \n",
      "기프트카드5만원권 50000 아웃백\n",
      "\n",
      "    insert into coupon values ('6', '기프트카드5만원권', '50000', '아웃백' \n",
      "    );\n",
      "    \n",
      "건강보양선물트러플전복죽특 23000 본죽\n",
      "\n",
      "    insert into coupon values ('7', '건강보양선물트러플전복죽특', '23000', '본죽' \n",
      "    );\n",
      "    \n",
      "건강보양선물특전복죽 20000 본죽\n",
      "\n",
      "    insert into coupon values ('8', '건강보양선물특전복죽', '20000', '본죽' \n",
      "    );\n",
      "    \n",
      "건강보양선물모바일금액권2만원권 20000 본죽\n",
      "\n",
      "    insert into coupon values ('9', '건강보양선물모바일금액권2만원권', '20000', '본죽' \n",
      "    );\n",
      "    \n",
      "건강엔삼계죽 11000 본죽\n",
      "\n",
      "    insert into coupon values ('10', '건강엔삼계죽', '11000', '본죽' \n",
      "    );\n",
      "    \n",
      "건강보양선물전복이2배진전복죽 16000 본죽\n",
      "\n",
      "    insert into coupon values ('11', '건강보양선물전복이2배진전복죽', '16000', '본죽' \n",
      "    );\n",
      "    \n",
      "건강보양선물트러플전복죽기본 16000 본죽\n",
      "\n",
      "    insert into coupon values ('12', '건강보양선물트러플전복죽기본', '16000', '본죽' \n",
      "    );\n",
      "    \n",
      "건강보양선물모바일금액권5만원권 50000 본죽\n",
      "\n",
      "    insert into coupon values ('13', '건강보양선물모바일금액권5만원권', '50000', '본죽' \n",
      "    );\n",
      "    \n",
      "해장엔낙지김치죽 10000 본죽\n",
      "\n",
      "    insert into coupon values ('14', '해장엔낙지김치죽', '10000', '본죽' \n",
      "    );\n",
      "    \n",
      "아프지마속상해세트쇠고기야채죽장조림 22900 본죽\n",
      "\n",
      "    insert into coupon values ('15', '아프지마속상해세트쇠고기야채죽장조림', '22900', '본죽' \n",
      "    );\n",
      "    \n",
      "기프트카드10만원권 100000 빕스\n",
      "\n",
      "    insert into coupon values ('16', '기프트카드10만원권', '100000', '빕스' \n",
      "    );\n",
      "    \n",
      "원기회복건강보양선물완도전복죽 13000 죽이야기\n",
      "\n",
      "    insert into coupon values ('17', '원기회복건강보양선물완도전복죽', '13000', '죽이야기' \n",
      "    );\n",
      "    \n",
      "쇠고기야채죽소불고기비빔밥 20000 본죽&비빔밥\n",
      "\n",
      "    insert into coupon values ('18', '쇠고기야채죽소불고기비빔밥', '20000', '본죽&비빔밥' \n",
      "    );\n",
      "    \n",
      "듀오갈릭스테이크세트D1아웃백스페셜갈릭스테이크투움바파스타수프2산펠레그리노2딜리버리 72900 아웃백\n",
      "\n",
      "    insert into coupon values ('19', '듀오갈릭스테이크세트D1아웃백스페셜갈릭스테이크투움바파스타수프2산펠레그리노2딜리버리', '72900', '아웃백' \n",
      "    );\n",
      "    \n",
      "영양만점쇠고기버섯죽 9500 본죽\n",
      "\n",
      "    insert into coupon values ('20', '영양만점쇠고기버섯죽', '9500', '본죽' \n",
      "    );\n",
      "    \n",
      "팝콘먹다손스침세트2D영화관람권2매고소팝콘L1개콜라M2 31000 CGV\n",
      "\n",
      "    insert into coupon values ('1', '팝콘먹다손스침세트2D영화관람권2매고소팝콘L1개콜라M2', '31000', 'CGV' \n",
      "    );\n",
      "    \n",
      "2D영화관람권 12000 CGV\n",
      "\n",
      "    insert into coupon values ('2', '2D영화관람권', '12000', 'CGV' \n",
      "    );\n",
      "    \n",
      "2인패키지2D영화관람권2매오리지널팝콘L1개콜라M2개 28000 롯데시네마\n",
      "\n",
      "    insert into coupon values ('3', '2인패키지2D영화관람권2매오리지널팝콘L1개콜라M2개', '28000', '롯데시네마' \n",
      "    );\n",
      "    \n",
      "2인2D영화관람권 22000 롯데시네마\n",
      "\n",
      "    insert into coupon values ('4', '2인2D영화관람권', '22000', '롯데시네마' \n",
      "    );\n",
      "    \n",
      "인생은영화처럼2인세트관람권2팝콘L음료R2주중주말 30000 메가박스\n",
      "\n",
      "    insert into coupon values ('5', '인생은영화처럼2인세트관람권2팝콘L음료R2주중주말', '30000', '메가박스' \n",
      "    );\n",
      "    \n",
      "수고했어오늘도세트2D영화관람권1매고소팝콘M1개콜라M1 17000 CGV\n",
      "\n",
      "    insert into coupon values ('6', '수고했어오늘도세트2D영화관람권1매고소팝콘M1개콜라M1', '17000', 'CGV' \n",
      "    );\n",
      "    \n",
      "2인관람권주중주말 24000 메가박스\n",
      "\n",
      "    insert into coupon values ('7', '2인관람권주중주말', '24000', '메가박스' \n",
      "    );\n",
      "    \n",
      "롯데시네마2D영화관람권 11000 롯데시네마\n",
      "\n",
      "    insert into coupon values ('8', '롯데시네마2D영화관람권', '11000', '롯데시네마' \n",
      "    );\n",
      "    \n",
      "CGV콤보 9000 CGV\n",
      "\n",
      "    insert into coupon values ('9', 'CGV콤보', '9000', 'CGV' \n",
      "    );\n",
      "    \n",
      "1인관람권주중주말 12000 메가박스\n",
      "\n",
      "    insert into coupon values ('10', '1인관람권주중주말', '12000', '메가박스' \n",
      "    );\n",
      "    \n",
      "스위트콤보교환권 8500 롯데시네마\n",
      "\n",
      "    insert into coupon values ('11', '스위트콤보교환권', '8500', '롯데시네마' \n",
      "    );\n",
      "    \n",
      "샤롯데2인관람권 60000 롯데시네마\n",
      "\n",
      "    insert into coupon values ('12', '샤롯데2인관람권', '60000', '롯데시네마' \n",
      "    );\n",
      "    \n",
      "4DX관람권 19000 CGV\n",
      "\n",
      "    insert into coupon values ('13', '4DX관람권', '19000', 'CGV' \n",
      "    );\n",
      "    \n",
      "모바일금액권3만원권 30000 롯데시네마\n",
      "\n",
      "    insert into coupon values ('14', '모바일금액권3만원권', '30000', '롯데시네마' \n",
      "    );\n",
      "    \n",
      "모바일금액권5만원권 50000 롯데시네마\n",
      "\n",
      "    insert into coupon values ('15', '모바일금액권5만원권', '50000', '롯데시네마' \n",
      "    );\n",
      "    \n",
      "디지털상품권5만원권 50000 메가박스\n",
      "\n",
      "    insert into coupon values ('16', '디지털상품권5만원권', '50000', '메가박스' \n",
      "    );\n",
      "    \n",
      "라이프시어터1인세트관람권1팝콘R음료R주중주말 18000 메가박스\n",
      "\n",
      "    insert into coupon values ('17', '라이프시어터1인세트관람권1팝콘R음료R주중주말', '18000', '메가박스' \n",
      "    );\n",
      "    \n",
      "모바일금액권2만원권 20000 롯데시네마\n",
      "\n",
      "    insert into coupon values ('18', '모바일금액권2만원권', '20000', '롯데시네마' \n",
      "    );\n",
      "    \n",
      "더부티크스위트주중주말2인 70000 메가박스\n",
      "\n",
      "    insert into coupon values ('19', '더부티크스위트주중주말2인', '70000', '메가박스' \n",
      "    );\n",
      "    \n",
      "GOLDCLASS관람권 40000 CGV\n",
      "\n",
      "    insert into coupon values ('20', 'GOLDCLASS관람권', '40000', 'CGV' \n",
      "    );\n",
      "    \n",
      "신세계상품권모바일교환권100000원 100000 이마트,신세계상품권\n",
      "\n",
      "    insert into coupon values ('1', '신세계상품권모바일교환권100000원', '100000', '이마트,신세계상품권' \n",
      "    );\n",
      "    \n",
      "신세계상품권모바일교환권50000원 50000 이마트,신세계상품권\n",
      "\n",
      "    insert into coupon values ('2', '신세계상품권모바일교환권50000원', '50000', '이마트,신세계상품권' \n",
      "    );\n",
      "    \n",
      "롯데모바일교환권100000원 100000 롯데모바일교환권\n",
      "\n",
      "    insert into coupon values ('3', '롯데모바일교환권100000원', '100000', '롯데모바일교환권' \n",
      "    );\n",
      "    \n",
      "요기요상품권3만원권교환권 30000 요기요\n",
      "\n",
      "    insert into coupon values ('4', '요기요상품권3만원권교환권', '30000', '요기요' \n",
      "    );\n",
      "    \n",
      "롯데모바일교환권50000원 50000 롯데모바일교환권\n",
      "\n",
      "    insert into coupon values ('5', '롯데모바일교환권50000원', '50000', '롯데모바일교환권' \n",
      "    );\n",
      "    \n",
      "요기요상품권5만원권교환권 50000 요기요\n",
      "\n",
      "    insert into coupon values ('6', '요기요상품권5만원권교환권', '50000', '요기요' \n",
      "    );\n",
      "    \n",
      "신세계상품권모바일교환권30000원 30000 이마트,신세계상품권\n",
      "\n",
      "    insert into coupon values ('7', '신세계상품권모바일교환권30000원', '30000', '이마트,신세계상품권' \n",
      "    );\n",
      "    \n",
      "신세계상품권모바일교환권300000원 300000 이마트,신세계상품권\n",
      "\n",
      "    insert into coupon values ('8', '신세계상품권모바일교환권300000원', '300000', '이마트,신세계상품권' \n",
      "    );\n",
      "    \n",
      "모바일주유권5만원권교환권 50000 S-OIL\n",
      "\n",
      "    insert into coupon values ('9', '모바일주유권5만원권교환권', '50000', 'S-OIL' \n",
      "    );\n",
      "    \n",
      "롯데모바일교환권200000원 200000 롯데모바일교환권\n",
      "\n",
      "    insert into coupon values ('10', '롯데모바일교환권200000원', '200000', '롯데모바일교환권' \n",
      "    );\n",
      "    \n",
      "요기요상품권2만원권교환권 20000 요기요\n",
      "\n",
      "    insert into coupon values ('11', '요기요상품권2만원권교환권', '20000', '요기요' \n",
      "    );\n",
      "    \n",
      "컬쳐랜드PIN50000원권교환권 50000 문화상품권\n",
      "\n",
      "    insert into coupon values ('12', '컬쳐랜드PIN50000원권교환권', '50000', '문화상품권' \n",
      "    );\n",
      "    \n",
      "컬쳐랜드PIN10000원권교환권 10000 문화상품권\n",
      "\n",
      "    insert into coupon values ('13', '컬쳐랜드PIN10000원권교환권', '10000', '문화상품권' \n",
      "    );\n",
      "    \n",
      "롯데모바일교환권300000원 300000 롯데모바일교환권\n",
      "\n",
      "    insert into coupon values ('14', '롯데모바일교환권300000원', '300000', '롯데모바일교환권' \n",
      "    );\n",
      "    \n",
      "금액권5만원권 50000 이마트,트레이더스\n",
      "\n",
      "    insert into coupon values ('15', '금액권5만원권', '50000', '이마트,트레이더스' \n",
      "    );\n",
      "    \n",
      "모바일주유권3만원권교환권 30000 S-OIL\n",
      "\n",
      "    insert into coupon values ('16', '모바일주유권3만원권교환권', '30000', 'S-OIL' \n",
      "    );\n",
      "    \n",
      "카카오페이상품권5만원권교환권 50000 카카오페이상품권\n",
      "\n",
      "    insert into coupon values ('17', '카카오페이상품권5만원권교환권', '50000', '카카오페이상품권' \n",
      "    );\n",
      "    \n",
      "컬쳐랜드PIN30000원권교환권 30000 문화상품권\n",
      "\n",
      "    insert into coupon values ('18', '컬쳐랜드PIN30000원권교환권', '30000', '문화상품권' \n",
      "    );\n",
      "    \n",
      "5만원권 50000 홈플러스\n",
      "\n",
      "    insert into coupon values ('19', '5만원권', '50000', '홈플러스' \n",
      "    );\n",
      "    \n",
      "롯데모바일교환권30000원 30000 롯데모바일교환권\n",
      "\n",
      "    insert into coupon values ('20', '롯데모바일교환권30000원', '30000', '롯데모바일교환권' \n",
      "    );\n",
      "    \n",
      "기프트카드3만원권 30000 올리브영\n",
      "\n",
      "    insert into coupon values ('1', '기프트카드3만원권', '30000', '올리브영' \n",
      "    );\n",
      "    \n",
      "모바일금액권10000원 10000 CU\n",
      "\n",
      "    insert into coupon values ('2', '모바일금액권10000원', '10000', 'CU' \n",
      "    );\n",
      "    \n",
      "기프트카드5만원권 50000 올리브영\n",
      "\n",
      "    insert into coupon values ('3', '기프트카드5만원권', '50000', '올리브영' \n",
      "    );\n",
      "    \n",
      "기프트카드2만원권 20000 올리브영\n",
      "\n",
      "    insert into coupon values ('4', '기프트카드2만원권', '20000', '올리브영' \n",
      "    );\n",
      "    \n",
      "모바일금액권5000원 5000 CU\n",
      "\n",
      "    insert into coupon values ('5', '모바일금액권5000원', '5000', 'CU' \n",
      "    );\n",
      "    \n",
      "모바일상품권5천원권 5000 GS25\n",
      "\n",
      "    insert into coupon values ('6', '모바일상품권5천원권', '5000', 'GS25' \n",
      "    );\n",
      "    \n",
      "모바일상품권1만원권 10000 GS25\n",
      "\n",
      "    insert into coupon values ('7', '모바일상품권1만원권', '10000', 'GS25' \n",
      "    );\n",
      "    \n",
      "모바일금액권3000원 3000 CU\n",
      "\n",
      "    insert into coupon values ('8', '모바일금액권3000원', '3000', 'CU' \n",
      "    );\n",
      "    \n",
      "모바일금액권30000원 30000 CU\n",
      "\n",
      "    insert into coupon values ('9', '모바일금액권30000원', '30000', 'CU' \n",
      "    );\n",
      "    \n",
      "빙그레바나나우유240ml 1500 CU\n",
      "\n",
      "    insert into coupon values ('10', '빙그레바나나우유240ml', '1500', 'CU' \n",
      "    );\n",
      "    \n",
      "기프트카드1만원권 10000 올리브영\n",
      "\n",
      "    insert into coupon values ('11', '기프트카드1만원권', '10000', '올리브영' \n",
      "    );\n",
      "    \n",
      "1만원모바일상품권 10000 세븐일레븐\n",
      "\n",
      "    insert into coupon values ('12', '1만원모바일상품권', '10000', '세븐일레븐' \n",
      "    );\n",
      "    \n",
      "모바일상품권3천원권 3000 GS25\n",
      "\n",
      "    insert into coupon values ('13', '모바일상품권3천원권', '3000', 'GS25' \n",
      "    );\n",
      "    \n",
      "모바일상품권2만원권 20000 GS25\n",
      "\n",
      "    insert into coupon values ('14', '모바일상품권2만원권', '20000', 'GS25' \n",
      "    );\n",
      "    \n",
      "남양초코에몽드링크 1100 CU\n",
      "\n",
      "    insert into coupon values ('15', '남양초코에몽드링크', '1100', 'CU' \n",
      "    );\n",
      "    \n",
      "5천원모바일상품권 5000 세븐일레븐\n",
      "\n",
      "    insert into coupon values ('16', '5천원모바일상품권', '5000', '세븐일레븐' \n",
      "    );\n",
      "    \n",
      "모바일금액권20000원 20000 CU\n",
      "\n",
      "    insert into coupon values ('17', '모바일금액권20000원', '20000', 'CU' \n",
      "    );\n",
      "    \n",
      "당떨어진날필수템남양초코에몽250ml롯데가나마일드초콜릿34g 2400 CU\n",
      "\n",
      "    insert into coupon values ('18', '당떨어진날필수템남양초코에몽250ml롯데가나마일드초콜릿34g', '2400', 'CU' \n",
      "    );\n",
      "    \n",
      "모바일상품권3만원권 30000 GS25\n",
      "\n",
      "    insert into coupon values ('19', '모바일상품권3만원권', '30000', 'GS25' \n",
      "    );\n",
      "    \n",
      "빙그레바나나우유240ML 1500 GS25\n",
      "\n",
      "    insert into coupon values ('20', '빙그레바나나우유240ML', '1500', 'GS25' \n",
      "    );\n",
      "    \n"
     ]
    }
   ],
   "source": [
    "db = pymysql.connect(host='localhost', port=3306, user='root', passwd='1234', db='mywork', charset='utf8')\n",
    "\n",
    "cursor = db.cursor()\n",
    "\n",
    "for i, (x,y,z) in enumerate(zip(give_coupon100_name[:20], give_coupon100_price[:20], give_coupon100_brand[:20])):\n",
    "    xx = str(x)\n",
    "    y1 = y.replace('원', '')\n",
    "    y2 = y1.replace(',', '')\n",
    "    yy = int(y2)\n",
    "    zz = str(z)\n",
    "    print(xx, yy, zz)\n",
    "    sql = r\"\"\"\n",
    "    insert into coupon values ('{0}', '{1}', '{2}', '{3}' \n",
    "    );\n",
    "    \"\"\".format(i+1, xx, yy, zz)\n",
    "    print(sql)\n",
    "    cursor.execute(sql)\n",
    "    \n",
    "for i, (x,y,z) in enumerate(zip(give_coupon100_name[20:40], give_coupon100_price[20:40], give_coupon100_brand[20:40])):\n",
    "    xx = str(x)\n",
    "    y1 = y.replace('원', '')\n",
    "    y2 = y1.replace(',', '')\n",
    "    yy = int(y2)\n",
    "    zz = str(z)\n",
    "    print(xx, yy, zz)\n",
    "    sql = r\"\"\"\n",
    "    insert into coupon values ('{0}', '{1}', '{2}', '{3}' \n",
    "    );\n",
    "    \"\"\".format(i+1, xx, yy, zz)\n",
    "    print(sql)\n",
    "    cursor.execute(sql)\n",
    "    \n",
    "for i, (x,y,z) in enumerate(zip(give_coupon100_name[40:60], give_coupon100_price[40:60], give_coupon100_brand[40:60])):\n",
    "    xx = str(x)\n",
    "    y1 = y.replace('원', '')\n",
    "    y2 = y1.replace(',', '')\n",
    "    yy = int(y2)\n",
    "    zz = str(z)\n",
    "    print(xx, yy, zz)\n",
    "    sql = r\"\"\"\n",
    "    insert into coupon values ('{0}', '{1}', '{2}', '{3}' \n",
    "    );\n",
    "    \"\"\".format(i+1, xx, yy, zz)\n",
    "    print(sql)\n",
    "    cursor.execute(sql)\n",
    "    \n",
    "for i, (x,y,z) in enumerate(zip(give_coupon100_name[60:80], give_coupon100_price[60:80], give_coupon100_brand[60:80])):\n",
    "    xx = str(x)\n",
    "    y1 = y.replace('원', '')\n",
    "    y2 = y1.replace(',', '')\n",
    "    yy = int(y2)\n",
    "    zz = str(z)\n",
    "    print(xx, yy, zz)\n",
    "    sql = r\"\"\"\n",
    "    insert into coupon values ('{0}', '{1}', '{2}', '{3}' \n",
    "    );\n",
    "    \"\"\".format(i+1, xx, yy, zz)\n",
    "    print(sql)\n",
    "    cursor.execute(sql)\n",
    "    \n",
    "for i, (x,y,z) in enumerate(zip(give_coupon100_name[80:100], give_coupon100_price[80:100], give_coupon100_brand[80:100])):\n",
    "    xx = str(x)\n",
    "    y1 = y.replace('원', '')\n",
    "    y2 = y1.replace(',', '')\n",
    "    yy = int(y2)\n",
    "    zz = str(z)\n",
    "    print(xx, yy, zz)\n",
    "    sql = r\"\"\"\n",
    "    insert into coupon values ('{0}', '{1}', '{2}', '{3}' \n",
    "    );\n",
    "    \"\"\".format(i+1, xx, yy, zz)\n",
    "    print(sql)\n",
    "    cursor.execute(sql)\n",
    "    \n",
    "for i, (x,y,z) in enumerate(zip(give_coupon100_name[100:120], give_coupon100_price[100:120], give_coupon100_brand[100:120])):\n",
    "    xx = str(x)\n",
    "    y1 = y.replace('원', '')\n",
    "    y2 = y1.replace(',', '')\n",
    "    yy = int(y2)\n",
    "    zz = str(z)\n",
    "    print(xx, yy, zz)\n",
    "    sql = r\"\"\"\n",
    "    insert into coupon values ('{0}', '{1}', '{2}', '{3}' \n",
    "    );\n",
    "    \"\"\".format(i+1, xx, yy, zz)\n",
    "    print(sql)\n",
    "    cursor.execute(sql)\n",
    "    \n",
    "for i, (x,y,z) in enumerate(zip(give_coupon100_name[120:140], give_coupon100_price[120:140], give_coupon100_brand[120:140])):\n",
    "    xx = str(x)\n",
    "    y1 = y.replace('원', '')\n",
    "    y2 = y1.replace(',', '')\n",
    "    yy = int(y2)\n",
    "    zz = str(z)\n",
    "    print(xx, yy, zz)\n",
    "    sql = r\"\"\"\n",
    "    insert into coupon values ('{0}', '{1}', '{2}', '{3}' \n",
    "    );\n",
    "    \"\"\".format(i+1, xx, yy, zz)\n",
    "    print(sql)\n",
    "    cursor.execute(sql)\n",
    "    \n",
    "for i, (x,y,z) in enumerate(zip(give_coupon100_name[140:160], give_coupon100_price[140:160], give_coupon100_brand[140:160])):\n",
    "    xx = str(x)\n",
    "    y1 = y.replace('원', '')\n",
    "    y2 = y1.replace(',', '')\n",
    "    yy = int(y2)\n",
    "    zz = str(z)\n",
    "    print(xx, yy, zz)\n",
    "    sql = r\"\"\"\n",
    "    insert into coupon values ('{0}', '{1}', '{2}', '{3}' \n",
    "    );\n",
    "    \"\"\".format(i+1, xx, yy, zz)\n",
    "    print(sql)\n",
    "    cursor.execute(sql)\n",
    "    \n",
    "db.commit()\n",
    "db.close()"
   ]
  }
 ],
 "metadata": {
  "kernelspec": {
   "display_name": "Python 3 (ipykernel)",
   "language": "python",
   "name": "python3"
  },
  "language_info": {
   "codemirror_mode": {
    "name": "ipython",
    "version": 3
   },
   "file_extension": ".py",
   "mimetype": "text/x-python",
   "name": "python",
   "nbconvert_exporter": "python",
   "pygments_lexer": "ipython3",
   "version": "3.9.12"
  }
 },
 "nbformat": 4,
 "nbformat_minor": 5
}
